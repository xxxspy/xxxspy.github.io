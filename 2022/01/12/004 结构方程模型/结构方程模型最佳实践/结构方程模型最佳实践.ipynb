{
 "cells": [
  {
   "cell_type": "markdown",
   "metadata": {},
   "source": [
    "---\n",
    "\n",
    "title: 结构方程模型最佳实践\n",
    "date: 2022-01-12 12:44:03\n",
    "tags: [结构方程, amos]\n",
    "\n",
    "---\n",
    "\n",
    "这是结构方程模型入门教程, 前面介绍理论部分, 后面会结合案例使用amos软件进行结构方程模型分析, 还会讲解如何汇报和整理结果。\n",
    "\n",
    "本教程还提供视频教程, 不过视频教程是收费的, 视频和数据的下载地址在最后。\n",
    "\n",
    "<!--more-->"
   ]
  },
  {
   "cell_type": "markdown",
   "metadata": {},
   "source": [
    "# 前言\n",
    "\n",
    "由于很多学生在使用结构方程模型时, 不理解其原理, 造成错误百出, 更严重的是,\n",
    "他们的指导老师也没有能力看出统计的错误, 导致大量不合格的论文出现。\n",
    "因此我们编辑了这篇文章, 帮大家梳理结构方程的必要步骤, 以及如何汇报结果,\n",
    "避免常见错误。\n",
    "\n",
    "本文介绍了结构方程模型 (SEM)的最佳实践，以及这种统计技术在实际应用中的重要性。\n",
    "由于是\"实践\", 文章尽量以简短的篇幅讲清楚你应该做什么和不应该做什么,\n",
    "最终目的就是正确的做完论文或者分析报告。\n",
    "\n",
    "SEM是一个非常强大的统计建模工具，它将测量模型和结构模型合并到\n",
    "协方差结构分析框架。本文在此简要介绍了SEM方法的主要步骤和特点，并且, \n",
    "探索性因子分析 (EFA) 和验证性因素分析 (CFA) 通常用作建模设计的中间阶段, 也一并进行了介绍。\n",
    "\n"
   ]
  },
  {
   "cell_type": "markdown",
   "metadata": {},
   "source": [
    "# 结构方程特点\n",
    "\n",
    "## 两种结构\n",
    "\n",
    "<img src=\"imgs/measure-structural.png\">\n"
   ]
  },
  {
   "cell_type": "markdown",
   "metadata": {},
   "source": [
    "结构方程模型通常由两部分构成: 测量模型(mearurement model)和结构模型(structural model), 在上图中可以看到, \n",
    "测量模型就是我们常说的因子结构, 因为有三个潜变量($\\eta_1 \\eta_2 \\xi$), 所以有三个测量模型。而这三个变量间的关系,\n",
    "就是结构模型, 这部分我们也可以叫做路径分析。"
   ]
  },
  {
   "cell_type": "markdown",
   "metadata": {},
   "source": [
    "## 测量模型\n",
    "\n",
    "你可以理解为因子结构。\n",
    "\n",
    "探索性因子分析(EFA)通常被用作研究的初步步骤，如果你理论上, 或者根据前人经验, 是无法确定题目的因子结构,\n",
    "你需要做EFA来提取因子, 为CFA做准备。但是, 由于大多数时候, 我们已经知道理论上的因子结构, 比如, \n",
    "研究者根据某种因子结构设计的问卷, 或者使用前人验证过的问卷(所谓的验证就是做过CFA测试), 那么EFA不是必须汇报的,\n",
    "不过作为研究者, 在做CFA之前做一下EFA没有坏处, 即便做了, 也并不一定要汇报, 这就是他们的关系。\n"
   ]
  },
  {
   "cell_type": "markdown",
   "metadata": {},
   "source": [
    "## 结构模型\n",
    "\n",
    "SEM 也可以被视为所谓的路径（因果）分析。路径分析\n",
    "是多元回归分析的扩展，因为多元回归只有1个因变量, \n",
    "但是在路径分析中, 变量间的关系很复杂, 自变量可能同时也是因变量, \n",
    "因变量可能有多个, 所以路径分析让我们能够研究更复杂的变量关系。\n",
    "由于这些关系通常暗藏在显变量的协方差矩阵中，\n",
    "协方差矩阵是SEM的输入数据,\n",
    "SEM有时也称为协方差结构分析 [2]。"
   ]
  },
  {
   "cell_type": "markdown",
   "metadata": {},
   "source": [
    "# SEM建模流程\n",
    "\n",
    "## 第一步: 理论框架\n",
    "\n",
    "<img src=\"imgs/theory-graph.png\">\n",
    "\n",
    "根据你的经验, 或者对文献的梳理, 你可以画出这样的一个理论关系图吗? 这是你首先要做的, 在你什么都没有的情况下, \n",
    "你需要首先构建这样一个理论模型, 以便指导你后续的工作。 如果你感觉无能为力, 做不出这样的理论框架, 说明你没有看文献,\n",
    "或者对自己的专业一无所知, 那么你现在就需要去看文献, 其实很简单, 让"
   ]
  },
  {
   "cell_type": "markdown",
   "metadata": {},
   "source": [
    "这个图的符号很简单, 双向箭头代表相关关系, 看图中, IN和DN是相关的, 不存在因果关系; \n",
    "再看IN和CET之间的关系, 箭头从IN指向CET, 指的是IN对CET有影响, 自变量是IN, 因变量是CET。\n",
    "\n",
    "当然, 我们还可能需要表达调节关系, 比如下图这样, GN的箭头指向了IN和CET之间的连线, 这说明GN可以影响IN和CET之间的关系, \n",
    "注意这句话, GN影响的是关系, 而不是图中列出的变量。\n",
    "\n",
    "<img src=\"imgs/theory-graph2.png\">"
   ]
  },
  {
   "cell_type": "markdown",
   "metadata": {},
   "source": [
    "如果你好奇我们是怎么做上面的理论图的, 我建议你使用word绘制, 或者一些在线工具, 比如: https://www.mlln.cn/drawio/"
   ]
  },
  {
   "cell_type": "markdown",
   "metadata": {},
   "source": [
    "## 第二步 列出理论假设\n",
    "\n",
    "理论假设就是你关心的想要证明的结论。我们可以举几个例子:\n",
    "\n",
    "- 假设1: IN对CET有正向影响\n",
    "- 假设2:DN对CET有负向影响\n",
    "- 假设3:GN可以影响IN与CET的关系, 具体来说, GN增大可以增强IN与CET的关系, 也就是说GN正向调节IN与CET的关系。\n",
    "\n",
    "你需要注意的地方是:\n",
    "\n",
    "- 所有的关系必须指出是正向还是负向, 而不能说, 你不确定正负, 让数据来检验, 这是完全错误的思路\n",
    "- 图中的关系不必全部改成假设, 假设必须是你关心的并且重要的, 能够体现你论文价值的\n",
    "\n"
   ]
  },
  {
   "cell_type": "markdown",
   "metadata": {},
   "source": [
    "## 第三步 设计问卷或者数据指标\n",
    "\n",
    "这一步主要是构建你的结构方程的测量模型, 对于问卷研究, 通常是寻找前人研究中用过的量表, \n",
    "最好是经过CFA检验的量表, 因为如果你使用的量表的作者没有分析过CFA, 那么大概率上,\n",
    "这个量表在CFA上可能会表现不好。很多同学抱怨SEM结果拟合很差, 可能你从选择量表这一步就错了!\n",
    "\n",
    "对于经济学甚至工科的一些学生, 如果使用的经济指标作为变量, 在此基础上提取潜变量, \n",
    "你必须注意, 前人有没有用过这些指标作为潜变量的指标, 如果没有, 你也要慎重使用,\n",
    "你很可能无法在CFA分析中得到好结果。"
   ]
  },
  {
   "cell_type": "markdown",
   "metadata": {},
   "source": [
    "在这一步最重要的成果是列出测量指标, 比如下面这样的表格:\n",
    "\n",
    "<img src=\"imgs/manifactors.png\">"
   ]
  },
  {
   "cell_type": "markdown",
   "metadata": {},
   "source": [
    "下面是一个错误示范, 这个列表没有列出来每个题目所归属的因子或变量, 并且这些变量都不适合做结构方程, 他们要么是分类数据, 要么变量之间没有任何相关关系却归属到一个因子, 比如原作者把X4(来源地)和X5(教育程度)归结为1个因子, 这种随意的把测量指标分组, 并声称他们是什么因子, 都是错误的! 并且这种文章一旦发表就会遗臭万年。 你一定不能想象, 下面这个截图就是从发表的文章中截取的。\n",
    "\n",
    "<img src=\"imgs/manifactors2.png\">"
   ]
  },
  {
   "cell_type": "markdown",
   "metadata": {},
   "source": [
    "### 每个因子有几个测量指标(题目)比较好\n",
    "\n",
    "推荐4个指标, 最低三个指标, 如果只有两个, 那么你的模型很难拟合, 内部一致性信度也会偏低, 如果只有1个指标, 那不构成一个潜变量, 直接用这个指标当作显变量."
   ]
  },
  {
   "cell_type": "markdown",
   "metadata": {},
   "source": [
    "## 第四步 数据前测\n",
    "\n",
    "在做大规模收集数据之前, 先小规模测试, 比如50人的样本测试, 然后对你的数据质量进行检验。\n",
    "\n",
    "<a ref=\"https://www.mlln.cn/drawio/?lightbox=1&highlight=0000ff&edit=_blank&layers=1&nav=1&title=%E6%9C%AA%E5%91%BD%E5%90%8D%E8%A1%A8%E5%8D%95.xml#R7Vttk6o2FP41%2BXqHEF7CR1BoZ9pOO7Mf2n5kNav0onEwrmt%2FfRMIIEl0d1Vwe9F7ZzYcw1vOc5485yQCNFm9%2FVSkm%2BVvdE5yYFvzN4CmwLZhYGP%2BR1gOlSXATmVYFNlcdmoNT9m%2FRBotad1lc7LtdGSU5izbdI0zul6TGevY0qKg%2B263F5p377pJF0QzPM3SXLf%2Bmc3ZsrJi22%2FtP5NssazvDL2g%2BuY5nX1fFHS3lvcDNnopP9XXq7S%2BlnzR7TKd0%2F2RCcUATQpKWdVavU1ILsa2HrbqvOTEt81zF2TNPnKCKx%2BDHepXJ3M%2BEvJwTdf8T1S%2BDxFnWPxoyVY5b0Le5DcpDn8J%2Bze3PvxbdsvTZ5JHzXBMaE6L8g4oSSz%2B4V22LC1YKNzV3qu0JVmey8uQ9bzuMcvT7TabVUbZRTzFP4Sxg8RQumOUm2jBlnRB12n%2BK6Ub2W%2FLCvqdHD0IDMW%2F5pva09wJ0QtdM3lJG8pj05nV8IkxO%2BkAadrSXTGTvZCEdFosiOzlNM7nQUXoivCh5F0Kkqcse%2B1ePZXoXjT9Wg%2FzhnSy2eHy1q9pvpMXBbEHAhdElmjgKQhjEAcA%2B%2BI%2FbwQRwJ6GkhYSYnT2y4yRp01avt%2BeU0IXJieg0HhccUuSTPhHDDr3sdH%2BKee8koKRt%2FPu0QdenoA8GaiSyJA83LesAOtYXh4xQn3aNa7yza7CIEzuErXi8wWi1rIa%2Brg0ahVgSYa%2BNJodPZq9gaI5MEDEBYEFQj1kPwOR%2FwEM7kbeBnfjgdztGBkBY%2BHx2Bc8HSQ1efMGZwoIQqyT95KunnfbH5u4rS5xQ19nbtsxMDe%2BAXPb%2BpgfR18L8Li1%2FrB8fbdA9fRArfTuAJHqaZE6ScLxqigXfXM74egOKaQgNCupCcDBmJXU3SIT65EJ7SsjU576B834jRvk%2BUjR70jBU%2FUM8iwFUs1jfAxlJ%2FS6D0LrLMoe08HdQDeUTsdnCIjrtdAG2Cn1WgyiuJTwkUANb4RTIe7GqOA8930FB72eFBw01UkcECVCUnO3RKFIsYR%2FeHvaS3jDTnCXsf4I79PhXU0g90nDoSm%2BTWiJfBHivUwGD7Rci5bBZoP65sp0ELkAR0fpuwagUc4CagHWlDj0lsc%2FhNtXiFVDIg%2BDoWJVz%2BTjEWfygZpPOQPm8bYpjy%2FVc4BF%2FVOI5ljIaK6qw6RfdabE8KNo%2Fk4MB4YYvjbl%2FzBuTGJexw2fb7FYAG0A9FD1XxI39k1KRXys0sNRh40oAW2PrqxUkoKgy3wuthQMVle8uHxkWsszkRsHJg7L8oEnqgNjFIUB7PrCcQcsDdSrcI8J5Z7EYJsSuLsQg1pidtUtV5%2FrfzWR1CPz%2FmyXlA1OJLytL4SMRdJ6vuIPE5n0JmlNiwYD6tZH7vkOzbgG%2FTFUnagmCrWsWKnUHlAyDiScq5neDiXoBOtcuaCpspVv9bagWb%2BVut0oKncZldvM8Eg3FznqfoamTDlIWVKvSYmJPeKOQeV8PhUeGut8rm82wdaAMzoyF%2FerbQCiyo%2FEbutj%2BcWTuBD1Mtk%2Fig2fonFU%2F9TklotCF%2BUUEEIzzZ9KKrQTkH%2FbrAKdXhBvQfz7L0No1vEoldvB%2BOqNj5elxnaXiH3vPIod6Jzrfz2ITQsIGhOLBpYLr0Es9M4YNY4qNI0KB95G4fDD9idvlV%2Fb3xWi%2BD8%3D\"><img src=\"imgs/sem-flow.png\"></a>\n",
    "\n",
    "流程图的高清图在[这里](https://www.mlln.cn/drawio/?lightbox=1&highlight=0000ff&edit=_blank&layers=1&nav=1&title=%E6%9C%AA%E5%91%BD%E5%90%8D%E8%A1%A8%E5%8D%95.xml#R7Vrfb6M4EP5r%2FFphDMY8QgJ70u7pTurD7T7SxE3YJTgiTpPcX3822BDA6bYJoacmtFLM4B%2Fg%2Bb6Z8dgATVb7L0WyXv7J5jQDtjXfAzQFtg19m4gfKTlUEp84lWBRpHNVqRE8pv9SJbSUdJvO6aZVkTOW8XTdFs5YntMZb8mSomC7drVnlrVHXScL2hM8zpKsL%2F0nnfNlJSW218j%2FoOliqUeG2K%2BePCWzX4uCbXM1HrDRc3lVj1eJ7kt96GaZzNnuSIQigCYFY7wqrfYTmsm51dNWtYtPPK3fu6A5f0sDV70GP%2BhPp3MxE%2Bo2Z7n4CcvvobKFJe6WfJWJIhRFMUhx%2BC7lD66%2B%2FaGqZckTzcJ6OiYsY0U5AopjS1yiyoYnBQ%2BkupqxSlmcZpnqhuZzXWOWJZtNOquEqop8i5%2BU84PCULLlTIhYwZdswfIk%2B8bYWtXb8IL9okcvAgP5Vz%2FRmhZKCJ9ZzlWXNlT3ppbV9Mk5O6kAJdqwbTFTtZCCdFIsqKrl1MoXpKJsRcVUiioFzRKevrR7TxS6F3W9RsOioJRsVrga%2BiXJtqpTEGHguyC0ZIFMQRCByAfEk%2F%2Bi4IeA4B5KGkjI2dktU04f10n5fTthEtowOQGFWuMdtcTxRFxy0oWOjfJ3KeeFFpzuX1dPf%2BJVA4QVUZUhQ%2Bp211gFqLm8PLIIutklqvLMqiIgiD%2BEtfL6H7DWsmrzcS5rO8BSFvpcNjt9NuOR2OwYIUII8AWbPUlcP9ZsFgUBHQgC0mfzkq2etpvPzWSrzWTo9alsOwYqkwGobBvm%2FJPS88OcKu7TsApvRuAh7vFwEge36zRd9OC2yObgEf0mNDlOV5rEoB%2FIHDvOBuBRI%2F20fnQAotJ9yr%2Fr2RDlH%2FVkDOZJ4aWuVDX9m6Vi4BqixPIfPOx4lkuIwKtsfQRXsQ59gLB5jt12%2F9U7qy47wKzf8W2Owboj8uNdBzT4DuiP5Dtg33lEN%2Bw8vE6chpwRXYdxeeyBMAQ%2BKhdfESCOdCahJ9fJI1D3FW3eqVvTtBP22UP4DDFXyeGowlqa%2B81pl%2BL7beC6pJN669SH9usNRKF6hXN9C%2BqvDv%2F6esY6BB7jsYLnHZHvQ%2BRY%2BQA9djf0DUFgyUIwLTMDZQqJBKVFw1J4iwkBTNr0c1yDo8FXSgig1xPv5zqPm6WqXoko76nXImeTWC8IjkmMPsKrQKuTgcbDOgn9oS2L4YPAlolmEfpI0xGByAFhXBaExRBl%2F2bDU2hZbzAbV4tPzamNQASkfSN%2BX0iO7vv1fmorGh3L%2Beu9qRY4BFmJ3NW7BkpuAwkNF%2FrOdTiUoBNm58I8F%2Fba1qpeXesuqncYJJXlGuCHAQnLPagy%2F0pudOvJ6ebDsSkffrXNp36CqZ3UmEoN3apD729WEMPO4NU8OjLFX0InXrliwyBE8nDG73l0Xz2Mf4pHn0wbfLvivYsEgs1W%2FlTqqVsfeQNnnkwWpwthQy7qrFMsd9RejNqLQ9SzUOvpUxH6kCgcGIXQHA%2FrhWwwBUHpAIPyXIzEZSQxeoshSjdONAYocJgARdw2B1wrvTaniFH0Hw%3D%3D)\n",
    "\n"
   ]
  },
  {
   "cell_type": "markdown",
   "metadata": {},
   "source": [
    "结构方程模型最关键的一步就是你要确保测量模型的质量, \n",
    "我们通常需要前测数据, 重点是对测量模型进行检验,\n",
    "而CFA就是用来确保测量模型质量的,\n",
    "但是为了CFA结果好, 有一些工作需要做:\n",
    "\n",
    "- 检查每个潜变量的探索性因子分析,确保它是单因子的\n",
    "\n",
    "以上是必须要检查的工作, 当然还有一些是你最好要做的:\n",
    "\n",
    "- 全部变量的探索性因子分析(检查每个潜变量是否可以相互区分开, 如果出现题目错乱, 问题很复杂, 需要自己研究,没有统一答案)\n",
    "\n",
    "我实际上在上面的流程图中绘制了我的常用工作流程, 然而因为这个工作太过复杂, 我们很难用文字或者流程图来详尽解释全部的内容, \n",
    "所以我录制了一套实战的流程的视频教程, 里面有详细的解答。\n",
    "\n",
    "在流程图里, 我们认为如果量表前人研究用过的, 并且结果了CFA检验, 你不必进行EFA, 直接做CFA是可以的, 但是当CFA结果差,\n",
    "你需要返回到EFA进行问题的诊断。\n",
    "\n",
    "### EFA部分问题\n",
    "\n",
    "针对这一部分的常见问题, 我在这里先列出来:\n",
    "\n",
    "#### 是否有必要做EFA(探索性因子分析)\n",
    "    \n",
    "    如果你的问卷是来自于前人研究, 并且它已经经过EFA的测试, 得到了题目的因子结构, 那么你没必要再做EFA;\n",
    "    如果你的问卷是自编问卷, 我通常建议你先做EFA; 不过如果你的问卷有预设的因子结构, 也就是很明确的哪个题归属于哪个因子, 那么EFA也不是必须的, 但是, 你必须明白, EFA的结果好可以确保CFA结果不会太差, 所以做EFA似乎又有某种必要性, 我想说的是没人规定你必须做EFA, 你做了的话只有好处没有坏处\n",
    "    但是, 我必须说一些实际情况, 大部分做SEM的研究都做EFA, EFA结果好对SEM至关重要, 如果你不想SEM模型拟合指数太差, 建议EFA都必须做;至于是否将EFA结果写入你的论文呢, 很多时候, 论文中仅仅是一句话带过, 但是如果EFA阶段花费了你很多时间和精力, 你可以在论文中多一些汇报。\n",
    "    \n",
    "    \n",
    "#### EFA中, 因子载荷多少合适, 如果太低有必要删题吗\n",
    "\n",
    "\n",
    "     Field (2005)和Guadagnoli & Velicer (1988)建议, 如果一个因子有四五个因子载荷都在0.6以上, 那么可以认为这个因子是稳定的. Stevens (1992)建议因子载荷最低是0.4, 如果题目/变量测有不同的取值分布,  Tabachnick and Fidell (2007) 建议使用更严格标准:  0.32 (poor), 0.45 (fair), 0.55 (good), 0.63 (very good) or 0.71 (excellent). 我们列举这么多标准的目的就是, 没有一个金标准说因子载荷必须到多少.\n",
    "\n",
    "    在实际工作中, 因子载荷常用标准是要高于0.5, 并且该题目在其他因子上的载荷要低于0.32, 才认为这个题目是可以被接受的 (Comery and Lee 1992; Laura J. Burton and Stephanie M. Mazerolle 2011), 但是, 由于大部分学生都是使用前人的成熟量表, 删题是非常不建议的, 世界上没有一个建议你因子载荷低于某个标准就必须删题, 大部分学生因为从课本学了一些所谓的删题标准, 就认为低于标准就得删题, 这是自己加的戏, 并在学生群体中以恶讹传讹, 还有一些老师也是半瓶子醋, 不断添油加醋。 实际上我们必须考虑题目本身的价值, 如果这个题被认为很有必要, 很有代表性, 那么不能删。 给一个成熟量表删题, 带来的最大问题是, 你的研究成果没有价值, 因为你的结果与其他人的结果无法比较, 别人都没删题, 你删题了, 导致测量工具不同, 统计结果不同很正常, 因此不具有讨论的价值。\n",
    "    \n",
    "#### EFA中KMO多少合适\n",
    "\n",
    "    KMO的全称是Kaiser-Meyer-Olkin, Kaiser(1970)给出的KMO标准是:\n",
    "    \n",
    "    - 0.00 to 0.49 unacceptable.\n",
    "    - 0.50 to 0.59 miserable.\n",
    "    - 0.60 to 0.69 mediocre.\n",
    "    - 0.70 to 0.79 middling.\n",
    "    - 0.80 to 0.89 meritorious.\n",
    "    - 0.90 to 1.00 marvelous.\n"
   ]
  },
  {
   "cell_type": "markdown",
   "metadata": {},
   "source": [
    "#### EFA要求的样本量\n",
    "\n",
    "通常考虑样本量的时候, 我们要根据实际情况, 比如你的样本很罕见, 那没办法只能使用很少的样本, \n",
    "当样本量很容易增加的时候, 建议参考下面的表格, 因子载荷越小, 需要越大的样本量, 使得载荷显著。\n",
    "\n",
    "\n",
    "<img src=\"imgs/loading-sample-size.png\">"
   ]
  },
  {
   "cell_type": "markdown",
   "metadata": {},
   "source": [
    "#### EFA怎么确定因子数目\n",
    "\n",
    "有很多方法帮你确定因子个数, 常用的有:\n",
    "    \n",
    "- Kaiser提出的\"因子的特征值大于1\", 因此有多少个因子特征值大于1, 就可以提取多少个因子\n",
    "- Cattell提出的\"碎石图\", 特征值变化锐减的点就是必要的因子个数\n",
    "    \n",
    "还有很多标准, 我们没必要列出来, 因为这个问题的重点不在于这些常见答案, \n",
    "重点是, 我们经常错误的使用这些标准, 这些标准因为简单, 所以经常被过度使用。\n",
    "\n",
    "我们下面提出一些情况, 你不必使用这些标准:\n",
    "\n",
    "- 如果你明确知道你的题目应该提取几个因子, 你可以预设提取几个因子, 在SPSS这些常用软件中, 都可以自己定因子个数, \n",
    "你没有必要一定遵守\"特征值大于1\"这个标准, 因为Kaiser本人都没说过你的因子的特征值必须大于1, 但是很可能你的统计学老师说过,\n",
    "这就是我们的教育现状。\n",
    "\n",
    "- 如果你想要提取5个因子, 但是却得到了6个因子, 你需要观察最后一个因子, 也就是特征值最小的因子, 是不是有意义的, 如果没意义完全可以删掉, 也就是回到上一步, 把因子个数这只为5\n",
    "\n",
    "- 如果你想要提取6个因子, 却得到了5个因子, 你需要观察第6个因子, 你需要回到第一步, 做因子旋转, 看第六个因子是不是合理的, 第六个因子包含的题目是不是合理的, 如果合理, 你应当保留6个因子, 而不是5个\n",
    "\n",
    "最后, 我想说的是, 特征值对于提取几个因子有很大的参考意义, 而不能让它完全决定你的研究!你必须对你的研究负责, 而不是把责任推卸给Kaiser."
   ]
  },
  {
   "cell_type": "markdown",
   "metadata": {},
   "source": [
    "### CFA部分\n",
    "\n",
    "\n",
    "CFA与EFA有本质的区别, 但是他们也有类似的地方, 下图是一个例子, EFA的因子对所有指标变量都有载荷, 只不过很多分析报告中, 只报告最大的因子载荷, 因此你好像看到的是一个测量指标(题目)只对应一个因子, 但是实际上就像图中所画的, 每个因子都对每个测量指标有影响。但是对于CFA, 我们通常已经知道每个测量指标归属于哪个因子, 通常一个指标只受到一个因子的影响。\n",
    "\n",
    "<img src=\"imgs/efa-cfa.png\">"
   ]
  },
  {
   "cell_type": "markdown",
   "metadata": {},
   "source": [
    "#### 常用的聚合和区分效度有哪些\n",
    "\n",
    "- 组合信度 Composite (construct) Reliability (CR),\n",
    "- 平均方差提取量 Average Variance Extracted (AVE),\n",
    "- 最大共同方差 Maximum Shared Variance (MSV), and\n",
    "- 平均共同方差 Average Shared Variance (ASV). \n",
    "\n",
    "这些指标都有常用的判断标准:\n",
    "\n",
    "<img src=\"imgs/ave cr msv asv.png\">\n",
    "\n",
    "AVE和CR通常是我们用Excel手算的, 但是也有一些工具帮你算, 这里有一个[计算器](https://mlln.cn/2019/09/06/spss%E8%AE%A1%E7%AE%97%E5%B9%B3%E5%9D%87%E6%96%B9%E5%B7%AE%E6%8F%90%E5%8F%96%E9%87%8FAVE%E5%92%8C%E7%BB%84%E5%90%88%E4%BF%A1%E5%BA%A6CR%E7%9A%84%E6%96%B9%E6%B3%95/)帮你."
   ]
  },
  {
   "cell_type": "markdown",
   "metadata": {},
   "source": [
    "#### 一阶因子和二阶因子\n",
    "\n",
    "<img src=\"imgs/1or2sragefactor.png\">"
   ]
  },
  {
   "cell_type": "markdown",
   "metadata": {},
   "source": [
    "上面的模型是1阶因子结构, 下面的模型是2阶, 很多人不清楚什么时候使用二阶因子结构i, 实际上由两个因素决定你是否可以使用二阶因子:\n",
    "\n",
    "- 如果因子F1和F2高相关, 并且理论上他们属于某个共同的概念, 比如生活满意度下面分为经济满意度和情感满意度, 生活满意度很可能是一个二阶因子\n",
    "- 如果你的研究不涉及更高的因子, 比如你的研究没有对因子f4做出假设, 所有假设仅涉及f2和f1, 那么你不要做二阶因子结构\n",
    "- 你想知道f1和f2对其他变量的关系, 而不是f4, 那么就不要做二阶因子, 可以参考下面两个图\n",
    "\n",
    "\n",
    "假设你想做如下的结构方程, 你没有必要设置二阶因子结构:\n",
    "<img src=\"imgs/1stagefactor.png\">\n",
    "\n",
    "假设你想要做如下结构方程, 那么你有必要验证二阶因子:\n",
    "<img src=\"imgs/2stagefactor.png\">\n"
   ]
  },
  {
   "cell_type": "markdown",
   "metadata": {},
   "source": [
    "## 第五步 正式实测\n",
    "\n",
    "由于很多工作在前测阶段都做过了, 在正式实测后, 我们的工作就会减少, 通常不需要做EFA, 因为通常我们认为你正式实测阶段不应该改动题目,\n",
    "因此EFA结果差也不太可能去修改你的题目了, 另外为了保证你的研究不是完全数据结果驱动, 一些专家建议EFA和CFA不要使用同一批数据。\n",
    "\n",
    "正式实测阶段收集的数据, 需要做CFA和SEM即可。\n",
    "\n",
    "下图中, 上面的模型是CFA模型, 下面的模型是SEM模型, \n",
    "\n",
    "<img src=\"imgs/cfa-sem.png\">"
   ]
  },
  {
   "cell_type": "markdown",
   "metadata": {},
   "source": [
    "### 自变量之间需要有协方差吗, 也就是在图中看到的COV标记的曲线\n",
    "\n",
    "这个问题没有确定答案, 当然结构方程的算法允许你在自变量之间增加协方差, 但是你可能回发现, \n",
    "当你增加了协方差之后, 自变量到因变量的路径系数(例如P1)可能会降低, 当然不是说一定会降低, 但是存在这种可能,\n",
    "甚至你可能发现, 路径系数低到不显著了, 但是同时, 模型的拟合度会提升.\n",
    "\n",
    "从实践的角度看, 我建议当路径系数不太受影响的时候, 可以增加自变量之间的协方差, 但是如果增加协方差后发现路径系数由显著变为不显著, \n",
    "我建议你不要增加协方差, 这种情况说明, 自变量(Factor1和Factor2)与因变量(Factor3)存在共线性, 并不代表自变量对因变量没有影响,\n",
    "为了真实的体现这种关系, 我建议你去掉自变量之间的协方差。\n",
    "\n",
    "但是为什么我们看到的结构方程, 很多都有自变量之间的协方差? 因为这样做可以提高模型的拟合指数. 然而"
   ]
  },
  {
   "cell_type": "markdown",
   "metadata": {},
   "source": [
    "### 为什么模型越简单越好\n",
    "\n",
    "最复杂的模型就是每个变量之间都有连线, 这导致模型总是完美拟合, 也就是说, 模型越复杂变量之间的关系越多, 拟合越好, 但是模型价值越低.\n",
    "这就是为什么很多拟合指标都是惩罚模型的复杂度. 在结构方程中, 我们一直鼓励越简单越好, 但是降低复杂度就会降低模型拟合, 所以这需要研究者在拟合度和复杂度之间进行权衡."
   ]
  },
  {
   "cell_type": "markdown",
   "metadata": {},
   "source": [
    "### 数据非正态可以做结构方程吗\n",
    "\n",
    "一般结构方程最常用的算法是极大似然估计, 这种方法假定我们的数据是服从多元正态分布的, 由于检查多元正态分布有些困难, \n",
    "至少我们保证每个变量是正态分布, 或者不要偏离正态分布太多. 或者说只要不是极度偏离正态分布就可以.\n",
    "\n",
    "<img src=\"imgs/nonnormality.png\">"
   ]
  },
  {
   "cell_type": "markdown",
   "metadata": {},
   "source": [
    "### 常用的拟合指标及其标准\n",
    "\n",
    "这些指标摘自: IntroductiontoStructuralEquationModelingReviewMethodologyandPracticalApplications\n",
    "\n",
    "<img src=\"imgs/fit-index01.png\">\n",
    "<img src=\"imgs/fit-index02.png\">\n",
    "\n",
    "另外还有其他学者有别的标准, 查看[这里](https://mlln.cn/2019/02/26/Amos%E5%92%8CMplus%E4%B8%AD%E7%BB%93%E6%9E%84%E6%96%B9%E7%A8%8BSEM%E5%9B%A0%E5%AD%90%E5%88%86%E6%9E%90CFA%E6%8B%9F%E5%90%88%E6%8C%87%E6%A0%87%E8%AF%A6%E8%A7%A3/ )\n",
    "\n",
    "另外有学者统计了各个拟合指标在文献中出现的频率, 具体参考[这里](https://www.bilibili.com/read/cv9922403)\n",
    "\n"
   ]
  },
  {
   "cell_type": "markdown",
   "metadata": {},
   "source": [
    "### 什么是打包变量\n",
    "\n",
    "当你的测量模型结果较差, 或者模型过于复杂, 比如你的模型中有二阶因子, 你可以将题目和平变成因子分, 这样让二阶因子结构变成一阶因子结构, 进而降低模型复杂度, 并且减少测量指标的数量, 减少潜变量数量, 尤其是当你的数据里较少的时候, 打包变量是常用的方法.\n",
    "\n",
    "在学术界, 打包变量是非常专业的术语, 打包的方法非常多, 但是对于一般学生, 不建议研究复杂的打包变量的方法, 首先你不知道这样做对结果有什么样的影响, 其次你不清楚为什么使用这样的打包方法; 所以我建议所有需要打包变量的学生, 直接使用最简单的方法, 就是一个维度内的测量指标合成一个维度分, 维度作为潜变量, 变成显变量了。"
   ]
  },
  {
   "cell_type": "markdown",
   "metadata": {},
   "source": [
    "# 视频教程\n",
    "\n",
    "这篇文章列出的一些指导原则可能比较抽象难懂, 因此我们还会推出一个配套的视频教程进行讲解, \n",
    "另外会有案例教程, 将这些原则应用到实际工作中. 视频教程与本篇文章都会在这个平台上, 大家去下载观看就可以了."
   ]
  },
  {
   "cell_type": "markdown",
   "metadata": {},
   "source": [
    "# 参考文献\n",
    "\n",
    "- Laura J. Burton and Stephanie M. Mazerolle (2011). \"Survey Instrument Validity Part I: Principles of Survey Instrument Development and Validation in Athletic Training Education Research.\" ATHLETIC TRAINING EDUCATION JOURNAL 6(1): 27-35. \n",
    "\n",
    "- Kaiser, Henry F. (1970). \"A second generation little jiffy\". Psychometrika. 35 (4): 401–415. doi:10.1007/BF02291817\n",
    "\n",
    "- J. F. Hair, W. C. Black, B, J. Babin, and R. E. Anderson, Multivariate Data Analysis, 7rd ed., Prentice Hall: New Jersey, 2010. \n",
    "\n",
    "- Comrey AL and Lee HB (1992) A first course in factor analysis (2nd edition). Hillsdale,NJ: Lawrence Erlbaum Associates.\n",
    "\n",
    "- Guadagnoli E and Velicer W (1988) Relation of sample size to the stability of component patterns. Psychological Bulletin 103 265-275.\n",
    "\n",
    "- Hair JF, Tatham RL, Anderson RE and Black W (1998) Multivariate data analysis. (Fifth Ed.) Prentice-Hall:London.\n",
    "\n",
    "- Field A (2005) Discovering statistics using SPSS. Second edition. Sage.\n",
    "\n",
    "- MacCallum RC, Widaman KF, Zhang S and Hong S. (1999) Sample size in factor analysis. Psychological Methods 4(1) 84-99.\n",
    "\n",
    "- MacCallum RC, Widaman KF, Preacher KJ and Hong S (2001) Sample size in factor analysis: The role of model error. Multivariate Behavioral Research 36 611-637.\n",
    "\n",
    "- Stevens JP (1992) Applied multivariate statistics for the social sciences (2nd edition). Hillsdale, NJ:Erlbaum.\n",
    "\n",
    "- Tabachnick BG and Fidell LS (2007) Using multivariate statistics. Fifth Edition. Pearson Education Inc.\n",
    "\n",
    "- Rex B. Kline(1998) Principles and Practice of Structural Equation Modeling NY: Guilford Press, 1998.\n",
    "\n",
    "- https://wenku.baidu.com/view/1a49b9f17c192279168884868762caaedd33ba2a.html"
   ]
  }
 ],
 "metadata": {
  "kernelspec": {
   "display_name": "Python 3",
   "language": "python",
   "name": "python3"
  },
  "language_info": {
   "codemirror_mode": {
    "name": "ipython",
    "version": 3
   },
   "file_extension": ".py",
   "mimetype": "text/x-python",
   "name": "python",
   "nbconvert_exporter": "python",
   "pygments_lexer": "ipython3",
   "version": "3.6.5"
  },
  "toc": {
   "base_numbering": 1,
   "nav_menu": {},
   "number_sections": true,
   "sideBar": true,
   "skip_h1_title": false,
   "title_cell": "Table of Contents",
   "title_sidebar": "Contents",
   "toc_cell": false,
   "toc_position": {
    "height": "calc(100% - 180px)",
    "left": "10px",
    "top": "150px",
    "width": "384px"
   },
   "toc_section_display": true,
   "toc_window_display": true
  }
 },
 "nbformat": 4,
 "nbformat_minor": 2
}
