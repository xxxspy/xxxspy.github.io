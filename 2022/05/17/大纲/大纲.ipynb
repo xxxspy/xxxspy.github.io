{
 "cells": [
  {
   "cell_type": "markdown",
   "metadata": {},
   "source": [
    "# 关于我们\n",
    "\n",
    "- 人大+北师大统计硕士和博士团队\n",
    "- 兼职\n",
    "- 提供付费咨询服务\n",
    "- 微信: mllncn\n",
    "- 网址: www.mlln.cn"
   ]
  },
  {
   "cell_type": "markdown",
   "metadata": {},
   "source": [
    "# 模型\n",
    "\n",
    "<img src=\"imgs/model.png\">"
   ]
  },
  {
   "cell_type": "markdown",
   "metadata": {},
   "source": [
    "# 数据介绍\n",
    "\n",
    "## 编码手册\n",
    "\n",
    "<img src=\"imgs/codebook.png\">"
   ]
  },
  {
   "cell_type": "markdown",
   "metadata": {},
   "source": [
    "## 数据介绍\n",
    "\n",
    "<img src=\"imgs/data.png\">"
   ]
  },
  {
   "cell_type": "markdown",
   "metadata": {},
   "source": [
    "# 分析思路\n",
    "\n",
    "## 描述性统计\n",
    "\n",
    "<img src=\"imgs/frequencies.png\">"
   ]
  },
  {
   "cell_type": "markdown",
   "metadata": {},
   "source": [
    "## 因子分析\n",
    "\n",
    "<img src=\"imgs/factors.png\">"
   ]
  },
  {
   "cell_type": "markdown",
   "metadata": {},
   "source": [
    "## 信度分析\n",
    "\n",
    "<img src=\"imgs/alphas.png\">"
   ]
  },
  {
   "cell_type": "markdown",
   "metadata": {},
   "source": [
    "## 描述性统计\n",
    "\n",
    "<img src=\"imgs/descriptions.png\">"
   ]
  },
  {
   "cell_type": "markdown",
   "metadata": {},
   "source": [
    "## 相关分析\n",
    "\n",
    "<img src=\"imgs/correlations.png\">"
   ]
  },
  {
   "cell_type": "markdown",
   "metadata": {},
   "source": [
    "## 回归分析\n",
    "\n",
    "<img src=\"imgs/regression.png\">"
   ]
  },
  {
   "cell_type": "markdown",
   "metadata": {},
   "source": [
    "## 中介分析\n",
    "\n",
    "<img src=\"imgs/mediation.png\">"
   ]
  },
  {
   "cell_type": "markdown",
   "metadata": {},
   "source": [
    "## 验证性因子分析\n",
    "\n",
    "### 每个量表单因子模型\n",
    "\n",
    "可能涉及题目的删减\n",
    "\n",
    "### 所有变量的多因子模型\n",
    "\n",
    "### 聚合区分效度"
   ]
  },
  {
   "cell_type": "markdown",
   "metadata": {},
   "source": [
    "## 结构方程模型\n",
    "\n",
    "### 直接效应检验\n",
    "\n",
    "### 间接效应检验\n",
    "\n",
    "可能涉及代码"
   ]
  },
  {
   "cell_type": "markdown",
   "metadata": {},
   "source": [
    "# 论文撰写\n",
    "\n",
    "这部分放在最后, 为了提醒同学, 一定要在做完所有分析以后再去写论文, 整理结果, 如果分析过程发现问题, 不至于浪费时间整理.\n",
    "\n",
    "在这一部分, 我们主要讲解以下各个部分表格形式, 在之前各个部分的分析会讲, 但是在这里再讲复习一遍."
   ]
  }
 ],
 "metadata": {
  "kernelspec": {
   "display_name": "Python 3",
   "language": "python",
   "name": "python3"
  },
  "language_info": {
   "codemirror_mode": {
    "name": "ipython",
    "version": 3
   },
   "file_extension": ".py",
   "mimetype": "text/x-python",
   "name": "python",
   "nbconvert_exporter": "python",
   "pygments_lexer": "ipython3",
   "version": "3.6.5"
  },
  "toc": {
   "base_numbering": 1,
   "nav_menu": {},
   "number_sections": true,
   "sideBar": true,
   "skip_h1_title": false,
   "title_cell": "Table of Contents",
   "title_sidebar": "Contents",
   "toc_cell": false,
   "toc_position": {
    "height": "calc(100% - 180px)",
    "left": "10px",
    "top": "150px",
    "width": "334px"
   },
   "toc_section_display": true,
   "toc_window_display": true
  }
 },
 "nbformat": 4,
 "nbformat_minor": 2
}
