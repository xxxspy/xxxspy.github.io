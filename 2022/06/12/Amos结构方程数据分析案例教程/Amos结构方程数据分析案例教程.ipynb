{
 "cells": [
  {
   "cell_type": "markdown",
   "metadata": {},
   "source": [
    "### 模型\n",
    "\n",
    "<img src=\"imgs/model.png\">"
   ]
  },
  {
   "cell_type": "markdown",
   "metadata": {},
   "source": [
    "这是一个中介和调节模型, 领导力是自变量, 组织绩效是因变量, 效能感是中介变量, 调节变量是情绪智力, 情绪智力调节了效能感与组织绩效的关系, 简单来说, 情绪智力越高, 效能感对组织绩效的预测作用越强, 这是一个正向调节的变量。"
   ]
  },
  {
   "cell_type": "markdown",
   "metadata": {},
   "source": [
    "### 数据\n",
    "\n",
    "数据由问卷采集而来, 总共采集了473名员工作为样本。\n",
    "\n",
    "- 领导力有11个题目, 在数据中变量名是A1-A11;\n",
    "- 效能感有11个题目, 在数据中变量名是B1-B11;\n",
    "- 组织绩效有13个题目, 在数据中变量名是C1-C13;\n",
    "- 情绪智力有6个题目, 在数据中变量名是D1-D6;\n",
    "\n",
    "数据保存在spss数据中, 文件名是data.sav;"
   ]
  },
  {
   "cell_type": "markdown",
   "metadata": {},
   "source": [
    "### 验证性因子分析\n",
    "\n",
    "#### 模型图绘制\n",
    "\n",
    "<img src=\"imgs/cfa.png\">"
   ]
  },
  {
   "cell_type": "markdown",
   "metadata": {},
   "source": [
    "#### 模型拟合\n",
    "\n",
    "模型的整体拟合优度主要指标：卡方为1485.53，df=773，RMSEA=0.044<0.08，CFI=0.958>0.90，TLI=0.955>0.90，IFI=0.958>0.90，NFI=0.916>0.90，PCFI=0.903>0.50，PNFI=0.864>0.50，GFI=0.868<0.90，模型基本可以接受。\n",
    "\n",
    "<img src=\"imgs/modelfit.png\">"
   ]
  },
  {
   "cell_type": "markdown",
   "metadata": {},
   "source": [
    "#### 因子载荷\n",
    "\n",
    "从下面表格中\"Estimate\"表示因子载荷的估计，\"STD_Estimate\"是标准化的因子载荷，\"P\"表示显著性，如果P为一颗以上\"*\"或者小于0.05表示该载荷是显著的，也就是说统计上不为0。依据标准化载荷值可以计算因子的平均方差提取值AVE，AVE通常大于0.5且建构信度CR大于0.7就认为该潜变量的构建效度良好。\n",
    "\n",
    "<img src=\"imgs/factorloading.png\">"
   ]
  },
  {
   "cell_type": "markdown",
   "metadata": {},
   "source": [
    "#### 区分效度\n",
    "\n",
    "对角线上的数值是AVE的平方根, 其他数值是因子之间的相关系数, 当AVE大于该因子与其他因子的相关系数时, 我们认为区分效度良好。\n",
    "\n",
    "<img src=\"imgs/discrimenent.png\">"
   ]
  },
  {
   "cell_type": "markdown",
   "metadata": {},
   "source": [
    "### 结构方程模型\n",
    "\n",
    "#### 绘制模型图\n",
    "\n",
    "<img src=\"imgs/sem.png\">\n",
    "\n"
   ]
  },
  {
   "cell_type": "markdown",
   "metadata": {},
   "source": [
    "#### 模型拟合\n",
    "\n",
    "模型的整体拟合优度主要指标为：chi-square为1189.93，df=557，RMSEA=0.049<0.08，CFI=0.958>0.90，TLI=0.955>0.90，IFI=0.958>0.90，NFI=0.924>0.90，PCFI=0.897>0.50，PNFI=0.865>0.50，GFI=0.876<0.90，模型基本可以接受。\n",
    "\n",
    "<img src=\"imgs/modelfit2.png\">\n",
    "\n"
   ]
  },
  {
   "cell_type": "markdown",
   "metadata": {},
   "source": [
    "#### 路径系数\n",
    "\n",
    "我们关心的路径系数有三个, P值显著就证明路径系数不为零, 在此之前, 你肯定对结果做了假设, 比如\"领导力正向影响效能感\", 如果这条路径显著, 就证明你的假设成立。\n",
    "\n",
    "<img src=\"imgs/coefficience.png\">"
   ]
  },
  {
   "cell_type": "markdown",
   "metadata": {},
   "source": [
    "#### 中介效应\n",
    "\n",
    "这是一个典型的中介模型, 所以我们需要对中介效应做一个检验, 目前检验中介效应最常用的方法就是使用bootstraping抽样来计算中介效应的分布, \n",
    "amos支持这个操作, 最终我们整理成如下的表格:\n",
    "\n",
    "<img src=\"imgs/mediation.png\">"
   ]
  },
  {
   "cell_type": "markdown",
   "metadata": {},
   "source": [
    "有些人质疑为什么直接效应和间接效应之和不等于总效应, 因为这是bootstrap抽样, 估计值是样本均值, 所以总效应的均值未必等于直接效应和间接效应均值之和。"
   ]
  },
  {
   "cell_type": "markdown",
   "metadata": {},
   "source": [
    "#### 调节效应\n",
    "\n",
    "使用分组比较的方法来做调节效应分析, 将调节变量按照高低分划分样本, 两组样本可以分别估计模型, 如果两组结果有差异(主要是路径系数), 就可以证明调节变量在该路径上具有调节效应。\n",
    "\n",
    "还有一种思路, 设置模型的参数限制, 说起来比较复杂, 我们在视频里细聊。\n",
    "\n",
    "具体步骤:\n",
    "\n",
    "- 合成调节变量\n",
    "- 高低分组\n",
    "- 设置模型\n",
    "- 整理结果"
   ]
  },
  {
   "cell_type": "markdown",
   "metadata": {},
   "source": [
    "##### 模型拟合\n",
    "\n",
    "<img src=\"imgs/moderfit.png\">"
   ]
  },
  {
   "cell_type": "markdown",
   "metadata": {},
   "source": [
    "##### 路径系数\n",
    "\n",
    "<img src=\"imgs/modelcoff.png\">"
   ]
  },
  {
   "cell_type": "markdown",
   "metadata": {},
   "source": [
    "### 视频教程\n"
   ]
  },
  {
   "cell_type": "markdown",
   "metadata": {},
   "source": [
    "### 视频完整版及数据下载\n",
    "\n"
   ]
  }
 ],
 "metadata": {
  "kernelspec": {
   "display_name": "Python 3",
   "language": "python",
   "name": "python3"
  },
  "language_info": {
   "codemirror_mode": {
    "name": "ipython",
    "version": 3
   },
   "file_extension": ".py",
   "mimetype": "text/x-python",
   "name": "python",
   "nbconvert_exporter": "python",
   "pygments_lexer": "ipython3",
   "version": "3.6.5"
  },
  "toc": {
   "base_numbering": 1,
   "nav_menu": {},
   "number_sections": true,
   "sideBar": true,
   "skip_h1_title": false,
   "title_cell": "Table of Contents",
   "title_sidebar": "Contents",
   "toc_cell": false,
   "toc_position": {},
   "toc_section_display": true,
   "toc_window_display": true
  }
 },
 "nbformat": 4,
 "nbformat_minor": 2
}
