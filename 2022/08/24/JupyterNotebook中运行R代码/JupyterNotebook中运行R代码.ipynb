{
 "cells": [
  {
   "cell_type": "markdown",
   "metadata": {},
   "source": [
    "---\n",
    "\n",
    "title: Jupyter notebook中运行R代码\n",
    "date: 2022-08-24 08:44:03\n",
    "tags: [jupyter, R]\n",
    "\n",
    "---\n",
    "\n",
    "<--! more -->\n",
    "\n",
    "本篇教程展示了如何在jupyter notebook中运行R代码， 并用一个案例介绍了这种方式编写R代码的好处。"
   ]
  },
  {
   "cell_type": "markdown",
   "metadata": {},
   "source": [
    "## 安装R\n",
    "\n",
    "如果你已经安装了R, 请忽略这一步骤。\n",
    "\n",
    "你可以从[这里](https://cloud.r-project.org/index.html)下载R的安装文件, 我这里安装的是`4.2.1`, 你可以选择适合自己的版本, 如果不知道, 可以选择最新版本.\n",
    "\n",
    "<img src=\"imgs/installr.png\">"
   ]
  },
  {
   "cell_type": "markdown",
   "metadata": {},
   "source": [
    "## 安装Python\n",
    "\n",
    "你可以从[这里下载python的安装包](https://www.python.org/downloads/)， 安装非常简单， 我们不再演示。\n",
    "\n",
    "我使用的版本是3.6， 建议你选择最新版本进行安装。\n",
    "\n",
    "<img src=\"imgs/installpython.png\">"
   ]
  },
  {
   "cell_type": "markdown",
   "metadata": {},
   "source": [
    "## 安装Jupyter notebook\n",
    "\n",
    "Jupyter notebook是python的包， 因此我们使用python安装包的命令pip进行安装：\n",
    "\n",
    "安装之前最好先对pip进行升级：\n",
    "\n",
    "`python -m pip install --upgrade pip  `\n",
    "\n",
    "升级完成以后， 安装jupyter：\n",
    "\n",
    "`python -m pip install jupyter`\n",
    "\n",
    "<img src=\"imgs/installjupyter.png\">\n",
    "\n",
    "安装完成以后， 你可以在CMD中（或PowerShell）使用命令`jupyter notebook`启动notebook, \n",
    "你就可以打开浏览器， 打开网址“localhost:8888”， 就看到了下面类似的界面。\n",
    "\n",
    "<img src=\"imgs/runjupyter.png\">"
   ]
  },
  {
   "cell_type": "markdown",
   "metadata": {},
   "source": [
    "## 安装 R kernel\n",
    "\n",
    "R kernel用来与R代码解释器进行通讯， 实际上jupyter notebook是运行在python中， python想要执行R代码， \n",
    "必须通过R解释器， 也就是你上面第一步安装的。\n",
    "\n",
    "你可以打开R解释器：\n",
    "\n",
    "<img src=\"imgs/openr.png\">\n",
    "\n",
    "执行命令`install.packages('IRkernel')`\n",
    "\n",
    "<img src=\"imgs/install.packages.png\">\n",
    "\n",
    "安装了以后， 你还需要执行命令`IRkernel::installspec(user=FALSE)`， 这个命令的作用是， 让jupyter找到你的R。\n",
    "\n",
    "<img src=\"imgs/installspec.png\">"
   ]
  },
  {
   "cell_type": "markdown",
   "metadata": {},
   "source": [
    "## 最后一步 在notebook中创建R文件\n",
    "\n",
    "使用`jupyter notebook`命令来启动你的notebook， 打开网址“localhost:8888”， 在菜单处可以新建一个R notebook：\n",
    "\n",
    "<img src=\"imgs/newrfile.png\">"
   ]
  },
  {
   "cell_type": "markdown",
   "metadata": {},
   "source": [
    "## 初试R\n",
    "\n",
    "在新建的R文件里面， 你可以先执行安装命令， 我们装一个数据可视化的库：\n",
    "\n",
    "`install.packages(\"plotly\")`\n",
    "\n",
    "你会看到如下输出结果：\n",
    "\n",
    "```\n",
    "Installing package into 'C:/Users/syd/AppData/Local/R/win-library/4.2'\n",
    "(as 'lib' is unspecified)\n",
    "\n",
    "also installing the dependencies 'lazyeval', 'crosstalk'\n",
    "\n",
    "\n",
    "Warning message in download.file(url, destfile, method, mode = \"wb\", ...):\n",
    "\"downloaded length 720896 != reported length 3174189\"\n",
    "Warning message in download.file(url, destfile, method, mode = \"wb\", ...):\n",
    "\"URL 'https://cran.r-project.org/bin/windows/contrib/4.2/plotly_4.10.0.zip': Timeout of 60 seconds was reached\"\n",
    "Error in download.file(url, destfile, method, mode = \"wb\", ...) : \n",
    "  download from 'https://cran.r-project.org/bin/windows/contrib/4.2/plotly_4.10.0.zip' failed\n",
    "Warning message in download.packages(pkgs, destdir = tmpd, available = available, :\n",
    "\"download of package 'plotly' failed\"\n",
    "package 'lazyeval' successfully unpacked and MD5 sums checked\n",
    "package 'crosstalk' successfully unpacked and MD5 sums checked\n",
    "\n",
    "The downloaded binary packages are in\n",
    "\tC:\\Users\\syd\\AppData\\Local\\Temp\\RtmpIDqbO6\\downloaded_packages\n",
    "```\n",
    "\n",
    "之后， 我们随便画一个图， 看看：\n",
    "\n",
    "```r\n",
    "library(ggplot2)\n",
    "library(plotly)  \n",
    "\n",
    "n <- 20\n",
    "\n",
    "x1 <- rnorm(n); x2 <- rnorm(n)\n",
    "y1 <- 2 * x1 + rnorm(n)\n",
    "y2 <- 3 * x2 + (2 + rnorm(n))\n",
    "A <- as.factor(rep(c(1, 2), each = n))\n",
    "df <- data.frame(x = c(x1, x2), y = c(y1, y2), A = A)\n",
    "fm <- lm(y ~ x + A, data = df)\n",
    "\n",
    "p <- ggplot(data = cbind(df, pred = predict(fm)), aes(x = x, y = y, color = A))\n",
    "p <- p + geom_point() + geom_line(aes(y = pred))\n",
    "\n",
    "ggplotly(p)\n",
    "\n",
    "```\n",
    "\n",
    "<img src=\"imgs/scatter.png\">\n",
    "\n"
   ]
  },
  {
   "cell_type": "markdown",
   "metadata": {},
   "source": [
    "再画一个箱线图：\n",
    "\n",
    "```r\n",
    "\n",
    "p <- plot_ly(midwest, x = ~percollege, color = ~state, type = \"box\")\n",
    "\n",
    "p\n",
    "```\n",
    "\n",
    "\n",
    "<img src=\"imgs/box.png\">"
   ]
  }
 ],
 "metadata": {
  "kernelspec": {
   "display_name": "Python 3",
   "language": "python",
   "name": "python3"
  },
  "language_info": {
   "codemirror_mode": {
    "name": "ipython",
    "version": 3
   },
   "file_extension": ".py",
   "mimetype": "text/x-python",
   "name": "python",
   "nbconvert_exporter": "python",
   "pygments_lexer": "ipython3",
   "version": "3.6.5"
  },
  "toc": {
   "base_numbering": 1,
   "nav_menu": {},
   "number_sections": true,
   "sideBar": true,
   "skip_h1_title": false,
   "title_cell": "Table of Contents",
   "title_sidebar": "Contents",
   "toc_cell": false,
   "toc_position": {},
   "toc_section_display": true,
   "toc_window_display": true
  }
 },
 "nbformat": 4,
 "nbformat_minor": 2
}
