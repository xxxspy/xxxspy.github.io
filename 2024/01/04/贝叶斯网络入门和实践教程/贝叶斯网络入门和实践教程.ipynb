{
 "cells": [
  {
   "cell_type": "markdown",
   "metadata": {},
   "source": [
    "---\n",
    "title: 贝叶斯网络入门和R代码实践视频教程\n",
    "date: 2024-01-04 11:27:59\n",
    "tags: [贝叶斯网络, R语言, bnlearn]\n",
    "mathjax: true\n",
    "---\n",
    "\n",
    "\n",
    "本教程旨在介绍使用贝叶斯网络学习和推理的基础知识，\n",
    "如何使用R语言（bnlearn）完成一个贝叶斯网络结构建立和参数学习，\n",
    "以介绍图算法建模的典型数据分析工作流程。 要点包括：\n",
    "\n",
    "- 数据处理\n",
    "- 贝叶斯网络原理（结构和参数）\n",
    "- 将贝叶斯网络用于预测分析\n",
    "- 将贝叶斯网络用于推理分析\n",
    "\n",
    "\n",
    "<!-- more -->"
   ]
  },
  {
   "cell_type": "markdown",
   "metadata": {},
   "source": [
    "### 概率原理\n",
    "\n",
    "在介绍贝叶斯网络之前， 需要先理解几个概念：\n",
    "\n",
    "- 先验概率： （Prior Probability）是指根据以往经验和分析得到的概率，通常作为“由因求果”问题中的“因”（自变量、解释变量）出现的概率。通常使用P(A)表示A的先验概率\n",
    "- 联合概率是指在多元的概率分布中，多个随机变量同时满足各自条件的概率。联合概率表示两个或多个事件共同发生的概率。在概率论中，联合概率可以用符号P(A∩B)表示，也可以用P(AB)表示\n",
    "- 条件概率是指事件A在另外一个事件B已经发生条件下的发生概率。条件概率表示为P（A|B），读作“在B的条件下A的概率”。如果只有两个事件A和B，那么条件概率的计算公式为：P(A|B) = P(AB) / P(B)。\n",
    "- 后验概率： 后验概率是指在某个结果发生之后，重新修正该结果的概率。它是贝叶斯定理中的概念，用于根据新的信息更新先验概率。后验概率的计算需要先了解先验概率和似然函数，然后通过贝叶斯公式计算得出。在理解后验概率时，需要注意它与先验概率的关系。先验概率是指在某个结果发生之前，根据经验和数据得到的概率估计。后验概率则是根据新的信息修正先验概率后得到的更接近实际情况的概率估计。\n",
    "- 全概率： 全概率是指一个事件发生的总概率，可以通过多个互不相交的事件的概率之和来计算。全概率公式通常用于计算条件概率，在这种情况下，我们需要考虑所有可能发生的情况，这些情况通常是互不相交的。通过计算每种情况的概率之和，我们可以得出一个事件发生的总概率\n"
   ]
  },
  {
   "cell_type": "markdown",
   "metadata": {},
   "source": [
    "### 贝叶斯网络原理\n",
    "\n",
    "#### 定义\n",
    "\n",
    "如果你对数学公式不感兴趣， 你可以跳转到下面的实战部分。\n",
    "\n",
    "贝叶斯网络（Bayesian network）的定义：\n",
    "\n",
    "- 网络是由节点和连线构成， 这个网络具体说是一个有向无环图， 无环指的是没有环形的结构， 有向指的是节点之间的连线是有箭头的。\n",
    "- 节点代表变量， 连线代表变量之间的关系， 箭头往往指向被预测的变量， 在图算法里， 箭头指向的节点是子节点， 箭尾就是父节点， \n",
    "- 一个网络可能非常复杂， 但是网络可以分解为每个节点及其父节点这种局部结构\n",
    "\n",
    "所以， 一个网络的分布就是：\n",
    "\n",
    "<img src=\"imgs/eq1.svg\" style=\"background-color:white\">\n",
    "\n",
    "一个典型的有向无环图就是：\n",
    "\n",
    "<img src=\"imgs/贝叶斯网络图.png\">\n",
    "\n",
    "根据上面的公式， 我们的这个图暗含的概率是：\n",
    "\n",
    "<img src=\"imgs/eq2.svg\" style=\"background-color:white\">"
   ]
  },
  {
   "cell_type": "markdown",
   "metadata": {},
   "source": [
    "因为A节点没有父节点， 那么A发生的概率就是P(A)它是一个先验概率， 而节点E有两个父节点， 那么E的值的分布概率就是一个条件概率P(E|AS)."
   ]
  },
  {
   "cell_type": "markdown",
   "metadata": {},
   "source": [
    "### 学习\n",
    "\n",
    "所谓的学习就是从数据中学习网络的结构和参数， 所以学习分为两个阶段， 结构的学习和参数的学习。\n",
    "\n",
    "节点就是变量， 哪个节点连接哪个节点， 这就是结构， 在贝叶斯网络构建之前， 我们不知道如何构建这个网络， 这用到的方法就是结构学习。\n",
    "一旦有了网络结构， 下一步就是决定网络的参数是多少， 所谓的参数就是所有节点的联合概率分布。"
   ]
  },
  {
   "cell_type": "markdown",
   "metadata": {},
   "source": [
    "### 推断\n",
    "\n",
    "贝叶斯网络的推断就是当你知道网络中某个节点的取值时， 你可以推断其他节点的取值。这其实就是贝叶斯网络的用武之地。\n",
    "通常我们有两种推断， 一种是条件概率的推断， 一种是极大后验概率的推断。\n",
    "\n",
    "条件概率的推断（conditional probability）可以参考下图：\n",
    "\n",
    "<img src=\"imgs/cp-query.png\">\n",
    "\n",
    "当你知道E节点的取值为uni时， 那么可以推断其他节点的条件概率。\n",
    "\n",
    "极大后验概率推断可以参考下图：\n",
    "\n",
    "<img src=\"imgs/map-query.png\">\n",
    "\n",
    "当你知道某个节点的取值时， 你找到所有节点的取值， 使得这种组合发生的概率最大。\n",
    "\n"
   ]
  },
  {
   "cell_type": "markdown",
   "metadata": {},
   "source": [
    "### 工具\n",
    "\n",
    "我们这个教程主要是教大家如何使用R语言的“bnlearn”完成一个贝叶斯网络， 主要工具就是“bnlearn”。 \n",
    "bnlearn是一个专门用来学习贝叶斯网络的Python包，包含贝叶斯网络的结构学习、参数学习和推理三个方面的功能。其中，结构学习包含基于约束的算法、基于得分的算法和混合算法，参数学习包括最大似然估计和贝叶斯估计两种方法。此外，bnlearn还提供了自助法（bootstrap）、交叉验证（cross-validation）和随机模拟（stochastic simulation）等功能，附加的绘图功能需要调用前述的Rgraphviz和lattice包。"
   ]
  },
  {
   "cell_type": "markdown",
   "metadata": {},
   "source": [
    "### bnlearn 入门\n",
    "\n",
    "#### bnlearn安装\n",
    "\n",
    "使用R studio 或者任何其他R代码的编辑器, 运行如下命令进行安装:\n",
    "\n",
    "\n"
   ]
  },
  {
   "cell_type": "code",
   "execution_count": 40,
   "metadata": {
    "vscode": {
     "languageId": "r"
    }
   },
   "outputs": [
    {
     "name": "stderr",
     "output_type": "stream",
     "text": [
      "Warning message:\n",
      "\"package 'bnlearn' is in use and will not be installed\"\n"
     ]
    }
   ],
   "source": [
    "install.packages(\"bnlearn\")"
   ]
  },
  {
   "cell_type": "markdown",
   "metadata": {},
   "source": [
    "加载bnlearn到工作空间, 这样你才可以使用bnlearn:"
   ]
  },
  {
   "cell_type": "code",
   "execution_count": 41,
   "metadata": {
    "vscode": {
     "languageId": "r"
    }
   },
   "outputs": [],
   "source": [
    "library(bnlearn)"
   ]
  },
  {
   "cell_type": "markdown",
   "metadata": {},
   "source": [
    "#### 案例数据集\n",
    "\n",
    "这篇教程基于数据集\"transportation_survey\", 这个数据集可以在下面下载, 如果找不到可以联系我.\n",
    "\n",
    "这个数据集非常简单, 每个变量解释如下:\n",
    "\n",
    "- A 代表 Age, 它有三个水平, young(低于30岁) adult(30-60岁) old(大于60岁)\n",
    "- S 代表 Sex, 有两种性别, Male 和 Female\n",
    "- E 代表 education, 有两个水平, high 代表高中及以下, uni 代表大学及以上\n",
    "- O 代表 Occupation , 有两个分类, emp 就是职工(employee), self 代表自雇(self-employed)\n",
    "- R 代表 Residence, 城市规模, 分为 大(big) 和 小(small)\n",
    "- T 代表 Tranvel, 旅行方式, 就是个人偏爱什么交通方式, 有三个分类, Car / Train / other\n",
    "\n",
    "看到这些变量, 你应该能想到, 这项研究的目的是探讨旅行方式受到哪些因素的影响, 我们经通过今天的教程, 探讨这个问题."
   ]
  },
  {
   "cell_type": "code",
   "execution_count": 42,
   "metadata": {
    "vscode": {
     "languageId": "r"
    }
   },
   "outputs": [
    {
     "data": {
      "text/html": [
       "<table class=\"dataframe\">\n",
       "<caption>A data.frame: 6 × 6</caption>\n",
       "<thead>\n",
       "\t<tr><th></th><th scope=col>A</th><th scope=col>S</th><th scope=col>E</th><th scope=col>O</th><th scope=col>R</th><th scope=col>T</th></tr>\n",
       "\t<tr><th></th><th scope=col>&lt;chr&gt;</th><th scope=col>&lt;chr&gt;</th><th scope=col>&lt;chr&gt;</th><th scope=col>&lt;chr&gt;</th><th scope=col>&lt;chr&gt;</th><th scope=col>&lt;chr&gt;</th></tr>\n",
       "</thead>\n",
       "<tbody>\n",
       "\t<tr><th scope=row>1</th><td>adult</td><td>F</td><td>high</td><td>emp</td><td>small</td><td>train</td></tr>\n",
       "\t<tr><th scope=row>2</th><td>young</td><td>M</td><td>high</td><td>emp</td><td>big  </td><td>car  </td></tr>\n",
       "\t<tr><th scope=row>3</th><td>adult</td><td>M</td><td>uni </td><td>emp</td><td>big  </td><td>other</td></tr>\n",
       "\t<tr><th scope=row>4</th><td>old  </td><td>F</td><td>uni </td><td>emp</td><td>big  </td><td>car  </td></tr>\n",
       "\t<tr><th scope=row>5</th><td>young</td><td>F</td><td>uni </td><td>emp</td><td>big  </td><td>car  </td></tr>\n",
       "\t<tr><th scope=row>6</th><td>young</td><td>F</td><td>uni </td><td>emp</td><td>big  </td><td>car  </td></tr>\n",
       "</tbody>\n",
       "</table>\n"
      ],
      "text/latex": [
       "A data.frame: 6 × 6\n",
       "\\begin{tabular}{r|llllll}\n",
       "  & A & S & E & O & R & T\\\\\n",
       "  & <chr> & <chr> & <chr> & <chr> & <chr> & <chr>\\\\\n",
       "\\hline\n",
       "\t1 & adult & F & high & emp & small & train\\\\\n",
       "\t2 & young & M & high & emp & big   & car  \\\\\n",
       "\t3 & adult & M & uni  & emp & big   & other\\\\\n",
       "\t4 & old   & F & uni  & emp & big   & car  \\\\\n",
       "\t5 & young & F & uni  & emp & big   & car  \\\\\n",
       "\t6 & young & F & uni  & emp & big   & car  \\\\\n",
       "\\end{tabular}\n"
      ],
      "text/markdown": [
       "\n",
       "A data.frame: 6 × 6\n",
       "\n",
       "| <!--/--> | A &lt;chr&gt; | S &lt;chr&gt; | E &lt;chr&gt; | O &lt;chr&gt; | R &lt;chr&gt; | T &lt;chr&gt; |\n",
       "|---|---|---|---|---|---|---|\n",
       "| 1 | adult | F | high | emp | small | train |\n",
       "| 2 | young | M | high | emp | big   | car   |\n",
       "| 3 | adult | M | uni  | emp | big   | other |\n",
       "| 4 | old   | F | uni  | emp | big   | car   |\n",
       "| 5 | young | F | uni  | emp | big   | car   |\n",
       "| 6 | young | F | uni  | emp | big   | car   |\n",
       "\n"
      ],
      "text/plain": [
       "  A     S E    O   R     T    \n",
       "1 adult F high emp small train\n",
       "2 young M high emp big   car  \n",
       "3 adult M uni  emp big   other\n",
       "4 old   F uni  emp big   car  \n",
       "5 young F uni  emp big   car  \n",
       "6 young F uni  emp big   car  "
      ]
     },
     "metadata": {},
     "output_type": "display_data"
    }
   ],
   "source": [
    "# 读取数据, 保存到survey这个数据框里\n",
    "survey <- read.csv(\"transportation_survey.csv\", header = TRUE)\n",
    "head(survey)"
   ]
  },
  {
   "cell_type": "markdown",
   "metadata": {},
   "source": [
    "#### 创建一个网络结构"
   ]
  },
  {
   "cell_type": "markdown",
   "metadata": {},
   "source": [
    "创建一个网络, 使用字符来表示一个网络, 下面这段字符\"[A][S][E|A:S][O|E][R|E][T|O:R]\"看起来比较复杂, 我们解释一下:\n",
    "\n",
    "- `[A]`表示一个节点, 它没有父节点, 也就是说没有别的节点指向A节点\n",
    "- `[S]`也表示一个没有父节点的节点\n",
    "- `[E|A:S]`表示一个节点E, 同时有两个父节点A和S\n",
    "- `[O|E]`表示节点O, 同时它的父节点是E\n",
    "- 其他节点都是类似的表示手法"
   ]
  },
  {
   "cell_type": "code",
   "execution_count": 43,
   "metadata": {
    "vscode": {
     "languageId": "r"
    }
   },
   "outputs": [
    {
     "data": {
      "text/plain": [
       "\n",
       "  Random/Generated Bayesian network\n",
       "\n",
       "  model:\n",
       "   [A][S][E|A:S][O|E][R|E][T|O:R] \n",
       "  nodes:                                 6 \n",
       "  arcs:                                  6 \n",
       "    undirected arcs:                     0 \n",
       "    directed arcs:                       6 \n",
       "  average markov blanket size:           2.67 \n",
       "  average neighbourhood size:            2.00 \n",
       "  average branching factor:              1.00 \n",
       "\n",
       "  generation algorithm:                  Empty \n"
      ]
     },
     "metadata": {},
     "output_type": "display_data"
    }
   ],
   "source": [
    "dag = model2network(\"[A][S][E|A:S][O|E][R|E][T|O:R]\")\n",
    "dag"
   ]
  },
  {
   "cell_type": "markdown",
   "metadata": {},
   "source": [
    "除了使用字符串的方法构建网络, 还可以使用节点之间的关系, 例如下面的代码,\n",
    "`arc.set`是一个矩阵, 每一行表示一个关系, 第一列表示父节点, 第二列表示子节点, 下面的代码与上面的代码表示的相同的网络:\n",
    "\n"
   ]
  },
  {
   "cell_type": "code",
   "execution_count": 44,
   "metadata": {
    "vscode": {
     "languageId": "r"
    }
   },
   "outputs": [
    {
     "data": {
      "text/plain": [
       "\n",
       "  Random/Generated Bayesian network\n",
       "\n",
       "  model:\n",
       "   [A][S][E|A:S][O|E][R|E][T|O:R] \n",
       "  nodes:                                 6 \n",
       "  arcs:                                  6 \n",
       "    undirected arcs:                     0 \n",
       "    directed arcs:                       6 \n",
       "  average markov blanket size:           2.67 \n",
       "  average neighbourhood size:            2.00 \n",
       "  average branching factor:              1.00 \n",
       "\n",
       "  generation algorithm:                  Empty \n"
      ]
     },
     "metadata": {},
     "output_type": "display_data"
    }
   ],
   "source": [
    "arc.set = matrix(c(\"A\", \"E\",\n",
    "                   \"S\", \"E\",\n",
    "                   \"E\", \"O\",\n",
    "                   \"E\", \"R\",\n",
    "                   \"O\", \"T\",\n",
    "                   \"R\", \"T\"),\n",
    "            byrow = TRUE, ncol = 2,\n",
    "            dimnames = list(NULL, c(\"from\", \"to\")))\n",
    "dag = empty.graph(c(\"A\", \"S\", \"E\", \"O\", \"R\", \"T\"))\n",
    "arcs(dag) = arc.set\n",
    "dag"
   ]
  },
  {
   "cell_type": "markdown",
   "metadata": {},
   "source": [
    "#### 网络可视化\n",
    "\n",
    "我们可以使用 plot 函数可视化一个网络, 但是如下你看到的, 这个图看起来没有规律,\n",
    "比较乱, 这就是为什么我们不推荐使用 plot. "
   ]
  },
  {
   "cell_type": "code",
   "execution_count": 45,
   "metadata": {
    "vscode": {
     "languageId": "r"
    }
   },
   "outputs": [
    {
     "data": {
      "image/png": "[encoded data removed]",
      "text/plain": [
       "plot without title"
      ]
     },
     "metadata": {
      "image/png": {
       "height": 420,
       "width": 420
      }
     },
     "output_type": "display_data"
    }
   ],
   "source": [
    "plot(dag)"
   ]
  },
  {
   "cell_type": "markdown",
   "metadata": {},
   "source": [
    "那么我们还可以使用 graphviz.plot 这个函数, \n",
    "这个函数不是来自于bnlearn, 它来自于 Rgraphviz , 所以我们先安装一下."
   ]
  },
  {
   "cell_type": "code",
   "execution_count": 46,
   "metadata": {
    "vscode": {
     "languageId": "r"
    }
   },
   "outputs": [
    {
     "name": "stdout",
     "output_type": "stream",
     "text": [
      "package 'BiocManager' successfully unpacked and MD5 sums checked\n",
      "\n",
      "The downloaded binary packages are in\n",
      "\tC:\\Users\\syd\\AppData\\Local\\Temp\\RtmpK8WHs0\\downloaded_packages\n"
     ]
    },
    {
     "name": "stderr",
     "output_type": "stream",
     "text": [
      "'getOption(\"repos\")' replaces Bioconductor standard repositories, see\n",
      "'help(\"repositories\", package = \"BiocManager\")' for details.\n",
      "Replacement repositories:\n",
      "    CRAN: https://cran.r-project.org\n",
      "\n",
      "Bioconductor version 3.18 (BiocManager 1.30.22), R 4.3.1 (2023-06-16 ucrt)\n",
      "\n",
      "Warning message:\n",
      "\"package(s) not installed when version(s) same as or greater than current; use\n",
      "  `force = TRUE` to re-install: 'Rgraphviz'\"\n",
      "Old packages: 'askpass', 'bookdown', 'brio', 'bslib', 'cli', 'cluster',\n",
      "  'cowplot', 'cpp11', 'curl', 'data.table', 'datawizard', 'DBI', 'dbplyr',\n",
      "  'desc', 'dplyr', 'effectsize', 'emmeans', 'evaluate', 'fansi', 'fontawesome',\n",
      "  'foreign', 'ggplot2', 'ggrepel', 'glue', 'gtable', 'haven', 'htmltools',\n",
      "  'insight', 'jsonlite', 'KernSmooth', 'knitr', 'labeling', 'lattice',\n",
      "  'lifecycle', 'lme4', 'lubridate', 'markdown', 'Matrix', 'MatrixModels',\n",
      "  'mgcv', 'minqa', 'mvtnorm', 'nlme', 'openssl', 'parameters', 'performance',\n",
      "  'pkgload', 'plyr', 'prettyunits', 'processx', 'progress', 'psych', 'ragg',\n",
      "  'Rcpp', 'RcppEigen', 'rematch', 'rlang', 'rmarkdown', 'rpart', 'rprojroot',\n",
      "  'sass', 'scales', 'spatial', 'stringi', 'stringr', 'survival', 'systemfonts',\n",
      "  'testthat', 'textshaping', 'tinytex', 'utf8', 'vctrs', 'vroom', 'waldo',\n",
      "  'withr', 'xfun', 'xml2', 'yaml'\n",
      "\n"
     ]
    }
   ],
   "source": [
    "install.packages(\"BiocManager\")\n",
    "BiocManager::install(\"Rgraphviz\")"
   ]
  },
  {
   "cell_type": "markdown",
   "metadata": {},
   "source": [
    "加载 Rgraphviz:"
   ]
  },
  {
   "cell_type": "code",
   "execution_count": 47,
   "metadata": {
    "vscode": {
     "languageId": "r"
    }
   },
   "outputs": [],
   "source": [
    "library(\"Rgraphviz\")"
   ]
  },
  {
   "cell_type": "code",
   "execution_count": 48,
   "metadata": {
    "vscode": {
     "languageId": "r"
    }
   },
   "outputs": [
    {
     "data": {
      "image/png": "[encoded data removed]",
      "text/plain": [
       "plot without title"
      ]
     },
     "metadata": {
      "image/png": {
       "height": 420,
       "width": 420
      }
     },
     "output_type": "display_data"
    }
   ],
   "source": [
    "# 可视化\n",
    "\n",
    "graphviz.plot(dag, layout = \"dot\")"
   ]
  },
  {
   "cell_type": "markdown",
   "metadata": {},
   "source": [
    "你现在看到的图是不是已经好多了, 你还可以更改布局:"
   ]
  },
  {
   "cell_type": "code",
   "execution_count": 49,
   "metadata": {
    "vscode": {
     "languageId": "r"
    }
   },
   "outputs": [
    {
     "data": {
      "image/png": "[encoded data removed]",
      "text/plain": [
       "plot without title"
      ]
     },
     "metadata": {
      "image/png": {
       "height": 420,
       "width": 420
      }
     },
     "output_type": "display_data"
    }
   ],
   "source": [
    "graphviz.plot(dag, layout = \"fdp\")"
   ]
  },
  {
   "cell_type": "code",
   "execution_count": 50,
   "metadata": {
    "vscode": {
     "languageId": "r"
    }
   },
   "outputs": [
    {
     "data": {
      "image/png": "[encoded data removed]",
      "text/plain": [
       "plot without title"
      ]
     },
     "metadata": {
      "image/png": {
       "height": 420,
       "width": 420
      }
     },
     "output_type": "display_data"
    }
   ],
   "source": [
    "graphviz.plot(dag, layout = \"circo\")"
   ]
  },
  {
   "cell_type": "markdown",
   "metadata": {},
   "source": [
    "更改颜色:"
   ]
  },
  {
   "cell_type": "code",
   "execution_count": 51,
   "metadata": {
    "vscode": {
     "languageId": "r"
    }
   },
   "outputs": [
    {
     "data": {
      "image/png": "[encoded data removed]",
      "text/plain": [
       "plot without title"
      ]
     },
     "metadata": {
      "image/png": {
       "height": 420,
       "width": 420
      }
     },
     "output_type": "display_data"
    }
   ],
   "source": [
    "hlight <- list(nodes = nodes(dag), arcs = arcs(dag),\n",
    "               col = \"blue\", textCol = \"blue\")\n",
    "pp <- graphviz.plot(dag, highlight = hlight)"
   ]
  },
  {
   "cell_type": "code",
   "execution_count": 52,
   "metadata": {
    "vscode": {
     "languageId": "r"
    }
   },
   "outputs": [
    {
     "data": {
      "image/png": "[encoded data removed]",
      "text/plain": [
       "plot without title"
      ]
     },
     "metadata": {
      "image/png": {
       "height": 420,
       "width": 420
      }
     },
     "output_type": "display_data"
    }
   ],
   "source": [
    "# 箭头颜色也可以更改:\n",
    "\n",
    "edgeRenderInfo(pp) <- list(col = c(\"S~E\" = \"black\", \"E~R\" = \"black\"),\n",
    "                           lwd = c(\"S~E\" = 3, \"E~R\" = 3))\n",
    "# 需要重新渲染才能看到图\n",
    "\n",
    "renderGraph(pp)"
   ]
  },
  {
   "cell_type": "markdown",
   "metadata": {},
   "source": [
    "#### 根据数据求解图结构\n",
    "\n",
    "图结构是可以由数据学习而来, 研究者可能对最初是的图结构没有预先定义, \n",
    "他也不知道使用什么图结构比较好, 那么这时候可是用函数 hc 来求解图结构:"
   ]
  },
  {
   "cell_type": "code",
   "execution_count": 71,
   "metadata": {
    "vscode": {
     "languageId": "r"
    }
   },
   "outputs": [
    {
     "data": {
      "text/plain": [
       "\n",
       "  Bayesian network learned via Score-based methods\n",
       "\n",
       "  model:\n",
       "   [A][S][O][E|A:S][R|E][T|R] \n",
       "  nodes:                                 6 \n",
       "  arcs:                                  4 \n",
       "    undirected arcs:                     0 \n",
       "    directed arcs:                       4 \n",
       "  average markov blanket size:           1.67 \n",
       "  average neighbourhood size:            1.33 \n",
       "  average branching factor:              0.67 \n",
       "\n",
       "  learning algorithm:                    Hill-Climbing \n",
       "  score:                                 BIC (disc.) \n",
       "  penalization coefficient:              3.107304 \n",
       "  tests used in the learning procedure:  35 \n",
       "  optimized:                             TRUE \n"
      ]
     },
     "metadata": {},
     "output_type": "display_data"
    }
   ],
   "source": [
    "survey$A = as.factor(survey$A)\n",
    "survey$R = as.factor(survey$R)\n",
    "survey$E = as.factor(survey$E)\n",
    "survey$O = as.factor(survey$O)\n",
    "survey$S = as.factor(survey$S)\n",
    "survey$T = as.factor(survey$T)\n",
    "\n",
    "dag = hc(survey)\n",
    "\n",
    "dag"
   ]
  },
  {
   "cell_type": "code",
   "execution_count": 72,
   "metadata": {
    "vscode": {
     "languageId": "r"
    }
   },
   "outputs": [
    {
     "data": {
      "image/png": "[encoded data removed]",
      "text/plain": [
       "plot without title"
      ]
     },
     "metadata": {
      "image/png": {
       "height": 420,
       "width": 420
      }
     },
     "output_type": "display_data"
    }
   ],
   "source": [
    "# 可视化\n",
    "\n",
    "graphviz.plot(dag, layout = \"dot\")\n"
   ]
  },
  {
   "cell_type": "markdown",
   "metadata": {},
   "source": [
    "你可以看到, 这个网络结构与我们预先定义的网络结构有些相似, 但是O节点没啥用, \n",
    "也就是这个变量似乎与其他变量没什么关系, 这时候你注意, \n",
    "如果研究者认为O变量很重要, 可以重新加入到你的模型中, \n",
    "如果O可有可无, 就应该从模型中删除, \n",
    "不必完全相信算法给你的结果."
   ]
  },
  {
   "cell_type": "markdown",
   "metadata": {},
   "source": [
    "#### 参数学习\n",
    "\n"
   ]
  },
  {
   "cell_type": "markdown",
   "metadata": {},
   "source": [
    "在继续讲解bnlearn的函数之前, 需要先理解今天的案例用到的图模型是分类节点构成的模型,\n",
    "那么模型的参数就是分类变量的条件分布概率, 如果你学过概率论应该知道, 我们可以用表格来表示条件分布概率:\n",
    "\n",
    "```\n",
    "##       E\n",
    "## O      high  uni\n",
    "##   emp  0.98 0.92\n",
    "##   self 0.04 0.08\n",
    "```\n",
    "\n",
    "上面的概率是如何计算的呢, 请看公式:\n",
    "\n",
    "$$\n",
    "\\hat{Pr}(O = emp | E = high) = \\frac{\\hat{Pr}(O = emp, E = high)}{\\hat{Pr}(E = high)}= \\frac{\\text{number of observations for which O = emp and E = high}}{\\text{number of observations for which E = high}}\n",
    "$$"
   ]
  },
  {
   "cell_type": "markdown",
   "metadata": {},
   "source": [
    "用通俗的语言来说就是, 在 E为high的条件下, O为emp的概率是0.98, 在你的数据中, E为high同时O为emp的样本数除以E为high的样本数就是这个条件概率.\n",
    "手动计算这个概率就是:"
   ]
  },
  {
   "cell_type": "code",
   "execution_count": 55,
   "metadata": {
    "vscode": {
     "languageId": "r"
    }
   },
   "outputs": [
    {
     "data": {
      "text/html": [
       "0.982758620689655"
      ],
      "text/latex": [
       "0.982758620689655"
      ],
      "text/markdown": [
       "0.982758620689655"
      ],
      "text/plain": [
       "[1] 0.9827586"
      ]
     },
     "metadata": {},
     "output_type": "display_data"
    }
   ],
   "source": [
    "N.E.high = nrow(subset(survey, E==\"high\"))\n",
    "N.E.high.O.emp = nrow(subset(survey, E==\"high\" & O==\"emp\"))\n",
    "\n",
    "N.E.high.O.emp / N.E.high\n",
    "\n"
   ]
  },
  {
   "cell_type": "markdown",
   "metadata": {},
   "source": [
    "bnlearn 提供了 函数 bn.fit 帮助我们求所有的条件概率:"
   ]
  },
  {
   "cell_type": "code",
   "execution_count": 73,
   "metadata": {
    "vscode": {
     "languageId": "r"
    }
   },
   "outputs": [
    {
     "data": {
      "text/plain": [
       "\n",
       "  Bayesian network parameters\n",
       "\n",
       "  Parameters of node A (multinomial distribution)\n",
       "\n",
       "Conditional probability table:\n",
       " adult   old young \n",
       "0.388 0.138 0.474 \n",
       "\n",
       "  Parameters of node S (multinomial distribution)\n",
       "\n",
       "Conditional probability table:\n",
       "     F     M \n",
       "0.522 0.478 \n",
       "\n",
       "  Parameters of node E (multinomial distribution)\n",
       "\n",
       "Conditional probability table:\n",
       " \n",
       ", , S = F\n",
       "\n",
       "      A\n",
       "E          adult       old     young\n",
       "  high 0.5188679 0.8717949 0.1206897\n",
       "  uni  0.4811321 0.1282051 0.8793103\n",
       "\n",
       ", , S = M\n",
       "\n",
       "      A\n",
       "E          adult       old     young\n",
       "  high 0.7613636 0.9000000 0.7685950\n",
       "  uni  0.2386364 0.1000000 0.2314050\n",
       "\n",
       "\n",
       "  Parameters of node O (multinomial distribution)\n",
       "\n",
       "Conditional probability table:\n",
       "  emp self \n",
       "0.98 0.02 \n",
       "\n",
       "  Parameters of node R (multinomial distribution)\n",
       "\n",
       "Conditional probability table:\n",
       " \n",
       "       E\n",
       "R             high        uni\n",
       "  big   0.75862069 0.93809524\n",
       "  small 0.24137931 0.06190476\n",
       "\n",
       "  Parameters of node T (multinomial distribution)\n",
       "\n",
       "Conditional probability table:\n",
       " \n",
       "       R\n",
       "T              big      small\n",
       "  car   0.69784173 0.53012048\n",
       "  other 0.13908873 0.08433735\n",
       "  train 0.16306954 0.38554217\n"
      ]
     },
     "metadata": {},
     "output_type": "display_data"
    }
   ],
   "source": [
    "fitted = bn.fit(dag, survey)\n",
    "fitted"
   ]
  },
  {
   "cell_type": "markdown",
   "metadata": {},
   "source": [
    "这个 fitted 包含了所有条件概率, 从输出中你已经看到.\n",
    "下面我们可以看下这个模型的预测效果:"
   ]
  },
  {
   "cell_type": "code",
   "execution_count": 74,
   "metadata": {
    "vscode": {
     "languageId": "r"
    }
   },
   "outputs": [
    {
     "data": {
      "text/plain": [
       "       \n",
       "pred    car other train\n",
       "  car   335    65   100\n",
       "  other   0     0     0\n",
       "  train   0     0     0"
      ]
     },
     "metadata": {},
     "output_type": "display_data"
    }
   ],
   "source": [
    "# 使用fitted 得到的参数预测survey中的T节点, 可以看下预测效果\n",
    "pred = predict(fitted, data=survey, node=\"T\")\n",
    "\n",
    "table(pred, survey$T)"
   ]
  },
  {
   "cell_type": "markdown",
   "metadata": {},
   "source": [
    "结果是挺差的, 但是这个结果可以看出, 我们的模型把所有样本都预测为car, 因为T是一个分布很不均匀的变量, \n",
    "car占的比例过高, 导致模型倾向于预测分布概率较高的分类. 另外导致这个问题的还有模型的结构, 你可以看下模型的结构:\n",
    "\n",
    "对T有直接影响的就只有R, 也就是说预测T的时候, 只用到了R的取值, 信息损失严重, 所以我们有必要对模型进行修正."
   ]
  },
  {
   "cell_type": "code",
   "execution_count": 75,
   "metadata": {
    "vscode": {
     "languageId": "r"
    }
   },
   "outputs": [
    {
     "data": {
      "image/png": "[encoded data removed]",
      "text/plain": [
       "plot without title"
      ]
     },
     "metadata": {
      "image/png": {
       "height": 420,
       "width": 420
      }
     },
     "output_type": "display_data"
    }
   ],
   "source": [
    "graphviz.plot(dag, layout = \"dot\")"
   ]
  },
  {
   "cell_type": "markdown",
   "metadata": {},
   "source": [
    "hc 函数提供了白名单功能, 也就是白名单之中的关系将被保留到模型中, 不受算法的影响, 我们为了保留尽量多的信息, \n",
    "将所有节点对T的关系都加入白名单, 看代码:"
   ]
  },
  {
   "cell_type": "code",
   "execution_count": 79,
   "metadata": {
    "vscode": {
     "languageId": "r"
    }
   },
   "outputs": [
    {
     "data": {
      "image/png": "[encoded data removed]",
      "text/plain": [
       "plot without title"
      ]
     },
     "metadata": {
      "image/png": {
       "height": 420,
       "width": 420
      }
     },
     "output_type": "display_data"
    }
   ],
   "source": [
    "survey <- read.csv(\"transportation_survey.csv\", header = TRUE)\n",
    "whitelist = data.frame(from=c(\"A\", \"E\", \"O\", \"S\", \"R\"), to=c(\"T\", \"T\", \"T\", \"T\", \"T\"))\n",
    "survey$A = as.factor(survey$A)\n",
    "survey$R = as.factor(survey$R)\n",
    "survey$E = as.factor(survey$E)\n",
    "survey$O = as.factor(survey$O)\n",
    "survey$S = as.factor(survey$S)\n",
    "survey$T = as.factor(survey$T)\n",
    "\n",
    "dag = hc(survey, whitelist=whitelist)\n",
    "plot(dag)"
   ]
  },
  {
   "cell_type": "markdown",
   "metadata": {},
   "source": [
    "新的模型结构好多了, 我们看下模型预测的结果, 已经有很多样本被预测为非car意外的类别, \n",
    "当然模型还有很大的提升空间, 但是我们先到此位置, 作为一个入门级教程, 不适于再深入."
   ]
  },
  {
   "cell_type": "code",
   "execution_count": 80,
   "metadata": {
    "vscode": {
     "languageId": "r"
    }
   },
   "outputs": [
    {
     "data": {
      "text/plain": [
       "       \n",
       "pred    car other train\n",
       "  car   323    60    78\n",
       "  other   1     3     1\n",
       "  train  11     2    21"
      ]
     },
     "metadata": {},
     "output_type": "display_data"
    }
   ],
   "source": [
    "fitted = bn.fit(dag, data=survey)\n",
    "pred = predict(fitted, data=survey, node=\"T\")\n",
    "\n",
    "table(pred, survey$T)"
   ]
  },
  {
   "cell_type": "markdown",
   "metadata": {},
   "source": []
  },
  {
   "cell_type": "markdown",
   "metadata": {},
   "source": [
    "除了从数据中学习模型参数, \n",
    "研究者可以自己提供参数, 使用 custom.fit 函数, 这个需要你手动设定所有的条件概率, 例如下面代码\n"
   ]
  },
  {
   "cell_type": "code",
   "execution_count": 90,
   "metadata": {
    "vscode": {
     "languageId": "r"
    }
   },
   "outputs": [
    {
     "data": {
      "text/plain": [
       "\n",
       "  Bayesian network parameters\n",
       "\n",
       "  Parameters of node A (multinomial distribution)\n",
       "\n",
       "Conditional probability table:\n",
       " A\n",
       "young adult   old \n",
       "  0.3   0.5   0.2 \n",
       "\n",
       "  Parameters of node E (multinomial distribution)\n",
       "\n",
       "Conditional probability table:\n",
       " \n",
       ", , S = M\n",
       "\n",
       "      A\n",
       "E      young adult  old\n",
       "  high  0.75  0.72 0.88\n",
       "  uni   0.25  0.28 0.12\n",
       "\n",
       ", , S = F\n",
       "\n",
       "      A\n",
       "E      young adult  old\n",
       "  high  0.64  0.70 0.90\n",
       "  uni   0.36  0.30 0.10\n",
       "\n",
       "\n",
       "  Parameters of node O (multinomial distribution)\n",
       "\n",
       "Conditional probability table:\n",
       " \n",
       "      E\n",
       "O      high  uni\n",
       "  emp  0.96 0.92\n",
       "  self 0.04 0.08\n",
       "\n",
       "  Parameters of node R (multinomial distribution)\n",
       "\n",
       "Conditional probability table:\n",
       " \n",
       "       E\n",
       "R       high  uni\n",
       "  big   0.25 0.20\n",
       "  small 0.75 0.80\n",
       "\n",
       "  Parameters of node S (multinomial distribution)\n",
       "\n",
       "Conditional probability table:\n",
       " S\n",
       "  M   F \n",
       "0.6 0.4 \n",
       "\n",
       "  Parameters of node T (multinomial distribution)\n",
       "\n",
       "Conditional probability table:\n",
       " \n",
       ", , R = big\n",
       "\n",
       "       O\n",
       "T        emp self\n",
       "  car   0.48 0.56\n",
       "  other 0.42 0.36\n",
       "  train 0.10 0.08\n",
       "\n",
       ", , R = small\n",
       "\n",
       "       O\n",
       "T        emp self\n",
       "  car   0.58 0.70\n",
       "  other 0.24 0.21\n",
       "  train 0.18 0.09\n",
       "\n"
      ]
     },
     "metadata": {},
     "output_type": "display_data"
    }
   ],
   "source": [
    "dag2 = model2network(\"[A][S][E|A:S][O|E][R|E][T|O:R]\")\n",
    "A.lv = c(\"young\", \"adult\", \"old\")\n",
    "S.lv = c(\"M\", \"F\")\n",
    "E.lv = c(\"high\", \"uni\")\n",
    "O.lv = c(\"emp\", \"self\")\n",
    "R.lv = c(\"big\",\"small\")\n",
    "T.lv = c(\"car\", \"other\", \"train\")\n",
    "A.prob = array(c(0.30, 0.50, 0.20), dim = 3, dimnames = list(A = A.lv))\n",
    "S.prob = array(c(0.60, 0.40), dim = 2, dimnames = list(S = S.lv))\n",
    "O.prob = array(c(0.96, 0.04, 0.92, 0.08), dim = c(2, 2),\n",
    "            dimnames = list(O = O.lv, E = E.lv))\n",
    "R.prob = array(c(0.25, 0.75, 0.20, 0.80), dim = c(2, 2),\n",
    "            dimnames = list(R = R.lv, E = E.lv))\n",
    "E.prob = array(c(0.75, 0.25, 0.72, 0.28, 0.88, 0.12, 0.64,\n",
    "            0.36, 0.70, 0.30, 0.90, 0.10), dim = c(2, 3, 2),\n",
    "            dimnames = list(E = E.lv, A = A.lv, S = S.lv))\n",
    "\n",
    "T.prob = array(c(0.48, 0.42, 0.10, 0.56, 0.36, 0.08, 0.58,\n",
    "            0.24, 0.18, 0.70, 0.21, 0.09), dim = c(3, 2, 2),\n",
    "            dimnames = list(T = T.lv, O = O.lv, R = R.lv))\n",
    "cpt = list(A = A.prob, S = S.prob, E = E.prob, O = O.prob, R = R.prob, T = T.prob)\n",
    "custom.fitted = custom.fit(dag2, cpt)\n",
    "\n",
    "custom.fitted"
   ]
  },
  {
   "cell_type": "markdown",
   "metadata": {},
   "source": [
    "这个预测的效果也不咋地:"
   ]
  },
  {
   "cell_type": "code",
   "execution_count": 91,
   "metadata": {
    "vscode": {
     "languageId": "r"
    }
   },
   "outputs": [
    {
     "data": {
      "text/plain": [
       "       \n",
       "pred    car other train\n",
       "  car   335    65   100\n",
       "  other   0     0     0\n",
       "  train   0     0     0"
      ]
     },
     "metadata": {},
     "output_type": "display_data"
    }
   ],
   "source": [
    "\n",
    "pred = predict(custom.fitted, data=survey, node=\"T\")\n",
    "\n",
    "table(pred, survey$T)"
   ]
  },
  {
   "cell_type": "markdown",
   "metadata": {},
   "source": [
    "#### 从模型中采样\n",
    "\n",
    "当你得到了包含参数的网络模型, 例如上面代码中的 fitted, 你可以做很多事情, \n",
    "例如, 你可以从这个网络中生成样本, 使用 rbn 函数生成10个样本:"
   ]
  },
  {
   "cell_type": "code",
   "execution_count": 63,
   "metadata": {
    "vscode": {
     "languageId": "r"
    }
   },
   "outputs": [
    {
     "data": {
      "text/html": [
       "<table class=\"dataframe\">\n",
       "<caption>A data.frame: 6 × 6</caption>\n",
       "<thead>\n",
       "\t<tr><th></th><th scope=col>A</th><th scope=col>S</th><th scope=col>E</th><th scope=col>O</th><th scope=col>R</th><th scope=col>T</th></tr>\n",
       "\t<tr><th></th><th scope=col>&lt;fct&gt;</th><th scope=col>&lt;fct&gt;</th><th scope=col>&lt;fct&gt;</th><th scope=col>&lt;fct&gt;</th><th scope=col>&lt;fct&gt;</th><th scope=col>&lt;fct&gt;</th></tr>\n",
       "</thead>\n",
       "<tbody>\n",
       "\t<tr><th scope=row>1</th><td>young</td><td>M</td><td>high</td><td>emp</td><td>small</td><td>train</td></tr>\n",
       "\t<tr><th scope=row>2</th><td>young</td><td>M</td><td>high</td><td>emp</td><td>big  </td><td>car  </td></tr>\n",
       "\t<tr><th scope=row>3</th><td>young</td><td>F</td><td>high</td><td>emp</td><td>big  </td><td>car  </td></tr>\n",
       "\t<tr><th scope=row>4</th><td>adult</td><td>F</td><td>high</td><td>emp</td><td>small</td><td>car  </td></tr>\n",
       "\t<tr><th scope=row>5</th><td>adult</td><td>F</td><td>high</td><td>emp</td><td>big  </td><td>other</td></tr>\n",
       "\t<tr><th scope=row>6</th><td>young</td><td>F</td><td>uni </td><td>emp</td><td>big  </td><td>car  </td></tr>\n",
       "</tbody>\n",
       "</table>\n"
      ],
      "text/latex": [
       "A data.frame: 6 × 6\n",
       "\\begin{tabular}{r|llllll}\n",
       "  & A & S & E & O & R & T\\\\\n",
       "  & <fct> & <fct> & <fct> & <fct> & <fct> & <fct>\\\\\n",
       "\\hline\n",
       "\t1 & young & M & high & emp & small & train\\\\\n",
       "\t2 & young & M & high & emp & big   & car  \\\\\n",
       "\t3 & young & F & high & emp & big   & car  \\\\\n",
       "\t4 & adult & F & high & emp & small & car  \\\\\n",
       "\t5 & adult & F & high & emp & big   & other\\\\\n",
       "\t6 & young & F & uni  & emp & big   & car  \\\\\n",
       "\\end{tabular}\n"
      ],
      "text/markdown": [
       "\n",
       "A data.frame: 6 × 6\n",
       "\n",
       "| <!--/--> | A &lt;fct&gt; | S &lt;fct&gt; | E &lt;fct&gt; | O &lt;fct&gt; | R &lt;fct&gt; | T &lt;fct&gt; |\n",
       "|---|---|---|---|---|---|---|\n",
       "| 1 | young | M | high | emp | small | train |\n",
       "| 2 | young | M | high | emp | big   | car   |\n",
       "| 3 | young | F | high | emp | big   | car   |\n",
       "| 4 | adult | F | high | emp | small | car   |\n",
       "| 5 | adult | F | high | emp | big   | other |\n",
       "| 6 | young | F | uni  | emp | big   | car   |\n",
       "\n"
      ],
      "text/plain": [
       "  A     S E    O   R     T    \n",
       "1 young M high emp small train\n",
       "2 young M high emp big   car  \n",
       "3 young F high emp big   car  \n",
       "4 adult F high emp small car  \n",
       "5 adult F high emp big   other\n",
       "6 young F uni  emp big   car  "
      ]
     },
     "metadata": {},
     "output_type": "display_data"
    }
   ],
   "source": [
    "sample.data = rbn(fitted, n = 100)\n",
    "head(sample.data)"
   ]
  },
  {
   "cell_type": "markdown",
   "metadata": {},
   "source": [
    "#### 预测节点\n",
    "\n",
    "我们可以对节点(变量)的取值进行预测, 例如, 假设知道了除T以外的所有节点(变量)的取值,\n",
    "可以对T变量进行预测:"
   ]
  },
  {
   "cell_type": "code",
   "execution_count": 94,
   "metadata": {
    "vscode": {
     "languageId": "r"
    }
   },
   "outputs": [
    {
     "data": {
      "text/html": [
       "<style>\n",
       ".list-inline {list-style: none; margin:0; padding: 0}\n",
       ".list-inline>li {display: inline-block}\n",
       ".list-inline>li:not(:last-child)::after {content: \"\\00b7\"; padding: 0 .5ex}\n",
       "</style>\n",
       "<ol class=list-inline><li>car</li><li>car</li><li>car</li><li>other</li><li>car</li><li>car</li><li>car</li><li>car</li><li>car</li><li>car</li><li>car</li><li>car</li><li>car</li><li>train</li><li>car</li><li>car</li><li>car</li><li>car</li><li>car</li><li>car</li><li>car</li><li>car</li><li>car</li><li>car</li><li>car</li><li>car</li><li>car</li><li>car</li><li>train</li><li>train</li><li>car</li><li>car</li><li>car</li><li>car</li><li>car</li><li>car</li><li>car</li><li>car</li><li>train</li><li>car</li><li>car</li><li>train</li><li>car</li><li>car</li><li>car</li><li>car</li><li>car</li><li>car</li><li>car</li><li>car</li><li>car</li><li>train</li><li>car</li><li>car</li><li>car</li><li>car</li><li>car</li><li>car</li><li>car</li><li>car</li><li>car</li><li>car</li><li>car</li><li>car</li><li>car</li><li>car</li><li>car</li><li>car</li><li>car</li><li>car</li><li>train</li><li>car</li><li>car</li><li>car</li><li>car</li><li>car</li><li>car</li><li>car</li><li>car</li><li>car</li><li>car</li><li>car</li><li>car</li><li>car</li><li>car</li><li>car</li><li>car</li><li>train</li><li>car</li><li>car</li><li>car</li><li>car</li><li>car</li><li>car</li><li>car</li><li>car</li><li>car</li><li>car</li><li>train</li><li>car</li><li>car</li><li>car</li><li>car</li><li>car</li><li>car</li><li>car</li><li>car</li><li>car</li><li>car</li><li>car</li><li>car</li><li>car</li><li>car</li><li>car</li><li>car</li><li>car</li><li>car</li><li>car</li><li>car</li><li>car</li><li>car</li><li>car</li><li>car</li><li>car</li><li>car</li><li>car</li><li>car</li><li>car</li><li>car</li><li>car</li><li>car</li><li>car</li><li>train</li><li>car</li><li>car</li><li>car</li><li>car</li><li>car</li><li>car</li><li>car</li><li>car</li><li>car</li><li>train</li><li>car</li><li>car</li><li>car</li><li>car</li><li>car</li><li>car</li><li>car</li><li>car</li><li>train</li><li>train</li><li>car</li><li>car</li><li>car</li><li>car</li><li>car</li><li>car</li><li>car</li><li>car</li><li>car</li><li>car</li><li>car</li><li>car</li><li>car</li><li>car</li><li>car</li><li>car</li><li>car</li><li>car</li><li>car</li><li>car</li><li>car</li><li>car</li><li>car</li><li>car</li><li>car</li><li>car</li><li>car</li><li>car</li><li>car</li><li>car</li><li>car</li><li>car</li><li>car</li><li>car</li><li>car</li><li>car</li><li>car</li><li>car</li><li>car</li><li>car</li><li>car</li><li>car</li><li>car</li><li>car</li><li>car</li><li>car</li><li>car</li><li>⋯</li><li>car</li><li>car</li><li>car</li><li>car</li><li>car</li><li>car</li><li>car</li><li>car</li><li>car</li><li>car</li><li>car</li><li>car</li><li>car</li><li>car</li><li>car</li><li>car</li><li>car</li><li>car</li><li>car</li><li>car</li><li>car</li><li>car</li><li>car</li><li>car</li><li>car</li><li>car</li><li>car</li><li>car</li><li>car</li><li>car</li><li>car</li><li>train</li><li>car</li><li>car</li><li>car</li><li>car</li><li>car</li><li>car</li><li>car</li><li>car</li><li>car</li><li>car</li><li>car</li><li>car</li><li>car</li><li>car</li><li>car</li><li>car</li><li>car</li><li>car</li><li>car</li><li>car</li><li>car</li><li>car</li><li>car</li><li>car</li><li>car</li><li>car</li><li>car</li><li>car</li><li>car</li><li>car</li><li>car</li><li>train</li><li>car</li><li>car</li><li>car</li><li>car</li><li>car</li><li>car</li><li>car</li><li>car</li><li>car</li><li>car</li><li>car</li><li>car</li><li>train</li><li>car</li><li>car</li><li>train</li><li>car</li><li>car</li><li>car</li><li>car</li><li>car</li><li>car</li><li>car</li><li>car</li><li>car</li><li>car</li><li>car</li><li>car</li><li>car</li><li>car</li><li>car</li><li>car</li><li>car</li><li>car</li><li>car</li><li>car</li><li>car</li><li>train</li><li>car</li><li>car</li><li>car</li><li>car</li><li>car</li><li>car</li><li>car</li><li>car</li><li>car</li><li>car</li><li>car</li><li>car</li><li>car</li><li>car</li><li>car</li><li>car</li><li>train</li><li>car</li><li>car</li><li>car</li><li>car</li><li>car</li><li>car</li><li>car</li><li>car</li><li>car</li><li>car</li><li>car</li><li>car</li><li>car</li><li>car</li><li>car</li><li>car</li><li>car</li><li>car</li><li>other</li><li>car</li><li>car</li><li>train</li><li>car</li><li>car</li><li>car</li><li>car</li><li>car</li><li>car</li><li>train</li><li>car</li><li>car</li><li>car</li><li>car</li><li>car</li><li>car</li><li>car</li><li>car</li><li>car</li><li>car</li><li>car</li><li>car</li><li>car</li><li>car</li><li>car</li><li>car</li><li>car</li><li>car</li><li>car</li><li>car</li><li>car</li><li>car</li><li>car</li><li>car</li><li>car</li><li>car</li><li>car</li><li>other</li><li>car</li><li>car</li><li>car</li><li>car</li><li>car</li><li>car</li><li>car</li><li>car</li><li>car</li><li>car</li><li>car</li><li>car</li><li>other</li><li>car</li><li>car</li><li>car</li><li>car</li><li>car</li><li>car</li><li>car</li><li>car</li><li>train</li><li>train</li><li>car</li></ol>\n",
       "\n",
       "<details>\n",
       "\t<summary style=display:list-item;cursor:pointer>\n",
       "\t\t<strong>Levels</strong>:\n",
       "\t</summary>\n",
       "\t<style>\n",
       "\t.list-inline {list-style: none; margin:0; padding: 0}\n",
       "\t.list-inline>li {display: inline-block}\n",
       "\t.list-inline>li:not(:last-child)::after {content: \"\\00b7\"; padding: 0 .5ex}\n",
       "\t</style>\n",
       "\t<ol class=list-inline><li>'car'</li><li>'other'</li><li>'train'</li></ol>\n",
       "</details>"
      ],
      "text/latex": [
       "\\begin{enumerate*}\n",
       "\\item car\n",
       "\\item car\n",
       "\\item car\n",
       "\\item other\n",
       "\\item car\n",
       "\\item car\n",
       "\\item car\n",
       "\\item car\n",
       "\\item car\n",
       "\\item car\n",
       "\\item car\n",
       "\\item car\n",
       "\\item car\n",
       "\\item train\n",
       "\\item car\n",
       "\\item car\n",
       "\\item car\n",
       "\\item car\n",
       "\\item car\n",
       "\\item car\n",
       "\\item car\n",
       "\\item car\n",
       "\\item car\n",
       "\\item car\n",
       "\\item car\n",
       "\\item car\n",
       "\\item car\n",
       "\\item car\n",
       "\\item train\n",
       "\\item train\n",
       "\\item car\n",
       "\\item car\n",
       "\\item car\n",
       "\\item car\n",
       "\\item car\n",
       "\\item car\n",
       "\\item car\n",
       "\\item car\n",
       "\\item train\n",
       "\\item car\n",
       "\\item car\n",
       "\\item train\n",
       "\\item car\n",
       "\\item car\n",
       "\\item car\n",
       "\\item car\n",
       "\\item car\n",
       "\\item car\n",
       "\\item car\n",
       "\\item car\n",
       "\\item car\n",
       "\\item train\n",
       "\\item car\n",
       "\\item car\n",
       "\\item car\n",
       "\\item car\n",
       "\\item car\n",
       "\\item car\n",
       "\\item car\n",
       "\\item car\n",
       "\\item car\n",
       "\\item car\n",
       "\\item car\n",
       "\\item car\n",
       "\\item car\n",
       "\\item car\n",
       "\\item car\n",
       "\\item car\n",
       "\\item car\n",
       "\\item car\n",
       "\\item train\n",
       "\\item car\n",
       "\\item car\n",
       "\\item car\n",
       "\\item car\n",
       "\\item car\n",
       "\\item car\n",
       "\\item car\n",
       "\\item car\n",
       "\\item car\n",
       "\\item car\n",
       "\\item car\n",
       "\\item car\n",
       "\\item car\n",
       "\\item car\n",
       "\\item car\n",
       "\\item car\n",
       "\\item train\n",
       "\\item car\n",
       "\\item car\n",
       "\\item car\n",
       "\\item car\n",
       "\\item car\n",
       "\\item car\n",
       "\\item car\n",
       "\\item car\n",
       "\\item car\n",
       "\\item car\n",
       "\\item train\n",
       "\\item car\n",
       "\\item car\n",
       "\\item car\n",
       "\\item car\n",
       "\\item car\n",
       "\\item car\n",
       "\\item car\n",
       "\\item car\n",
       "\\item car\n",
       "\\item car\n",
       "\\item car\n",
       "\\item car\n",
       "\\item car\n",
       "\\item car\n",
       "\\item car\n",
       "\\item car\n",
       "\\item car\n",
       "\\item car\n",
       "\\item car\n",
       "\\item car\n",
       "\\item car\n",
       "\\item car\n",
       "\\item car\n",
       "\\item car\n",
       "\\item car\n",
       "\\item car\n",
       "\\item car\n",
       "\\item car\n",
       "\\item car\n",
       "\\item car\n",
       "\\item car\n",
       "\\item car\n",
       "\\item car\n",
       "\\item train\n",
       "\\item car\n",
       "\\item car\n",
       "\\item car\n",
       "\\item car\n",
       "\\item car\n",
       "\\item car\n",
       "\\item car\n",
       "\\item car\n",
       "\\item car\n",
       "\\item train\n",
       "\\item car\n",
       "\\item car\n",
       "\\item car\n",
       "\\item car\n",
       "\\item car\n",
       "\\item car\n",
       "\\item car\n",
       "\\item car\n",
       "\\item train\n",
       "\\item train\n",
       "\\item car\n",
       "\\item car\n",
       "\\item car\n",
       "\\item car\n",
       "\\item car\n",
       "\\item car\n",
       "\\item car\n",
       "\\item car\n",
       "\\item car\n",
       "\\item car\n",
       "\\item car\n",
       "\\item car\n",
       "\\item car\n",
       "\\item car\n",
       "\\item car\n",
       "\\item car\n",
       "\\item car\n",
       "\\item car\n",
       "\\item car\n",
       "\\item car\n",
       "\\item car\n",
       "\\item car\n",
       "\\item car\n",
       "\\item car\n",
       "\\item car\n",
       "\\item car\n",
       "\\item car\n",
       "\\item car\n",
       "\\item car\n",
       "\\item car\n",
       "\\item car\n",
       "\\item car\n",
       "\\item car\n",
       "\\item car\n",
       "\\item car\n",
       "\\item car\n",
       "\\item car\n",
       "\\item car\n",
       "\\item car\n",
       "\\item car\n",
       "\\item car\n",
       "\\item car\n",
       "\\item car\n",
       "\\item car\n",
       "\\item car\n",
       "\\item car\n",
       "\\item car\n",
       "\\item ⋯\n",
       "\\item car\n",
       "\\item car\n",
       "\\item car\n",
       "\\item car\n",
       "\\item car\n",
       "\\item car\n",
       "\\item car\n",
       "\\item car\n",
       "\\item car\n",
       "\\item car\n",
       "\\item car\n",
       "\\item car\n",
       "\\item car\n",
       "\\item car\n",
       "\\item car\n",
       "\\item car\n",
       "\\item car\n",
       "\\item car\n",
       "\\item car\n",
       "\\item car\n",
       "\\item car\n",
       "\\item car\n",
       "\\item car\n",
       "\\item car\n",
       "\\item car\n",
       "\\item car\n",
       "\\item car\n",
       "\\item car\n",
       "\\item car\n",
       "\\item car\n",
       "\\item car\n",
       "\\item train\n",
       "\\item car\n",
       "\\item car\n",
       "\\item car\n",
       "\\item car\n",
       "\\item car\n",
       "\\item car\n",
       "\\item car\n",
       "\\item car\n",
       "\\item car\n",
       "\\item car\n",
       "\\item car\n",
       "\\item car\n",
       "\\item car\n",
       "\\item car\n",
       "\\item car\n",
       "\\item car\n",
       "\\item car\n",
       "\\item car\n",
       "\\item car\n",
       "\\item car\n",
       "\\item car\n",
       "\\item car\n",
       "\\item car\n",
       "\\item car\n",
       "\\item car\n",
       "\\item car\n",
       "\\item car\n",
       "\\item car\n",
       "\\item car\n",
       "\\item car\n",
       "\\item car\n",
       "\\item train\n",
       "\\item car\n",
       "\\item car\n",
       "\\item car\n",
       "\\item car\n",
       "\\item car\n",
       "\\item car\n",
       "\\item car\n",
       "\\item car\n",
       "\\item car\n",
       "\\item car\n",
       "\\item car\n",
       "\\item car\n",
       "\\item train\n",
       "\\item car\n",
       "\\item car\n",
       "\\item train\n",
       "\\item car\n",
       "\\item car\n",
       "\\item car\n",
       "\\item car\n",
       "\\item car\n",
       "\\item car\n",
       "\\item car\n",
       "\\item car\n",
       "\\item car\n",
       "\\item car\n",
       "\\item car\n",
       "\\item car\n",
       "\\item car\n",
       "\\item car\n",
       "\\item car\n",
       "\\item car\n",
       "\\item car\n",
       "\\item car\n",
       "\\item car\n",
       "\\item car\n",
       "\\item car\n",
       "\\item train\n",
       "\\item car\n",
       "\\item car\n",
       "\\item car\n",
       "\\item car\n",
       "\\item car\n",
       "\\item car\n",
       "\\item car\n",
       "\\item car\n",
       "\\item car\n",
       "\\item car\n",
       "\\item car\n",
       "\\item car\n",
       "\\item car\n",
       "\\item car\n",
       "\\item car\n",
       "\\item car\n",
       "\\item train\n",
       "\\item car\n",
       "\\item car\n",
       "\\item car\n",
       "\\item car\n",
       "\\item car\n",
       "\\item car\n",
       "\\item car\n",
       "\\item car\n",
       "\\item car\n",
       "\\item car\n",
       "\\item car\n",
       "\\item car\n",
       "\\item car\n",
       "\\item car\n",
       "\\item car\n",
       "\\item car\n",
       "\\item car\n",
       "\\item car\n",
       "\\item other\n",
       "\\item car\n",
       "\\item car\n",
       "\\item train\n",
       "\\item car\n",
       "\\item car\n",
       "\\item car\n",
       "\\item car\n",
       "\\item car\n",
       "\\item car\n",
       "\\item train\n",
       "\\item car\n",
       "\\item car\n",
       "\\item car\n",
       "\\item car\n",
       "\\item car\n",
       "\\item car\n",
       "\\item car\n",
       "\\item car\n",
       "\\item car\n",
       "\\item car\n",
       "\\item car\n",
       "\\item car\n",
       "\\item car\n",
       "\\item car\n",
       "\\item car\n",
       "\\item car\n",
       "\\item car\n",
       "\\item car\n",
       "\\item car\n",
       "\\item car\n",
       "\\item car\n",
       "\\item car\n",
       "\\item car\n",
       "\\item car\n",
       "\\item car\n",
       "\\item car\n",
       "\\item car\n",
       "\\item other\n",
       "\\item car\n",
       "\\item car\n",
       "\\item car\n",
       "\\item car\n",
       "\\item car\n",
       "\\item car\n",
       "\\item car\n",
       "\\item car\n",
       "\\item car\n",
       "\\item car\n",
       "\\item car\n",
       "\\item car\n",
       "\\item other\n",
       "\\item car\n",
       "\\item car\n",
       "\\item car\n",
       "\\item car\n",
       "\\item car\n",
       "\\item car\n",
       "\\item car\n",
       "\\item car\n",
       "\\item train\n",
       "\\item train\n",
       "\\item car\n",
       "\\end{enumerate*}\n",
       "\n",
       "\\emph{Levels}: \\begin{enumerate*}\n",
       "\\item 'car'\n",
       "\\item 'other'\n",
       "\\item 'train'\n",
       "\\end{enumerate*}\n"
      ],
      "text/markdown": [
       "1. car\n",
       "2. car\n",
       "3. car\n",
       "4. other\n",
       "5. car\n",
       "6. car\n",
       "7. car\n",
       "8. car\n",
       "9. car\n",
       "10. car\n",
       "11. car\n",
       "12. car\n",
       "13. car\n",
       "14. train\n",
       "15. car\n",
       "16. car\n",
       "17. car\n",
       "18. car\n",
       "19. car\n",
       "20. car\n",
       "21. car\n",
       "22. car\n",
       "23. car\n",
       "24. car\n",
       "25. car\n",
       "26. car\n",
       "27. car\n",
       "28. car\n",
       "29. train\n",
       "30. train\n",
       "31. car\n",
       "32. car\n",
       "33. car\n",
       "34. car\n",
       "35. car\n",
       "36. car\n",
       "37. car\n",
       "38. car\n",
       "39. train\n",
       "40. car\n",
       "41. car\n",
       "42. train\n",
       "43. car\n",
       "44. car\n",
       "45. car\n",
       "46. car\n",
       "47. car\n",
       "48. car\n",
       "49. car\n",
       "50. car\n",
       "51. car\n",
       "52. train\n",
       "53. car\n",
       "54. car\n",
       "55. car\n",
       "56. car\n",
       "57. car\n",
       "58. car\n",
       "59. car\n",
       "60. car\n",
       "61. car\n",
       "62. car\n",
       "63. car\n",
       "64. car\n",
       "65. car\n",
       "66. car\n",
       "67. car\n",
       "68. car\n",
       "69. car\n",
       "70. car\n",
       "71. train\n",
       "72. car\n",
       "73. car\n",
       "74. car\n",
       "75. car\n",
       "76. car\n",
       "77. car\n",
       "78. car\n",
       "79. car\n",
       "80. car\n",
       "81. car\n",
       "82. car\n",
       "83. car\n",
       "84. car\n",
       "85. car\n",
       "86. car\n",
       "87. car\n",
       "88. train\n",
       "89. car\n",
       "90. car\n",
       "91. car\n",
       "92. car\n",
       "93. car\n",
       "94. car\n",
       "95. car\n",
       "96. car\n",
       "97. car\n",
       "98. car\n",
       "99. train\n",
       "100. car\n",
       "101. car\n",
       "102. car\n",
       "103. car\n",
       "104. car\n",
       "105. car\n",
       "106. car\n",
       "107. car\n",
       "108. car\n",
       "109. car\n",
       "110. car\n",
       "111. car\n",
       "112. car\n",
       "113. car\n",
       "114. car\n",
       "115. car\n",
       "116. car\n",
       "117. car\n",
       "118. car\n",
       "119. car\n",
       "120. car\n",
       "121. car\n",
       "122. car\n",
       "123. car\n",
       "124. car\n",
       "125. car\n",
       "126. car\n",
       "127. car\n",
       "128. car\n",
       "129. car\n",
       "130. car\n",
       "131. car\n",
       "132. car\n",
       "133. train\n",
       "134. car\n",
       "135. car\n",
       "136. car\n",
       "137. car\n",
       "138. car\n",
       "139. car\n",
       "140. car\n",
       "141. car\n",
       "142. car\n",
       "143. train\n",
       "144. car\n",
       "145. car\n",
       "146. car\n",
       "147. car\n",
       "148. car\n",
       "149. car\n",
       "150. car\n",
       "151. car\n",
       "152. train\n",
       "153. train\n",
       "154. car\n",
       "155. car\n",
       "156. car\n",
       "157. car\n",
       "158. car\n",
       "159. car\n",
       "160. car\n",
       "161. car\n",
       "162. car\n",
       "163. car\n",
       "164. car\n",
       "165. car\n",
       "166. car\n",
       "167. car\n",
       "168. car\n",
       "169. car\n",
       "170. car\n",
       "171. car\n",
       "172. car\n",
       "173. car\n",
       "174. car\n",
       "175. car\n",
       "176. car\n",
       "177. car\n",
       "178. car\n",
       "179. car\n",
       "180. car\n",
       "181. car\n",
       "182. car\n",
       "183. car\n",
       "184. car\n",
       "185. car\n",
       "186. car\n",
       "187. car\n",
       "188. car\n",
       "189. car\n",
       "190. car\n",
       "191. car\n",
       "192. car\n",
       "193. car\n",
       "194. car\n",
       "195. car\n",
       "196. car\n",
       "197. car\n",
       "198. car\n",
       "199. car\n",
       "200. car\n",
       "201. ⋯\n",
       "202. car\n",
       "203. car\n",
       "204. car\n",
       "205. car\n",
       "206. car\n",
       "207. car\n",
       "208. car\n",
       "209. car\n",
       "210. car\n",
       "211. car\n",
       "212. car\n",
       "213. car\n",
       "214. car\n",
       "215. car\n",
       "216. car\n",
       "217. car\n",
       "218. car\n",
       "219. car\n",
       "220. car\n",
       "221. car\n",
       "222. car\n",
       "223. car\n",
       "224. car\n",
       "225. car\n",
       "226. car\n",
       "227. car\n",
       "228. car\n",
       "229. car\n",
       "230. car\n",
       "231. car\n",
       "232. car\n",
       "233. train\n",
       "234. car\n",
       "235. car\n",
       "236. car\n",
       "237. car\n",
       "238. car\n",
       "239. car\n",
       "240. car\n",
       "241. car\n",
       "242. car\n",
       "243. car\n",
       "244. car\n",
       "245. car\n",
       "246. car\n",
       "247. car\n",
       "248. car\n",
       "249. car\n",
       "250. car\n",
       "251. car\n",
       "252. car\n",
       "253. car\n",
       "254. car\n",
       "255. car\n",
       "256. car\n",
       "257. car\n",
       "258. car\n",
       "259. car\n",
       "260. car\n",
       "261. car\n",
       "262. car\n",
       "263. car\n",
       "264. car\n",
       "265. train\n",
       "266. car\n",
       "267. car\n",
       "268. car\n",
       "269. car\n",
       "270. car\n",
       "271. car\n",
       "272. car\n",
       "273. car\n",
       "274. car\n",
       "275. car\n",
       "276. car\n",
       "277. car\n",
       "278. train\n",
       "279. car\n",
       "280. car\n",
       "281. train\n",
       "282. car\n",
       "283. car\n",
       "284. car\n",
       "285. car\n",
       "286. car\n",
       "287. car\n",
       "288. car\n",
       "289. car\n",
       "290. car\n",
       "291. car\n",
       "292. car\n",
       "293. car\n",
       "294. car\n",
       "295. car\n",
       "296. car\n",
       "297. car\n",
       "298. car\n",
       "299. car\n",
       "300. car\n",
       "301. car\n",
       "302. car\n",
       "303. train\n",
       "304. car\n",
       "305. car\n",
       "306. car\n",
       "307. car\n",
       "308. car\n",
       "309. car\n",
       "310. car\n",
       "311. car\n",
       "312. car\n",
       "313. car\n",
       "314. car\n",
       "315. car\n",
       "316. car\n",
       "317. car\n",
       "318. car\n",
       "319. car\n",
       "320. train\n",
       "321. car\n",
       "322. car\n",
       "323. car\n",
       "324. car\n",
       "325. car\n",
       "326. car\n",
       "327. car\n",
       "328. car\n",
       "329. car\n",
       "330. car\n",
       "331. car\n",
       "332. car\n",
       "333. car\n",
       "334. car\n",
       "335. car\n",
       "336. car\n",
       "337. car\n",
       "338. car\n",
       "339. other\n",
       "340. car\n",
       "341. car\n",
       "342. train\n",
       "343. car\n",
       "344. car\n",
       "345. car\n",
       "346. car\n",
       "347. car\n",
       "348. car\n",
       "349. train\n",
       "350. car\n",
       "351. car\n",
       "352. car\n",
       "353. car\n",
       "354. car\n",
       "355. car\n",
       "356. car\n",
       "357. car\n",
       "358. car\n",
       "359. car\n",
       "360. car\n",
       "361. car\n",
       "362. car\n",
       "363. car\n",
       "364. car\n",
       "365. car\n",
       "366. car\n",
       "367. car\n",
       "368. car\n",
       "369. car\n",
       "370. car\n",
       "371. car\n",
       "372. car\n",
       "373. car\n",
       "374. car\n",
       "375. car\n",
       "376. car\n",
       "377. other\n",
       "378. car\n",
       "379. car\n",
       "380. car\n",
       "381. car\n",
       "382. car\n",
       "383. car\n",
       "384. car\n",
       "385. car\n",
       "386. car\n",
       "387. car\n",
       "388. car\n",
       "389. car\n",
       "390. other\n",
       "391. car\n",
       "392. car\n",
       "393. car\n",
       "394. car\n",
       "395. car\n",
       "396. car\n",
       "397. car\n",
       "398. car\n",
       "399. train\n",
       "400. train\n",
       "401. car\n",
       "\n",
       "\n",
       "\n",
       "**Levels**: 1. 'car'\n",
       "2. 'other'\n",
       "3. 'train'\n",
       "\n",
       "\n"
      ],
      "text/plain": [
       "  [1] car   car   car   other car   car   car   car   car   car   car   car  \n",
       " [13] car   train car   car   car   car   car   car   car   car   car   car  \n",
       " [25] car   car   car   car   train train car   car   car   car   car   car  \n",
       " [37] car   car   train car   car   train car   car   car   car   car   car  \n",
       " [49] car   car   car   train car   car   car   car   car   car   car   car  \n",
       " [61] car   car   car   car   car   car   car   car   car   car   train car  \n",
       " [73] car   car   car   car   car   car   car   car   car   car   car   car  \n",
       " [85] car   car   car   train car   car   car   car   car   car   car   car  \n",
       " [97] car   car   train car   car   car   car   car   car   car   car   car  \n",
       "[109] car   car   car   car   car   car   car   car   car   car   car   car  \n",
       "[121] car   car   car   car   car   car   car   car   car   car   car   car  \n",
       "[133] train car   car   car   car   car   car   car   car   car   train car  \n",
       "[145] car   car   car   car   car   car   car   train train car   car   car  \n",
       "[157] car   car   car   car   car   car   car   car   car   car   car   car  \n",
       "[169] car   car   car   car   car   car   car   car   car   car   car   car  \n",
       "[181] car   car   car   car   car   car   car   car   car   car   car   car  \n",
       "[193] car   car   car   car   car   car   car   car   train car   car   car  \n",
       "[205] car   train car   car   car   car   car   car   car   car   car   other\n",
       "[217] car   car   car   train other car   car   car   car   car   car   car  \n",
       "[229] car   car   car   car   car   car   car   car   car   car   train car  \n",
       "[241] car   car   car   car   car   car   car   car   car   car   car   car  \n",
       "[253] train car   car   car   train car   train car   car   car   car   car  \n",
       "[265] car   car   train car   train car   car   car   car   car   car   car  \n",
       "[277] car   car   car   car   car   car   train car   car   car   car   car  \n",
       "[289] car   car   car   train car   train car   car   car   car   car   car  \n",
       "[301] car   car   car   car   car   car   car   car   car   car   car   car  \n",
       "[313] car   car   car   car   car   car   car   car   car   car   car   car  \n",
       "[325] car   car   car   car   car   car   car   train car   car   car   car  \n",
       "[337] car   car   car   car   car   car   car   car   car   car   car   car  \n",
       "[349] car   car   car   car   car   car   car   car   car   car   car   car  \n",
       "[361] car   car   car   train car   car   car   car   car   car   car   car  \n",
       "[373] car   car   car   car   train car   car   train car   car   car   car  \n",
       "[385] car   car   car   car   car   car   car   car   car   car   car   car  \n",
       "[397] car   car   car   car   car   train car   car   car   car   car   car  \n",
       "[409] car   car   car   car   car   car   car   car   car   car   train car  \n",
       "[421] car   car   car   car   car   car   car   car   car   car   car   car  \n",
       "[433] car   car   car   car   car   other car   car   train car   car   car  \n",
       "[445] car   car   car   train car   car   car   car   car   car   car   car  \n",
       "[457] car   car   car   car   car   car   car   car   car   car   car   car  \n",
       "[469] car   car   car   car   car   car   car   other car   car   car   car  \n",
       "[481] car   car   car   car   car   car   car   car   other car   car   car  \n",
       "[493] car   car   car   car   car   train train car  \n",
       "Levels: car other train"
      ]
     },
     "metadata": {},
     "output_type": "display_data"
    }
   ],
   "source": [
    "bn.bayes <- bn.fit(dag, data = survey)\n",
    "\n",
    "pred = predict(bn.bayes, node = \"T\", data = survey)\n",
    "\n",
    "pred"
   ]
  },
  {
   "cell_type": "markdown",
   "metadata": {},
   "source": [
    "或者可以计算某种情况发生的概率, 例如 当节点E取值为high, 想要知道 S == \"M\" 并且 T == \"car\" 这种情况的概率:"
   ]
  },
  {
   "cell_type": "code",
   "execution_count": 97,
   "metadata": {
    "vscode": {
     "languageId": "r"
    }
   },
   "outputs": [
    {
     "data": {
      "text/html": [
       "0.451535012073129"
      ],
      "text/latex": [
       "0.451535012073129"
      ],
      "text/markdown": [
       "0.451535012073129"
      ],
      "text/plain": [
       "[1] 0.451535"
      ]
     },
     "metadata": {},
     "output_type": "display_data"
    }
   ],
   "source": [
    "\n",
    "cpquery(fitted, event = (S == \"M\") & (T == \"car\"), evidence = (E == \"high\"))\n"
   ]
  },
  {
   "cell_type": "markdown",
   "metadata": {},
   "source": [
    "### 高级教程\n",
    "\n",
    "\n",
    "这篇教程就是一个贝叶斯网络的基础入门教程, \n",
    "为了让童鞋们在真实研究中使用贝叶斯网络, \n",
    "并且可以撰写高质量的分析报告, \n",
    "我们还开发了贝叶斯网络的高阶视频教程, \n",
    "这篇教程以论文<贝叶斯网络在老年抑郁症危险...HARLS数据库的实证分析>为模板, \n",
    "视频演示了论文中用到的所有技术, 并且教你如何整理成论文中用到的数据格式."
   ]
  }
 ],
 "metadata": {
  "kernelspec": {
   "display_name": "R",
   "language": "R",
   "name": "ir"
  },
  "language_info": {
   "codemirror_mode": "r",
   "file_extension": ".r",
   "mimetype": "text/x-r-source",
   "name": "R",
   "pygments_lexer": "r",
   "version": "4.3.1"
  }
 },
 "nbformat": 4,
 "nbformat_minor": 2
}
