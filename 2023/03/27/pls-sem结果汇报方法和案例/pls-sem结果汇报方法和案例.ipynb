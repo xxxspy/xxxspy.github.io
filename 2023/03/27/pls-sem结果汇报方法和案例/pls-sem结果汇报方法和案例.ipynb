{
 "cells": [
  {
   "attachments": {},
   "cell_type": "markdown",
   "metadata": {},
   "source": [
    "---\n",
    "title: pls-sem结果汇报方法和案例【以SmartPLS为例】\n",
    "date: 2023-03-27 11:27:59\n",
    "tags: [sem,spss,smartpls]\n",
    "---\n",
    "\n",
    "如何汇报pls-sem （Partial Least Square Structural Equation Modeling）的结果， 很多刚入门的学生都会有疑问，\n",
    "因为它不像一般的统计方法， 只有一两个指标看需要汇报，\n",
    "sem的结果有很多，而pls-sem又与cb-sem（Covariance Based Structural Equation Modeling）不同，使得汇报sem的结果比较困难，\n",
    "也很容易遗漏重要信息。\n",
    "\n",
    "所以我认为有必要写一篇文章， 总结一下pls-sem的汇报规范， 并且我们提供了案例方便大家效仿。\n",
    "\n",
    "<!-- more -->"
   ]
  },
  {
   "attachments": {},
   "cell_type": "markdown",
   "metadata": {},
   "source": [
    "## 通用报告原则\n",
    "\n",
    "在开始pls-sem的报告之前， 我们需要强调实证研究一些常用的基本原则， 这些原则有助于你的论文顺利通过评审，\n",
    "并且有助于学科发展，提高研究的可重复性和可批判性。\n",
    "\n",
    "- 数据样本来自哪里，总体是什么，抽样方法是什么\n",
    "- 数据分布以及对统计方法的适用性\n",
    "- 理论模型，以便确定统计方法的适用性\n",
    "- 统计结果\n",
    "- 统计软件的名称和版本号\n",
    "\n",
    "通常sem模型最好的方法是绘制概念图（理论模型），\n",
    "在图中可以看到每个潜变量的测量指标， 并且可以看到每个潜变量之间的关系（箭头），\n",
    "绘图的方式可以快速让读者（或者评审）理解你的模型，而且很全面。"
   ]
  },
  {
   "attachments": {},
   "cell_type": "markdown",
   "metadata": {},
   "source": [
    "## 解释使用PLS的原因\n",
    "\n",
    "Hair 在 《When to use and how to report the results of PLS-SEM》这篇文章中介绍了使用pls-sem的原因， \n",
    "为什么做结构方程的话，采用pls需要解释原因呢，因为pls是有偏估计， 而CB-SEM是无偏估计，所以在大部分时间，\n",
    "我们都建议使用CB-SEM来做结构方程， 那么什么时候你必须采用PLS方法呢， 下面是几个原因：\n",
    "\n",
    "<img src=\"imgs/使用pl-sem的原因.png\">\n",
    "\n",
    "总结和翻译过来， 选择PLS-SEM而不是CB-SEM的原因通常有以下几个：\n",
    "\n",
    "- 数据的性质：PLS-SEM适用于小样本数据，而CB-SEM更适用于大样本数据。因此，如果数据样本较小，则可以选择PLS-SEM。并且你需要说明为何无法收集更多样本。\n",
    "- 复杂性：CB-SEM通常比PLS-SEM更复杂，因为它需要指定更多的参数，例如路径和方差。如果你的模型非常复杂，CB-SEM经常无法收敛，则可以选择PLS-SEM。\n",
    "- 研究目的：PLS-SEM更适用于探索性研究或理论建立，而CB-SEM更适用于验证性研究或检验理论模型。因此，研究目的也是选择PLS-SEM或CB-SEM的重要因素之一。\n",
    "- 形成性潜变量存在时（formatively measured constructs）只能用PLS\n",
    "- 当数据分布问题令人担忧时，例如缺乏正态分布特性；\n",
    "- 当研究用到了潜变量的分数，以便在后续分析中使用时\n",
    "\n",
    "总之，PLS-SEM和CB-SEM都是有用的统计分析方法，选择哪种方法取决于研究的目的、数据的性质和模型的复杂程度。"
   ]
  },
  {
   "attachments": {},
   "cell_type": "markdown",
   "metadata": {},
   "source": [
    "## 两阶段汇报原则\n",
    "\n",
    "基本上结构方程模型（不管是PLS还是CB）的结果汇报包含两部分：\n",
    "    - 测量模型的结果：测量题目的信效度（或者叫测量模型的信效度）， 变量都是用题目来测量的， 但是你凭什么证明这些题目可以代表某个变量呢， 通常需要做信效度分析的\n",
    "    - 结构模型的结果：变量之间的关系的检验， 或者说变量之间的路径系数的显著性检验\n",
    "\n",
    "<img src=\"imgs/模型图.png\">"
   ]
  },
  {
   "attachments": {},
   "cell_type": "markdown",
   "metadata": {},
   "source": [
    "### 测量模型的结果\n",
    "\n",
    "#### 反映性指标组合信度和平均方差提取量\n",
    "\n",
    "下面是一个典型的测量模型的结构效度的结果，主要包含了指标：组合信度（CR）、平均方差提取量（AVE）、相关系数。\n",
    "有时候这个表格也叫做区分效度， 因为潜变量之间具有区分度是结构效度的一种。 具有区分效度的要求是， AVE的平方根大于变量之间的相关系数，\n",
    "它的寓意是变量内部的题目之间的共同变异要多于变量之间的共同变异。\n",
    "\n",
    "<img src=\"imgs/测量模型信效度检验.png\">"
   ]
  },
  {
   "attachments": {},
   "cell_type": "markdown",
   "metadata": {},
   "source": [
    "有时候这个表格可以简写为下面， 省略了相关系数， 同时这个表格可以添加克隆巴赫alpha系数：\n",
    "\n",
    "<img src=\"imgs/平均方差提取量.png\">\n",
    "\n",
    "注意这个表格犯了一个常见错误， 就是CR和AVE都是针对反应性变量的（Reflective Latent Variable）， \n",
    "如果变量是形成性的（Formative）， 那么不可以计算CR和AVE， 并且即便算出来了， 通常形成性潜变量的CR和AVE比较低，无法达标，\n",
    "不过即便达标也是毫无意义。\n",
    "\n",
    "在上面的表格中，“期刊多樣性”，“期刊期刊屬性”，“期刊易取性”是形成性指标，不要汇报AVE。"
   ]
  },
  {
   "attachments": {},
   "cell_type": "markdown",
   "metadata": {},
   "source": [
    "有时候我们还会在这个表格中整合均值和标准差：\n",
    "\n",
    "<img src=\"imgs/ave-cr-mean-correlation-sd.png\">"
   ]
  },
  {
   "attachments": {},
   "cell_type": "markdown",
   "metadata": {},
   "source": [
    "#### 形成性指标汇报权重\n",
    "\n",
    "如果你的潜变量是形成性指标， 我们可以汇报权重及其显著性检验统计量：\n",
    "\n",
    "<img src=\"imgs/OUTER WEIGHT IN FORMATIVE Indicators.png\">"
   ]
  },
  {
   "attachments": {},
   "cell_type": "markdown",
   "metadata": {},
   "source": [
    "#### 反映性指标汇报因子载荷和交叉因子载荷\n",
    "\n",
    "这个表格汇报了我们每个潜变量的因子载荷以及交叉因子载荷，\n",
    "交叉因子载荷指的是每一个题目与每一个潜变量的载荷，\n",
    "不管题目是否属于某个潜变量， 我们仍然计算了该潜变量在该题目上的因子载荷，\n",
    "目的是对区分效度做进一步验证， 这个表格的要求是，题目在所属因子上载荷较高，\n",
    "在非所属因子上载荷较低， 证明因子结构的良好。\n",
    "\n",
    "<img src=\"imgs/loadings-and-cross.png\">"
   ]
  },
  {
   "attachments": {},
   "cell_type": "markdown",
   "metadata": {},
   "source": [
    "### 结构模型结果\n",
    "\n",
    "如前所述，PLS分析的主要重点是方差解释以及确定所有路径估计的显著性。\n",
    "具体而言，通过内生变量（因变量）的R2值评估结构模型的预测能力。\n",
    "与OLS回归中的类似，PLS的R2结果表示因变量被模型解释的方差量。、\n",
    "\n",
    "#### R方和路径系数的显著性\n",
    "\n",
    "<img src=\"imgs/r-square.png\">\n",
    "\n",
    "注意这个表格没有显著性检验， 因为pls不可以直接计算显著性， 它是一个非参数估计方法。\n",
    "在martpls中， 通常是使用bootstraping方法来估计路径系数的置信区间及其显著性。\n",
    "\n",
    "下面这个表格是对路径系数的显著性进行检验：\n",
    "\n",
    "<img src=\"imgs/coefficient-test.png\">"
   ]
  },
  {
   "attachments": {},
   "cell_type": "markdown",
   "metadata": {},
   "source": [
    "#### 效应量f方\n",
    "\n",
    "f方的计算公式如下:\n",
    "\n",
    "<img src=\"imgs/f-formula.png\">\n",
    "\n",
    "它的涵义很简单就是自变量对因变量的方差贡献率， \n",
    "从计算公式来看， 在没有该自变量的情况下， R方较小为R2excluded，\n",
    "在有该自变量的情况下，R方较大为R2included。\n",
    "\n",
    "下面是汇报f方的表格：\n",
    "\n",
    "<img src=\"imgs/effect-size-f.png\">"
   ]
  },
  {
   "attachments": {},
   "cell_type": "markdown",
   "metadata": {},
   "source": [
    "#### q方\n",
    "\n"
   ]
  },
  {
   "attachments": {},
   "cell_type": "markdown",
   "metadata": {},
   "source": [
    "#### 中介效应检验\n",
    "\n",
    "<img src=\"imgs/MEDIATOR ANALYSIS.png\">"
   ]
  },
  {
   "attachments": {},
   "cell_type": "markdown",
   "metadata": {},
   "source": [
    "#### 总体拟合指标GOF\n",
    "\n",
    "<img src=\"imgs/gof拟合指标.png\">"
   ]
  },
  {
   "attachments": {},
   "cell_type": "markdown",
   "metadata": {},
   "source": [
    "# 补充提问\n",
    "\n",
    "如果有对本教程有什么疑问可以留言，如果你认为我缺少了某些你需要部分，可以留言告诉我，我会很快补充。"
   ]
  }
 ],
 "metadata": {
  "language_info": {
   "name": "python"
  },
  "orig_nbformat": 4
 },
 "nbformat": 4,
 "nbformat_minor": 2
}
