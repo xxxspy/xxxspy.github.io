{
 "cells": [
  {
   "cell_type": "markdown",
   "metadata": {},
   "source": [
    "---\n",
    "\n",
    "title: SPSS+Amos共同方法偏差的诊断\n",
    "date: 2020-09-17 12:47:05\n",
    "tags: [spss, amos, 问卷数据分析, 共同方法偏差]\n",
    "mathjax: true\n",
    "\n",
    "---\n",
    "\n",
    "共同方法偏差(Common Method Bias)指的是因为同样的数据来源或评分者、同样的测量环境、项目语境以及项目本身特征所造成的预测变量与效标变量之间人为的共变。\n",
    "\n",
    "-- 百度百科\n",
    "\n",
    "<!--more-->"
   ]
  },
  {
   "cell_type": "markdown",
   "metadata": {},
   "source": [
    "共同方法偏差导致变量之间的相关偏高, 导致我们容易得出错误的结论, 尤其是问卷数据进行分析的时候, 很容易出现共同方法偏差, 因此在进行数据分析之前, 需要先进行检验, 看数据是否受到了共同方法偏差的影响。\n",
    "\n",
    "诊断共同方法偏差的方法有很多, 常用的有三种: Harman's single factor test(单因素检测), Common latent factor(潜变量法), and Common marker variable(标签变量法)。\n"
   ]
  },
  {
   "cell_type": "markdown",
   "metadata": {},
   "source": [
    "### 单因素检测(Harman's single factor test)\n",
    "\n",
    "该方法使用探索性因子分析, 并且限制仅提取一个因子, 如果这个因子的方差解释率达到了50%以上, 我们就可以怀疑存在着共同方法偏差。\n",
    "\n",
    "这种方法最大的优势就是简单, 也容易理解, 但是缺点也比较多:\n",
    "\n",
    "- 数据可能受到多个共同因素的影响, 但是该方法仅能检测一个\n",
    "- 变量个数越多在探索性因素分析中可以提取的因子也就越多, 当固定一个因子的时候, 方差解释率越难超过50%"
   ]
  },
  {
   "cell_type": "markdown",
   "metadata": {},
   "source": [
    "#### SPSS操作\n",
    "\n",
    "打开因子分析的对话框\n",
    "\n",
    "<img src=\"imgs/05-04.png\">"
   ]
  },
  {
   "cell_type": "markdown",
   "metadata": {},
   "source": [
    "将有关变量都放到变量框, 从变量名我们就可以推测, 我这里用了三个因子的变量\n",
    "<img src=\"imgs/05-05.png\">"
   ]
  },
  {
   "cell_type": "markdown",
   "metadata": {},
   "source": [
    "在\"提取\"对话框中, 设置提取因子的个数为1\n",
    "<img src=\"imgs/05-06.png\">"
   ]
  },
  {
   "cell_type": "markdown",
   "metadata": {},
   "source": [
    "在计算的结果里面, 我们只需要找到累计方差解释率, 如果这个值没有超过50%就认为不存在共同方法偏差\n",
    "<img src=\"imgs/05-07.png\">"
   ]
  },
  {
   "cell_type": "markdown",
   "metadata": {},
   "source": [
    "#### 汇报结果\n",
    "\n",
    "使用探索性因子分析, 使用主成分的方法提取因子, 并且固定因子数为1, 结果显示, 第一个因子的方差解释率达到39.4%, 没有达到50%, 因此不存在共同方法偏差。"
   ]
  },
  {
   "cell_type": "markdown",
   "metadata": {},
   "source": [
    "### 潜变量法 Common latent factor\n",
    "\n",
    "使用验证性因子分析(CFA)的方法, 构建如下的模型, 模型标名我们有两个因子, 如果存在共同方法偏差CMB, 就会导致F1和F2之间的相关偏高, 因此我们需要构建因子F3, 代表共同方法因子, 它可以影响所以的测量指标。\n",
    "\n",
    "<img src=\"imgs/05-03.png\">\n",
    "\n"
   ]
  },
  {
   "cell_type": "markdown",
   "metadata": {},
   "source": [
    "F3代表共同方法因子, F3对所有的指标变量都有影响, 并且限制所有路径的系数相同, 设置F3的方差为1。这种方法也是仅允许只有一个共同因素, 并且限制了每个指标变量受共同因素的影响程度相同。 并且如果F1和F2本身存在一定的相关性, 也可以导致F3到测量指标的路径系数是显著的,并且会显著降低F1和F2之间的相关性。\n",
    "\n",
    "<img src=\"imgs/05-01.png\">"
   ]
  },
  {
   "cell_type": "markdown",
   "metadata": {},
   "source": [
    "通常情况下, 我们会设定两个模型, 模型1设定所有F3的因子载荷固定为0, 也就是假设没有CMB , 模型2设定F3所有因子载荷都固定为一个变量, 比如a, 变量名无所谓, 也可以是b。 最终比较模型1和模型2之间的卡方差异是否显著, 如果模型2的卡方值显著低于模型1, 说明存在CMB。"
   ]
  },
  {
   "cell_type": "markdown",
   "metadata": {},
   "source": [
    "#### Amos操作\n",
    "\n",
    "\n",
    "构建基线模型:共同方法因子有关的路径系数都控制为0\n",
    "\n",
    "<img src=\"imgs/05-08.png\">"
   ]
  },
  {
   "cell_type": "markdown",
   "metadata": {},
   "source": [
    "构建控制模型, 与基线模型的区别就是我们的共同方法因子有关的路径系数都控制为a\n",
    "\n",
    "<img src=\"imgs/05-09.png\">"
   ]
  },
  {
   "cell_type": "markdown",
   "metadata": {},
   "source": [
    "比较两个模型的拟合指标卡方的变化:\n",
    "- 这是基线模型的卡方\n",
    "<img src=\"imgs/05-10.png\">\n",
    "\n",
    "- 这是控制模型的卡方\n",
    "<img src=\"imgs/05-11.png\">"
   ]
  },
  {
   "cell_type": "markdown",
   "metadata": {},
   "source": [
    "### 结果汇报\n",
    "\n",
    "控制模型卡方148.326(df=40)与基线模型卡方171.324(df=41)的差值为22.998(df=1),达到显著水平(p<0.05)。"
   ]
  },
  {
   "cell_type": "markdown",
   "metadata": {},
   "source": [
    "### 标签变量法  Common marker variable\n",
    "\n",
    "同样是使用验证性因子分析, 我们增加了一个Marker F4, 理论上F4与F和F2都没有关系, 也就是相关为0, 同时我们设定F3到所有测量指标的路径系数都相同, 因此F3到测量指标V10-V12的路径系数就表示了共同方法偏差, 由于理论上F4与F1和F2之间相关为0, 当没有F3的时候, 他们之间的最小的相关系数也能代表共同方法偏差。\n",
    "\n",
    "该方法比上一个方法的优点就是可以有了标签变量, 它与其他变量都受到共同方法F3影响的话, 就可以证明有偏差存在。\n",
    "\n",
    "<img src=\"imgs/05-02.png\">"
   ]
  },
  {
   "cell_type": "markdown",
   "metadata": {},
   "source": [
    "通常情况下, 我们会设定两个模型, 模型1设定所有F3的因子载荷固定为0, 也就是假设没有CMB , 模型2设定F3所有因子载荷都固定为一个变量, 比如a, 变量名无所谓, 也可以是b。 最终比较模型1和模型2之间的卡方差异是否显著, 如果模型2的卡方值显著低于模型1, 说明存在CMB。"
   ]
  },
  {
   "cell_type": "markdown",
   "metadata": {},
   "source": [
    "#### Amos操作\n",
    "\n",
    "- 这是基线模型\n",
    "\n",
    "<img src=\"imgs/05-12.png\">"
   ]
  },
  {
   "cell_type": "markdown",
   "metadata": {},
   "source": [
    "- 这是控制模型\n",
    "\n",
    "<img src=\"imgs/05-13.png\">"
   ]
  },
  {
   "cell_type": "markdown",
   "metadata": {},
   "source": [
    "基线模型的卡方值\n",
    "\n",
    "<img src=\"imgs/05-14.png\">"
   ]
  },
  {
   "cell_type": "markdown",
   "metadata": {},
   "source": [
    "控制模型的卡方值\n",
    "\n",
    "<img src=\"imgs/05-15.png\">"
   ]
  },
  {
   "cell_type": "markdown",
   "metadata": {},
   "source": [
    "在这个网页上可以进行卡方差异是否显著的检验: https://mlln.cn/2020/09/17/卡方差值的显著性检验/\n",
    "\n",
    "现在的结果是:\n",
    "\n",
    "<img src=\"imgs/05-16.png\">"
   ]
  },
  {
   "cell_type": "markdown",
   "metadata": {},
   "source": [
    "#### 结果汇报\n",
    "\n",
    "控制模型的卡方206.676(df=71)与基线模型的卡方203.629(df=70)的差值为3.047(df=1),没达到显著水平(p>0.05)。"
   ]
  },
  {
   "cell_type": "markdown",
   "metadata": {},
   "source": [
    "### 视频教程\n",
    "\n"
   ]
  },
  {
   "cell_type": "markdown",
   "metadata": {},
   "source": [
    "### 参考文献\n",
    "\n",
    "- William, L.J., Hartman, N., & Cavazotte, F. (2010). Method variance and marker variables: A review and comprehensive CFA marker technique. Organizational Research Methods, 13(3), 477-514.\n",
    "\n",
    "- Common Method Variance Techniques https://www.lexjansen.com/mwsug/2014/AA/MWSUG-2014-AA11.pdf\n",
    "\n",
    "- 卡方差异显著性检验: https://mlln.cn/2020/09/17/卡方差值的显著性检验/"
   ]
  }
 ],
 "metadata": {
  "kernelspec": {
   "display_name": "Python 3",
   "language": "python",
   "name": "python3"
  },
  "language_info": {
   "codemirror_mode": {
    "name": "ipython",
    "version": 3
   },
   "file_extension": ".py",
   "mimetype": "text/x-python",
   "name": "python",
   "nbconvert_exporter": "python",
   "pygments_lexer": "ipython3",
   "version": "3.6.5"
  }
 },
 "nbformat": 4,
 "nbformat_minor": 2
}
