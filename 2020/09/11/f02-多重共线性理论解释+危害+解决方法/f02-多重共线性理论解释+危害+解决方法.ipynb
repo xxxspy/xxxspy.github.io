{
 "cells": [
  {
   "cell_type": "markdown",
   "metadata": {},
   "source": [
    "---\n",
    "\n",
    "title: f02-多重共线性理论解释+危害+解决方法\n",
    "date: 2020-09-11 12:47:05\n",
    "tags: [spss, 问卷数据分析]\n",
    "mathjax: true\n",
    "\n",
    "---\n",
    "\n",
    "我们通常在线性回归或者多元方差分析中听过这个词, 它通常指的是当回归模型中的自变量相关太高时，它们将无法独立预测因变量的值。换句话说，他们解释了因变量中的某些相同方差，从而降低了其统计显着性。\n",
    "\n",
    "本篇文章主要介绍了诊断多重共线性的理论解释和解决方法。\n",
    "\n",
    "<!--more-->\n",
    "<!-- toc -->"
   ]
  },
  {
   "cell_type": "markdown",
   "metadata": {},
   "source": [
    "假如我们调查了51人的工作年限(X1)/工作经验(X2)/工资水平(Y)这三个变量, 我们期望得到的回归方程是:\n",
    "    \n",
    "$$\n",
    "Y = h + \\beta_1 X_1 + \\beta_2 X_2 + e   (1式)\n",
    "$$\n",
    "\n",
    "并且根据我们的常识, 我们认为, 工作经验和工作年限都应该对工资有显著影响, 也就是两个回归系数显著大于0!\n",
    "\n",
    "但是我们做回归分析结果是这样的:\n",
    "\n",
    "\n",
    "\n"
   ]
  },
  {
   "cell_type": "markdown",
   "metadata": {},
   "source": [
    "<img src=\"imgs/f02-01.png\">"
   ]
  },
  {
   "cell_type": "markdown",
   "metadata": {},
   "source": [
    "也就是说:\n",
    "\n",
    "$$\n",
    "h=-1.147 \\\\\n",
    "\\beta_1=.870 \\\\\n",
    "\\beta_2=.153\n",
    "$$"
   ]
  },
  {
   "cell_type": "markdown",
   "metadata": {},
   "source": [
    "但是实际上, $X_1$和$X_2$是高度相关的, 也就是说下面的回归方程也可以成立:\n",
    "\n",
    "$$\n",
    "X_2 = h_3 + \\beta_3 X_2 + e_3  (2式)\n",
    "$$"
   ]
  },
  {
   "cell_type": "markdown",
   "metadata": {},
   "source": [
    "用spss统计的结果是这样的:\n",
    "\n",
    "<img src=\"imgs/f02-2.png\">"
   ]
  },
  {
   "cell_type": "markdown",
   "metadata": {},
   "source": [
    "也就是说:\n",
    "\n",
    "$$\n",
    "h_3=48.046 \\\\\n",
    "\\beta_3=5.256\n",
    "$$"
   ]
  },
  {
   "cell_type": "markdown",
   "metadata": {},
   "source": [
    "假如我们将(2)式代入(1)式, 会得到下面的方程:\n",
    "\n",
    "$$\n",
    "Y = h + h_3 \\beta_2 + \\beta_1 X_1 + \\beta_2 \\beta_3 X_1 + e\n",
    "$$"
   ]
  },
  {
   "cell_type": "markdown",
   "metadata": {},
   "source": [
    "从上面的式子中, 我们应当可以看出, 由于共线性的存在($\\beta_3$不为0), 又由于$X_2$对Y有影响($\\beta_2$不为0), 所以, 当我们考察$X_1$对Y的影响的时候, 只看$\\beta_1$就会得出错误的结论, 而需要考察$\\beta_1+\\beta_2 \\beta_3$"
   ]
  },
  {
   "cell_type": "markdown",
   "metadata": {},
   "source": [
    "### 解决方法\n",
    "\n",
    "使用将\"工作经验\"设置为中介变量, 进行中介分析, 推荐使用spss的process插件。\n",
    "\n",
    "<img src=\"imgs/f02-4.png\">\n",
    "\n",
    "<img src=\"imgs/f02-3.png\">"
   ]
  }
 ],
 "metadata": {
  "kernelspec": {
   "display_name": "Python 3",
   "language": "python",
   "name": "python3"
  },
  "language_info": {
   "codemirror_mode": {
    "name": "ipython",
    "version": 3
   },
   "file_extension": ".py",
   "mimetype": "text/x-python",
   "name": "python",
   "nbconvert_exporter": "python",
   "pygments_lexer": "ipython3",
   "version": "3.6.5"
  }
 },
 "nbformat": 4,
 "nbformat_minor": 2
}
