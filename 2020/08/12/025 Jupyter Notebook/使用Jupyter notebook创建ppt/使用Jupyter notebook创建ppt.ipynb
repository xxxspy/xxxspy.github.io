{
 "cells": [
  {
   "cell_type": "markdown",
   "metadata": {
    "slideshow": {
     "slide_type": "skip"
    }
   },
   "source": [
    "---\n",
    "\n",
    "title: 如何使用jupyter notebook来写PPT\n",
    "date: 2020-08-12 12:44:03\n",
    "tags: [notebook, ]\n",
    "\n",
    "---\n",
    "\n",
    "\n",
    "我们用jupyter可以方便的记录一些笔记, 而使用reveal.js可以创建网页版PPT, RISE插件就是将jupyter的notebook快速转换成网页PPT的工具。\n",
    "\n",
    "\n",
    "\n",
    "<!--more-->"
   ]
  },
  {
   "cell_type": "markdown",
   "metadata": {
    "slideshow": {
     "slide_type": "slide"
    }
   },
   "source": [
    "# 如何使用jupyter notebook来写PPT\n",
    "\n",
    "我们用jupyter可以方便的记录一些笔记, 而使用`reveal.js`可以创建网页版PPT, RISE插件就是将jupyter的notebook快速转换成网页PPT的工具。\n",
    "\n"
   ]
  },
  {
   "cell_type": "markdown",
   "metadata": {
    "slideshow": {
     "slide_type": "slide"
    }
   },
   "source": [
    "### 安装RISE插件\n",
    "\n",
    "使用pip可以方便的安装:\n",
    "\n",
    "```\n",
    "pip install RISE\n",
    "```\n",
    "\n",
    "安装成功以后, 我们可以在notebook界面看到这个按钮:\n",
    "\n",
    "<img class=\"image\" src=\"imgs/rise-btn.png\">"
   ]
  },
  {
   "cell_type": "markdown",
   "metadata": {
    "slideshow": {
     "slide_type": "slide"
    }
   },
   "source": [
    "### 使用方法\n",
    "\n",
    "#### 幻灯片工具栏\n",
    "\n",
    "假如你已经创建好了一个notebook, 那么我们可以点击 `View -> Cell Toolbar -> 幻灯片`来调出幻灯片工具栏:\n",
    "\n",
    "这样在每一个Cell右上角都会出现一个下拉菜单, 这个菜单可以定义我们的cell会被转换成幻灯片的哪一个部分:\n",
    "\n",
    "\n",
    "\n"
   ]
  },
  {
   "cell_type": "markdown",
   "metadata": {
    "slideshow": {
     "slide_type": "subslide"
    }
   },
   "source": [
    "#### 预览PPT\n",
    "\n",
    "当我们设置好每一个cell以后, 就可以点击PPT预览按钮查看结果:\n",
    "\n",
    "<img class=\"image\" src=\"imgs/rise-btn.png\">"
   ]
  },
  {
   "cell_type": "markdown",
   "metadata": {
    "slideshow": {
     "slide_type": "subslide"
    }
   },
   "source": [
    "#### 预览翻页\n",
    "\n",
    "强烈建议主要使用SpaceBar前进，而使用Shift+SpaceBar退后（或幻灯片右下角的可视控制器）。无论具体显示的是什么（幻灯片，子幻灯片，片段……），都将按照演示过程进行。\n",
    "\n",
    "相反，关于这3个结构实体，向右箭头和向左箭头可能会产生令人困惑的行为。此外，向上和向下箭头保留用于与notebook cell交互，不能用于浏览幻灯片，而是可以使用pgup和pgdown。"
   ]
  },
  {
   "cell_type": "markdown",
   "metadata": {
    "slideshow": {
     "slide_type": "subslide"
    }
   },
   "source": [
    "#### 导出PPT\n",
    "\n",
    "当我们自认为PPT已经做好, 可以导出来, 方便以后使用, 可以依次点击\"File -> Download as -> reveal.js\", 最后我们的PPT将作为一个html文件下载下来。"
   ]
  },
  {
   "cell_type": "markdown",
   "metadata": {
    "slideshow": {
     "slide_type": "slide"
    }
   },
   "source": [
    "### 自定义RISE\n",
    "\n",
    "有很多种方法可以配置RISE, 但是我推荐使用metadata的配置方法, 我们可以在这里打开metadata的编辑器:\n",
    "\n",
    "<img src=\"imgs/edit-notebook-metadata.png\"/>"
   ]
  },
  {
   "cell_type": "markdown",
   "metadata": {
    "slideshow": {
     "slide_type": "subslide"
    }
   },
   "source": [
    "然后增加如下的json代码:\n",
    "\n",
    "```json\n",
    "\n",
    "  \"rise\": {\n",
    "    \"theme\": \"black\",\n",
    "  }\n",
    "\n",
    "```"
   ]
  },
  {
   "cell_type": "markdown",
   "metadata": {
    "slideshow": {
     "slide_type": "subslide"
    }
   },
   "source": [
    "#### 可选主题\n",
    "\n",
    "我们可以更改PPT的主题, 选择自己喜欢的样式, reveal.js支持很多主题, 比如:\n",
    "\n",
    "- **black**\tBlack background, white text, blue links (default)\n",
    "- **white**\tWhite background, black text, blue links\n",
    "- **league**\tGray background, white text, blue links\n",
    "- **beige**\tBeige background, dark text, brown links\n",
    "- **sky**\tBlue background, thin dark text, blue links\n",
    "- **night**\tBlack background, thick white text, orange links\n",
    "- **serif**\tCappuccino background, gray text, brown links\n",
    "- **simple**\tWhite background, black text, blue links\n",
    "- **solarized**\tCream-colored background, dark green text, blue links\n",
    "- **blood**\tDark background, thick white text, red links\n",
    "- **moon**\tDark blue background, thick grey text, blue links"
   ]
  },
  {
   "cell_type": "markdown",
   "metadata": {
    "slideshow": {
     "slide_type": "subslide"
    }
   },
   "source": [
    "#### 可选转场效果\n",
    "\n",
    "- **none**\tSwitch backgrounds instantly\n",
    "- **fade**\tCross fade — default for background transitions\n",
    "- **slide**\tSlide between backgrounds — default for slide transitions\n",
    "- **convex**\tSlide at a convex angle\n",
    "- **concave**\tSlide at a concave angle\n",
    "- **zoom**\tScale the incoming slide up so it grows in from the center of the screen"
   ]
  },
  {
   "cell_type": "markdown",
   "metadata": {
    "slideshow": {
     "slide_type": "subslide"
    }
   },
   "source": [
    "#### 修改每一张幻灯片的大小\n",
    "\n",
    "```json\n",
    "  \"rise\": {\n",
    "    \"theme\": \"black\",\n",
    "    \"transition\": \"zoom\",\n",
    "    \"width\": \"80%\",\n",
    "    \"height\": \"80%\"\n",
    "  }\n",
    "```"
   ]
  },
  {
   "cell_type": "markdown",
   "metadata": {
    "slideshow": {
     "slide_type": "subslide"
    }
   },
   "source": [
    "#### 设定每一张幻灯片的页眉/页脚和背景图片\n",
    "\n",
    "```json\n",
    "  \"rise\": {\n",
    "    \"theme\": \"black\",\n",
    "    \"transition\": \"zoom\",\n",
    "    \"width\": \"80%\",\n",
    "    \"height\": \"80%\",\n",
    "    \"backimage\": \"mybackimage.png\",\n",
    "   \"header\": \"<h1>header</h1>\",\n",
    "   \"footer\": \"<h3>footer</h3>\"\n",
    "  }\n",
    "```"
   ]
  },
  {
   "cell_type": "markdown",
   "metadata": {
    "slideshow": {
     "slide_type": "subslide"
    }
   },
   "source": [
    "#### 允许滚动条和黑板功能\n",
    "\n",
    "```json\n",
    "\"rise\": {\n",
    "    \"theme\": \"black\",\n",
    "    \"transition\": \"zoom\",\n",
    "    \"width\": \"80%\",\n",
    "    \"height\": \"80%\",\n",
    "    \"backimage\": \"mybackimage.png\",\n",
    "     \"header\": \"<h1>header</h1>\",\n",
    "     \"footer\": \"<h3>footer</h3>\",\n",
    "    \"scroll\": true, // 滚动条\n",
    "    \"enable_chalkboard\": true // 涂鸦功能 \n",
    "  }\n",
    "```\n",
    "\n",
    "如果需要更多配置功能, 你可以直接查看reveal.js的官方文档:\n",
    "\n",
    "https://github.com/hakimel/reveal.js"
   ]
  },
  {
   "cell_type": "markdown",
   "metadata": {
    "slideshow": {
     "slide_type": "slide"
    }
   },
   "source": [
    "### 自定义样式\n",
    "\n",
    "说实话, RISE提供的一些自定义选项还是不够用, 比如我感觉我想自主决定一些html元素的样式, 那么我们可以使用`rise.css`这个文件, 在notebook所在的文件夹中创建这个文件, 然后自己写一些css样式, 比如我常用的一些样式如下:\n",
    "\n",
    "```css\n",
    ".present{\n",
    "    padding-top: 50px!important;\n",
    "    padding-bottom: 100px!important;\n",
    "}\n",
    "```"
   ]
  }
 ],
 "metadata": {
  "celltoolbar": "幻灯片",
  "kernelspec": {
   "display_name": "Python 3",
   "language": "python",
   "name": "python3"
  },
  "language_info": {
   "codemirror_mode": {
    "name": "ipython",
    "version": 3
   },
   "file_extension": ".py",
   "mimetype": "text/x-python",
   "name": "python",
   "nbconvert_exporter": "python",
   "pygments_lexer": "ipython3",
   "version": "3.6.5"
  },
  "rise": {
   "enable_chalkboard": true,
   "footer": "<h1><i class='logo-icon fa fa-cube'></i></h1>",
   "header": "<a href='https://www.mlln.cn/' target='_blank'><h1 style='font-size:100;position: fixed;right: 0;'><i class='logo-icon fa fa-cube'></i>DataSense<sub style='text-transform: lowercase;'>mlln.cn</sub></h1></a>",
   "height": "90%",
   "scroll": true,
   "theme": "black",
   "transition": "zoom",
   "width": "90%"
  }
 },
 "nbformat": 4,
 "nbformat_minor": 2
}
