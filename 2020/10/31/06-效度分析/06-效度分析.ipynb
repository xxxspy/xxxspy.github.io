{
 "cells": [
  {
   "cell_type": "markdown",
   "metadata": {},
   "source": [
    "### 什么是效度\n",
    "\n",
    "\n",
    "效度指的是量表的题目能够测量你所声称的概念, 比如幸福感量表, 效度高指的是幸福感量表能够测量人的幸福感。\n",
    "\n",
    "因为量表往往测量的是一种主观概念, 不像客观概念那样可以直接的判断测量的准确性, 所以我们需要通过间接的方法验证准确性。\n",
    "\n",
    "\n",
    "效度与因子分析往往放到一起说, 因为在大部分论文中都是使用因子分析来验证效度, 因为我们的一系列教程都是以写论文为目的, 所以我们这部分也主要以讲解因子分析为主。"
   ]
  },
  {
   "cell_type": "markdown",
   "metadata": {},
   "source": [
    "### 效度的举例\n",
    "\n",
    "- Face validity(表面效度): 看起来像\n",
    "- Content validity(内容效度): 专家看起来像, 有时候会使用一些专家评分来量化\n",
    "- 结构效度: 因子分析结果满足理论假设\n",
    "- Convergent validity & discriminant Validity (聚合和区分效度):与相关的量表相关高,与不想关的量表相关低\n",
    "- Criterion-related validity 校标效度: 求量表与其他指标的相关性\n"
   ]
  },
  {
   "cell_type": "markdown",
   "metadata": {},
   "source": [
    "#### 结构效度\n",
    "\n",
    "探索性因子分析是用来证明结构效度的一种通用的统计方法。EFA是一种数据降维技术，它使用一种称为主成分分析的统计技术，根据上述的双变量相关矩阵，将给定的一组项目汇总为较小的一组因子。这些因素在理想情况下应该与我们试图衡量的基础理论构造相对应。\n",
    "\n",
    "也就是说提取因子数目与理论一致, 并且理论上相同因子下题目(变量)聚合到一起, 不同理论上因子的题目聚合到不同的因子上。\n",
    "\n",
    "因子提取的一般规范是每个提取的因子的特征值应大于1 (Kaiser, 1960).。然后，可以使用正交或倾斜旋转技术旋转提取的因子，以生成因子权重。\n",
    "\n",
    "\n",
    "#### 聚合和区分效度\n",
    "\n",
    "属于同一因子的题目在该因子上载荷应当超过0.6，或者alpha信度大于0.7, 平均方差提取量AVE超过0.5。 而对于区别效度，题目在非属因子上的载荷应当低于0.3, 或者 很多论文中会求因子之间的相关性,\n",
    " 区别效度主要是AVE的平方根大于这个因子与所有其他因子的相关系数。"
   ]
  },
  {
   "cell_type": "markdown",
   "metadata": {},
   "source": [
    "#### 共同方法偏差\n",
    "\n",
    "共同方法偏差不是效度, 但是影响效度。\n",
    "\n",
    "\n",
    "共同方法偏差（CMB）是由于测量环境/被试本身倾向/测量工具等导致的不同题目(变量)之间具有相关性。举例来说, 有些被试喜欢评高分, 有些被试喜欢评低分, 不管什么样的题目, 被试这种倾向性都会导致题目之间的相关性被高估。\n",
    "\n",
    "检测你的研究数据是否存在CMB最简单的方法就是Harman的单因子方法: 使用所有题目(变量)进行EFA, 如果第一个因子所能解释的方差超过50%就可以认为你的数据存在CMB。"
   ]
  },
  {
   "cell_type": "markdown",
   "metadata": {},
   "source": [
    "### 效度分析的流程\n",
    "\n",
    "</br>\n",
    "\n",
    "<a target=\"_blank\" href=\"https://www.mlln.cn/drawio/?lightbox=1&highlight=0000ff&edit=_blank&layers=1&nav=1&title=%E6%95%88%E5%BA%A6(%E5%9B%A0%E5%AD%90%E5%88%86%E6%9E%90)%E5%88%86%E6%9E%90%E6%B5%81%E7%A8%8B.xml#R7VxLc6M4EP41OibFSw%2BOYJPZw27VVs1hd4%2FEJjaz2HgxzmN%2B%2FbaEBBbIjscGZhzHTlWgkYTQ191fd6MEuZPV65ci3iz%2FyOdJhhxr%2ForcKXIcx8Me%2FOKSt0pig6iSLIp0LmWN4Gv6PZFCS0p36TzZag3LPM%2FKdKMLZ%2Fl6ncxKTRYXRf6iN3vKM%2F2um3iRdARfZ3HWlf6VzstlJWUObeS%2FJeliqe5sE7%2B68hjP%2Fl0U%2BW4t74cc90l8qsurWI0lH3S7jOf5y57IjZA7KfK8rI5Wr5Mk44urlq3q93Dgaj3vIlmXp3SQQG3LN%2FXoyRxWQp7mRbnMF%2Fk6zqJGGorHS%2FgAFpwty1UGhzYcwj2Lt7%2B5%2FB6r039ks29JWb5JoONdmYOoGf33PN%2FIMZ7ydSmbweSq80me5YWYnfsgPiDvPqh89m2%2BK2byWRypOnGxSGQrtxLxp9zrJhfnS5KvEpg0NCiSLC7TZ10fYqlWi7pds7RwIFfXvNJyLs9xtpODogijcIKYxQ8CiljYBSPLQOX5or8s0zL5uonFo72A2YEsix%2BTLKw1Ti3TOl%2FzHk9plu2tnBPxbx8r%2FJwUZfJ6dPXkVVc5AukHfKn1L41N2coSlnv2xKzL15t0FvMEvdW0VihxT3pbr%2F5xzE7Sarer1axvrZZd%2F8xTmEiNJ1bASDwdivUhqjnJXi2s6mmcBJ9tsBeHZPC84XYTrzVkyX877i9D7Wghf4suHA1BFwqQpqHrJPxr6AtWCQobEDUITLkaRx8bxNWMlLildmArpa5vRbJNv8ePogFXuQ1fL7GCOER4CpI4SxdrEMxADxKYcchtLgV%2BCuSFVTqfC2f8jg8429bJAVuvOVfOX%2BMtkw%2B4s%2B4dy%2FY1vbmTKnyuOqom%2BdPTNrlY0%2ByupkUE%2BQwFD0fZUa7xQbcyrus4Rr7nuhXPGceveLbOEy5tEUB%2FfsU9AnZt8JGPGPAxSEBuo4B1uWSZrx5326slZs%2FWHblrYGaPdJnZ74GZ2TueXblfgIWiwOIHoYt8zNEIH5AfSljYRPV7LDSnHYpeEFNNOZ5wwBhiRAwYccmJjrsxbPsAznvG%2FstDjnGLu1VKtg85MQRjpAfIPf9MH%2FuDGchxFPp2yEbn%2BK6fVU5Vc7TsQr96KhDYnIZocc6eNY2UHF4rbNgdhQ6xMxgdeiZ9EF7X94TnBH9r3x4f1gHIGHzoGQgx8lAIpDUVS28hpqwUmIz7zQkKJoIXASFbAMZE%2BeBdA%2F7lOM2QYHSQPJnTXDYip%2BFuheGDMxc2pAgYj8Vc5sidRSgQLiv0xAHh5hLQyyLDmzGgug6tmMYz%2BL2hDIiYEu%2Fay1Fx0KuNXXsIgnHX%2FsiB6kvv9keOstSQsF0rNPTSoN4cHdqWbrPUOi06DIoifttrJquOh%2B9jt%2B5j45a%2BVCOeG3qqEGt8hTpW7x9X2ebxdlmTSX%2Bah2kfmvejCuO1FVNXmHfbY2r1qmBqZdr80goCIHQIke%2FKIIBB6gXK5tpW8wrgmBr%2B%2FMTnwgAAaxgQbAgAsCEAsN0%2BIoDRXj9fBYdQA71fWmE4ObymBmPxURDwMmsk6nQ80%2FwMr3%2FEujz2M8NrU2lngJrrr8Om55mdWuteCfRkkIgBpLoe%2B%2Bkbj4FExio9EFOk2n1pKGpxfqDFD53ggh8QFPp7RbsPFlFY9F6PKZjJ66lKnRZTtDOZc8CiJrc3okVdS8ZKDMU8Si60KHOgT119%2B8dQGSv1WgmI029CQU0JxZCMaqPrZFSDal3srM%2FSCEx0jbAt3K9KkANVaXD6D3vZI0NhxH%2FgEkTIjH40p%2B%2BxVhpJTk0j2682z%2BJns12GNl9pjkaAAnxzyUe7tm9bzpjZhz8M2V6nR6Ss6xEH2jzQLg%2BTtoVV87q8PDxw9Y66n5S6p0DEoEC9VHm7UVTrpTpmzj3BLvMIho9t%2BYOoU%2BeufauTKdH2%2BH7CoKLlKQpEmhaILS6cuiPzlgq5GWYqQj8YoapvYRSKnYoghwFvjWsIOeB0xqAaanozKWqPVTVSbl3y%2Bf4Avyrlh2aQPqE1hHYtZE07hQdD1rRtFPNAmhst5oj4AXIDaLLKsvXdbG0ClaJwKnaxURRAXO43He5NHR4NDc0jf2zg26mTqYpDDcDXf8R50R5xU8mNia1wwjnzt8QirwqIfC%2FBo31nREhC8R0ZklZIT9mIxshM23UYd5hBINwjE0Z245AYi52DQWKudcpNu2qvbrVhtKpH8Bdy4DG75aqPjYpvjYlKv5nLa1rulZnhTFWZr70CrbRX%2B0NWx4xr7%2B90mGc2HSpMp3qFTZvw7%2FYsxlTBG8xiTAU8XwRhTIDh8T0HcnPYDbqvQUt3cNr8v4kqs27%2Bq4cb%2FQ8%3D\"><img src=\"imgs/06-01-workflow.png\"></a>"
   ]
  },
  {
   "cell_type": "markdown",
   "metadata": {},
   "source": [
    "### 探索性因子分析流程\n",
    "\n",
    "\n",
    "</br>\n",
    "\n",
    "<a target=\"_blank\" href=\"https://www.mlln.cn/drawio/?lightbox=1&highlight=0000ff&edit=_blank&layers=1&nav=1&title=%E6%8E%A2%E7%B4%A2%E6%80%A7%E5%9B%A0%E5%AD%90%E5%88%86%E6%9E%90#R7Vxbc6M2FP41erQHSQikR%2FBlO9PutDP70PaR2MSmxcbFZJPsr68kJIxAvsTGZO0kyST4IIHQOd93LhIBeLR6%2BZJHm%2BXXbB6nADnzF4DHACGMKOR%2FhOS1lEDkklKyyJO5ku0E35IfsRI6SvqUzOOt0bDIsrRINqZwlq3X8awwZFGeZ89ms8csNe%2B6iRZxS%2FBtFqVt6Z%2FJvFiWUor8nfyXOFks9Z2hx8ozD9Hs30WePa3V%2FQDCj%2FKrPL2K9LXUg26X0Tx7ronwBOBRnmVFebR6GcWpmFw9bWW%2F6Z6z1bjzeF2c0sFVwyhe9aPHcz4T6mOWF8tska2jdLKThvLxYnEBh39aFquUH0J%2ByO%2BZv%2F4l5EOiP%2F6tmv0TF8WrUnT0VGRctLv6b1m2Udd4zNaFasYHV34eZWmWy9Hhqfzi8vaDqmffZk%2F5TD0LUqYT5YtYtcKlSDxlrZuanC9xtor5oHmDPE6jIvlu2kOkzGpRtdtNLT9Qs2ufaTWW71H6pC4KJgSEI0AdcRD4gIZtZaQpN3kx6c%2FLpIi%2FbSL5aM8cdlyWRg9xGlYWp6dpna1Fj8ckTWszhybiu4sZ%2Fh7nRfxycPY0ExBlX4oHmLL65x2moEbCsoYn6lw%2B315rMk%2BwW8NqpRF3ZLfV7B%2FW2UlWjdtWTbu2atX1jyzhA6n0SbRilD6RT8xLlGNSvRq6qoZxkvqgBS%2FIS%2FnzhttNtDY06%2F33JPgyNI4W6q%2FsIrQh3YVWyK4hRrH4tvTlqOQGG3j6InzI5XXMa3NxOSItbpgdx0ph2lseb5Mf0YNsIExuI%2BZLziAJARlzSZQmizUXzLgdxHzEocBcwv1ToE6skvlckvERDjgb694erFc%2BV43f8Fs2Dhg4Q%2BRAZtjNQJnwueaom2SPj9v4YkuDbUubeIBREEwPekc1x3tppV%2FqOOR8z6UVF%2FXDKy40%2FQT2Gw6gO17BB5RdAX7CAOX%2BmEu4HIKAtn3JMls9PG1v1jG70CRybPHMrtf2zKwDz0yPMLumX64WHwSOOAgxYERoI5wCFiq10JHu95AbpB3KXjymGgt98gNKAfXkBSdCciJx74AN9%2Bi5BvafXuWENHy3TsnqKvcswZjXgcpddibHvjEDOayFrgnZSo5HeVaTqkG09EJePVURxJ6GGHFODU09JYe3qjbqXcUdYscZQuh7ru8QSjlZG8AlmA3VCYKYqwPl7l2la7MVycjMlazKuRh%2BPF9ZBSd9%2BErX4iwnLgi5QxvLqXcA1QjmXk5w6ggEI%2BkzuYagVBiVpYWj4P7p%2FJ0l%2BWhp8mR%2Fh2mP%2Fs63%2BTsCwgkIJhI6PDIJAA5ESTBN14PZ2hbK%2BCAcS4hxHYaAsV2Hoa3Dg6Wh%2Fcr3rfkBZKbqodtGLIYW1Vf154vC2zYD3nlEQz2La%2FR7imj0zRuhZYBlYZWBIOCJwq9ff79zo8cYD4kZJyB32CPlacwZeqCC8viPUIgDqP8ZUNZQ41tQw3pCDYS2QkgVWFxTb7ejm84D%2B6rMotdD3KvVubTOavoVJHhcs%2B8frV%2FGg67T4EEP9hivs%2Fay00emONamOIb6CgzaMfhkGgjDF4mrozNYz1Iy%2FGihgm8JkK8XKNhS2iqB9eXBJ4pqKGKWyhN08FU8lAvdoaoryQIUNuwEOsQZVuccwq7lvaBjqz1V4Ukv1gJBazPA7VpLX7tcmE1v7SUZH4QhYFgtyVAXiPVmkZKrdR8PhEwWTHxZMGlTti461vrdWSCDqFn2pbTN0UgjcGlsRuuApKHTjh9rCwWfcNNwU9Bq4u3ShYHT9dTTyto%2BJ3orGd0ePfW17lbdvqEn7sRKPuROjE1vYjHlIlZzGwmwc2Ju1sWOQB69fIaVdURYdvxAx%2B0NEbYKlG33BoNiHUQFfeM2Iu4sOTPdPnclPeZmSv0tmgqh4CXBVwEILCh6923Kl815Y5vybjt%2FHxuVIULXoSUzoPL7j6jm0XZZAfNckrKsLUF4qduWXYM8j15rDdQ23L258QB7De%2BFSV3RxzsQta12ZxnlGM5Ok%2FV2xuuazu3E4raFyE726LzZVhB7o600OxBCurUVx7ZQKvdGlv5WBZ4MBEikD6K2Eors%2B7797QA5zZC0x0XTKld%2Fr%2FTtdoJVavED%2FaXZttdRrloOudk026Yn2Ff5sbr94f399WqjK%2FaUiyIjFb859320HNwnFsK71vooD62vApdbrR7ql49MuJDeaM1elWJTkeVNJGgCpCryIgH0xUsXdx8TYHPVy0O9RgR7C%2B9XXx69VQwRW2hwaR3rzLDfN8nVI8fC%2FkYHiFRFv7sc0YbxfpdS78qy3qn40EwPodOtmehnbbztUV%2BnZaMT7OXGg6MBbCK4z%2B1jVZHxE4A1rHVc0DndFduSiTI7GOttCvL1VMbpVG5KYKF%2B0ZSoU7zlR4uXXMtOha7iJf5x989xSprb%2FQsiPPkf\"><img src=\"imgs/06-02-workflow.png\"></a>"
   ]
  },
  {
   "cell_type": "markdown",
   "metadata": {},
   "source": [
    "### 因子分析样本量\n",
    "\n",
    "因子分析是一项需要大量样本的方法。因子分析基于变量的相关矩阵，并且相关通常需要较大的样本量才能稳定。 Tabachnick和Fidell（2001，第588页）引用了Comrey和Lee（1992）关于样本量的建议：50例非常差，100例差，200例公平，300例很好，500例非常好，1000例以上是极好的。根据经验，为避免计算困难，样本量应当是变量数的10倍。"
   ]
  },
  {
   "cell_type": "markdown",
   "metadata": {},
   "source": [
    "### 探索性因子分析SPSS操作\n",
    "\n",
    "打开因子分析的对话框\n",
    "\n",
    "<img src=\"imgs/06-03-spss.png\">"
   ]
  },
  {
   "cell_type": "markdown",
   "metadata": {},
   "source": [
    "选择因子分析的方法: 主轴因式分解法, \n",
    "\n",
    "<img src=\"imgs/06-04-spss.png\">"
   ]
  },
  {
   "cell_type": "markdown",
   "metadata": {},
   "source": [
    "选择因子旋转方法, 这种方法假设因子之间存在相关性, 所以更适合一般问卷数据\n",
    "\n",
    "<img src=\"imgs/06-05-spss.png\">"
   ]
  },
  {
   "cell_type": "markdown",
   "metadata": {},
   "source": [
    "### 共同方法偏差SPSS操作\n",
    "\n",
    "同上"
   ]
  },
  {
   "cell_type": "markdown",
   "metadata": {},
   "source": [
    "### 结果解读\n",
    "\n",
    "#### KMO\n",
    "\n",
    "<img src=\"imgs/06-09-result.png\">\n",
    "\n",
    "\n"
   ]
  },
  {
   "cell_type": "markdown",
   "metadata": {},
   "source": [
    "#### 方差解释率\n",
    "\n",
    "\n",
    "<img src=\"imgs/06-06-result.png\">"
   ]
  },
  {
   "cell_type": "markdown",
   "metadata": {},
   "source": [
    "#### 模式矩阵:代表回归系数\n",
    "\n",
    "<img src=\"imgs/06-07-result.png\">"
   ]
  },
  {
   "cell_type": "markdown",
   "metadata": {},
   "source": [
    "#### 结构矩阵:代表相关系数\n",
    "\n",
    "<img src=\"imgs/06-08-result.png\">"
   ]
  },
  {
   "cell_type": "markdown",
   "metadata": {},
   "source": [
    "### 补充\n",
    "\n",
    "Kaiser(1960)的K1标准被滥用, 很多学生把特征值大于1作为提取因子的金标准, 但是其实特征值为1只是下限, 也就是说你提取因子的时候, 可以只提取特征值大于2的,甚至更高的, 这并不维反K1准则。\n",
    "\n",
    "另外很多学生比较死板, 特征值为1.01和0.99其实差别很小, 但是我们往往保留了特征值为1.01的因子而删除了特征值为0.99的因子。\n",
    "\n"
   ]
  },
  {
   "cell_type": "markdown",
   "metadata": {},
   "source": [
    "### 参考\n",
    "\n",
    "- [1][因子结构与历史结构不同时,采用理论分析的方法来证明效度](https://www.ixueshu.com/document/7569fdf0234bb706fbe39cfbda2a6527318947a18e7f9386.html)\n",
    "- [2][只汇报信度](https://www.ixueshu.com/document/ea9e6a86b7ad2c2d9ff9e34a4a2f0c69318947a18e7f9386.html)\n",
    "- [3]Kaiser, H. F. (1960). The application of electronic computers to factor analysis.Educational and\n",
    "Psychological Measurement, 20, 141-151.\n",
    "- [4]Podsakoff, P. M., MacKenzie, S. B., Lee, J.-Y., & Podsakoff, N. P. (2003). Common method biases in behavioral research: A critical review of the literature and recommended remedies. Journal of Applied Psychology, 88(5), 879-903. doi: 10.1037/0021-9010.88.5.879\n",
    "- [5]https://us.corwin.com/sites/default/files/upm-binaries/19710_784.pdf\n",
    "- [关于PCA和PAF两种方法选择的建议](https://stats.stackexchange.com/questions/280746/what-is-the-difference-between-pca-and-paf-method-in-factor-analysis)"
   ]
  }
 ],
 "metadata": {
  "kernelspec": {
   "display_name": "Python 3",
   "language": "python",
   "name": "python3"
  },
  "language_info": {
   "codemirror_mode": {
    "name": "ipython",
    "version": 3
   },
   "file_extension": ".py",
   "mimetype": "text/x-python",
   "name": "python",
   "nbconvert_exporter": "python",
   "pygments_lexer": "ipython3",
   "version": "3.6.5"
  }
 },
 "nbformat": 4,
 "nbformat_minor": 2
}
