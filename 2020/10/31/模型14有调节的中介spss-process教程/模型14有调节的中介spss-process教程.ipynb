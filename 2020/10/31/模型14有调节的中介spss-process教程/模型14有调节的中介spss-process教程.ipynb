{
 "cells": [
  {
   "cell_type": "markdown",
   "metadata": {},
   "source": [
    "模型14是一个有调节的中介效应模型, 根据下图来看, 我们的调节变量V发生在中介变量M和因变量Y之间, 因此, 当变量V大小改变的时候, M和Y之间的关系也会发生改变, 进而影响到中介效应。 因此可以说V调节了M的中介效应。\n",
    "\n",
    "\n",
    "<img src=\"model.png\"/>\n",
    "\n",
    "<img src=\"s-model.png\"/>\n",
    "\n",
    "下面我们用符号化的方式来看一下这个过程。下图中各个符号的意义是:\n",
    "\n",
    "- X/M/V/Y分别是自变量/中介变量/调节变量/因变量\n",
    "- MV变量代表M和V的乘积变量(需要先中心化再求乘积)\n",
    "- a/b/c都是回归模型中的回归系数\n",
    "\n",
    "根据下面的模型图, 我们可以写出两个回归模型, 而Process就是对这两个回归模型进行的检验, 并估计出各个未知的回归系数。\n",
    "\n",
    "$$\n",
    "(1) M = h_M + aX + e_M\n",
    "$$\n",
    "\n",
    "$$\n",
    "(2)  Y = h_Y + bM + c'X + b_2V + b_3MV + e_Y\n",
    "$$\n",
    "\n",
    "\n",
    "如果把M带进(2)式就可以得到:\n",
    "\n",
    "$$\n",
    "Y = h_Y + bh_m + abX  + c'X + b_2V + b_3V(h_M+aX) + e_Y\n",
    "$$"
   ]
  },
  {
   "cell_type": "markdown",
   "metadata": {},
   "source": [
    "根据上面的式子, 我们可以求得中介效应(根据中介效应的概念, 中介效应就是X通过M对Y的影响大小, 因此只要将1式代入2式, 就可以):\n",
    "\n",
    "中介效应为:\n",
    "\n",
    "$$\n",
    "ME = ab + ab_3V\n",
    "$$\n"
   ]
  },
  {
   "cell_type": "markdown",
   "metadata": {},
   "source": [
    "这时候你会发现, 如果$ab_3$不等于0, 那么中介效应的大小受到了V的大小的影响, 因此就存在这有调节的中介效应。\n",
    "所以对中介的调节效应就可以表示为$ab_3$。因此我们使用Process插件的最终目标就是对这个量的大小进行判断, 只要它的置信区间不包含0, 就可以认为存在V对调节效应大小的影响。"
   ]
  },
  {
   "cell_type": "markdown",
   "metadata": {},
   "source": [
    "### SPSS检验过程\n",
    "\n",
    "我们可以使用spss完成所有的检验过程, 只不过比较繁琐, 但是在这里列出这个过程可以帮助你更清楚的理解process在做什么。\n",
    "\n",
    "- 将M和V进行中心化, 也就是减去各自均值\n",
    "- 求变量MV\n",
    "- 以M为被预测变量, X为预测变量, 做回归(检验回归方程1)\n",
    "- 以Y为被预测变量, X/V/MV/M为预测变量, 做回归(检验回归方程2)\n",
    "- 使用bootstrap方法求$ab_3$的置信区间, 看这个置信区间是否包含0"
   ]
  },
  {
   "cell_type": "markdown",
   "metadata": {},
   "source": [
    "### 使用Process一键检验\n",
    "\n",
    "Process没有什么魔力, 只是将spss的五个步骤, 合成到一起, 让你一键得到所有需要的结果。所以我们用一两个图就能看完Process的所有配置:\n",
    "\n",
    "下面的配置的模型是:\n",
    "\n",
    "- 自变量是:性别\n",
    "- 因变量: 化妆品购买意愿\n",
    "- 中介变量: 男子气概\n",
    "- 调节变量: 月收入\n",
    "\n",
    "\n",
    "注意: 调节变量指的是对中介和因变量之间关系的调节\n",
    "\n",
    "\n"
   ]
  },
  {
   "cell_type": "markdown",
   "metadata": {},
   "source": [
    "<img src=\"process-config.png\">\n",
    "\n",
    "<img src=\"process-options.png\">"
   ]
  },
  {
   "cell_type": "markdown",
   "metadata": {},
   "source": [
    "### 视频演示\n",
    "\n"
   ]
  }
 ],
 "metadata": {
  "kernelspec": {
   "display_name": "Python 3",
   "language": "python",
   "name": "python3"
  },
  "language_info": {
   "codemirror_mode": {
    "name": "ipython",
    "version": 3
   },
   "file_extension": ".py",
   "mimetype": "text/x-python",
   "name": "python",
   "nbconvert_exporter": "python",
   "pygments_lexer": "ipython3",
   "version": "3.6.5"
  }
 },
 "nbformat": 4,
 "nbformat_minor": 4
}
