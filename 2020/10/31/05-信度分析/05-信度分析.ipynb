{
 "cells": [
  {
   "cell_type": "markdown",
   "metadata": {
    "slideshow": {
     "slide_type": "slide"
    }
   },
   "source": [
    "### 为什么要做信度\n",
    "\n",
    "高信度的因子有以下优点:\n",
    "\n",
    "- 测量的一致性: 当多个题目测量一个因子的时候, 我们期望这些题目之间相关较高(也就是一致性)\n",
    "- 测量的稳定性: 当我们只对人测量一次的时候, 我们期望着一次结果有代表性, 可以代表他一个月/一年/或者一辈子的特质\n"
   ]
  },
  {
   "cell_type": "markdown",
   "metadata": {
    "slideshow": {
     "slide_type": "subslide"
    }
   },
   "source": [
    "\n",
    "<img src=\"imgs/06-01-reliability.png\">\n",
    "<img src=\"imgs/05-02-reliability.png\">\n"
   ]
  },
  {
   "cell_type": "markdown",
   "metadata": {
    "slideshow": {
     "slide_type": "slide"
    }
   },
   "source": [
    "### 信度种类\n",
    "\n",
    "- 内部一致性信度: 一个因子内题目的相关性(常用)\n",
    "- 重测信度: 同一个测验测量两次或者多次, 不同测量之间的相关性(不常用)\n",
    "- 分半信度: 将一个因子内的题目随机分成两组, 两组题目之间的相关性(不常用)\n"
   ]
  },
  {
   "cell_type": "markdown",
   "metadata": {
    "slideshow": {
     "slide_type": "slide"
    }
   },
   "source": [
    "### 信度分析流程\n",
    "\n",
    "<a href=\"https://www.mlln.cn/drawio/?title=%E4%BF%A1%E5%BA%A6%E5%88%86%E6%9E%90%E6%B5%81%E7%A8%8B.xml#R7Vtdl7I2EP41uXz3ACF8XIpie9Ge03P2on0vWY1Ki8Yi7sf765sJCQiJrqtAq9bdc4QhhJCZeeaZSUR4vH7%2FKU%2B2q1%2FZnGbIsebvCE%2BQwz%2Buw79A8lFKbMsjpWSZp3MpqwXP6Q%2BqGkrpPp3TXaNhwVhWpNumcMY2GzorGrIkz9lbs9mCZc2nbpMl1QTPsyTTpb%2Bn82JVSgPHr%2BU%2F03S5Uk%2B2vbC88pLM%2FlrmbL%2BRz0MOXohPeXmdqL7ki%2B5WyZy9HYhwjPA4Z6woj9bvY5rB5KppK%2B%2BbHrlajTunm%2BKcG1w5jOJDvTqd85mQpywvVmzJNkkW19JIvB6FDix%2BtirWGT%2B0%2BSF%2FZv7xB8ifiDr9Lpv9SYviQyo62ReMi%2Bref2FsK%2FtYsE0hm%2FHBledjlrFcjA5PxYfLy3HDYI%2B%2BuRTt2D6fyVbSLoskX1LZClezzs2ZsjXlg%2BZNcpolRfra7D2RZrWs2tVTyw%2Fk7JpnWj76Ncn2slMUExSNUWDBwchHQaQrI8u4ycOkv63Sgj5vE%2FEmb9ztuCxLXmgWVRanpmnDNnDHIs2yg5lzYvj78gy%2F0ryg76fnWJ89eQMm0r4kDoTS6t9qn7KVJ6wO%2FCmwrp9vT5vMM%2By2YbXCiDuy22r2T%2BvsMqvGulUHV1q1vPU3lvLnVvokSjFSn45Pml2UQ5B3tXRVDeMs9dkGf3G8jL9etNsmm4Zmvb%2F3gJdR42gpv8UtoA0RLpRC6obYofBnuJd7JTfYkac64UMu%2B2n2zcXliJS4ZXbcfYqmveV0l%2F5IXkQDMLktzJeYQRIhMuGSJEuXGy6YcbVTPuII3DDl8WkkL6zT%2BVyA8ScYcK2vywArB1vHrUOL9E5iwDfrybHssGE336TFXmqOqglbLHb0akuzDcjsoTBAo%2BnJ6Cjn%2BCisDAsdp4JvZ7BiXxstzbjiek1cwaQVALrDFXxC2ZXDxyEKeDzmEi630SjQY8mKrV%2F2u5sNzK7dBHJsiMyup0fmsIPIHHyC7Ap%2BuVp8NLLgIMIoJKCfIECBJy7FoKvYRdEUVARUatTE6pOgXDutfUSHB478n1enFpddoqvTMxAtrwN1qhziy%2Fj5xezitBa6BtvLIDPUIbOUdQ%2BZdpta9waZDjEouOJGfaSPOg2%2FUeXbR7hR59lleFZY8wA%2FATZ9QNFw%2BgCBzm4io4%2FBntrY6Fihjo1226Mu0YtN%2BvEQneMN6yH0PS0OBsLPvsseLvMd20Q23YGcx8W9KMm%2BTRgzqaIs6A6gCtvAz43kUCN%2BOjl8SCqIMVYAp5Ip38Dt%2ByKDKtG%2FN7y70JVcA6pdW5o7WxUGXm50JQJeExBBBjBwAHCuQNSlA6AHkSuYgwU16v8TLkkrmuzb9UIjrejJy3BPvLvpZbeSdNme7mV4qICFdcp8F9xhnuxWlbt2p5duCoijPE8%2BDhrIAvrRZNlv1Uf8wD7U8aftXctq2UQ5gotLzp4OzRJZY5GKxWjkAB5DASwWCD1BkX%2FnoEr8lpaIKVfrj7r4BqXw6BehEAtSOREZs04z71opYUsnzoBkUj1ruMLTjdLMQAfaa6uOZ%2BvIMejoQau%2FJj2UqNJ5%2Bder61jSMz2noqA9rMYb1mwMKbhecQxQFMM%2FvzSyIJnQ0PK%2B6ovENycCfdUXsQkie3C%2FW88RnD5c8%2Bz6ok4S7iJH6E4Vg6Vrat373ryig3TN6CJDrV%2BZNgWcFWAIrF6BxEMBz5qIlIT3F2lUDKn2VFs6Fe8x0PSzRnKjjNu40D9UYffYYu9UmH8ILgLVXC7xgHHBYu8YygiyUvuS16VfH4Vj2HcMThNCkQF8bgT%2FRwu9B7ffd%2Barr6QE566kdLFLCusI9sCkATuG4PSv1BI90m9tUL1pw7vLbRoT6dSR2BPHjYw7L%2Fh7pOpRRF7iLcHf79o929VCEpoyr95qU66phPugdQ%2FX4JzlDsQhGL3JX8S%2B0dBVZNC%2B%2F41OrTpt9ROaITb0uv2EqhvlhmrvbaeL%2FheFKtdu8hfidhuqXPPGULk%2BIhatgvOY5GGAi4hgpJ%2Ff9fT09HCkNMBN8nE2I%2F060vLT%2BneopXXUv%2FbF8T8%3D\"><img src=\"imgs/信度分析流程.png\"></a>"
   ]
  },
  {
   "cell_type": "markdown",
   "metadata": {
    "slideshow": {
     "slide_type": "slide"
    }
   },
   "source": [
    "### SPSS操作\n",
    "\n",
    "\n",
    "<img src=\"imgs/05-01-spss.png\">"
   ]
  },
  {
   "cell_type": "markdown",
   "metadata": {
    "slideshow": {
     "slide_type": "subslide"
    }
   },
   "source": [
    "\"删除项后的标度\"为了检验哪个题目导致信度高或者低。\n",
    "\n",
    "<img src=\"imgs/05-02-spss.png\">"
   ]
  },
  {
   "cell_type": "markdown",
   "metadata": {
    "slideshow": {
     "slide_type": "slide"
    }
   },
   "source": [
    "#### 结果解读\n",
    "\n",
    "<img src=\"imgs/05-03-spss.png\">"
   ]
  },
  {
   "cell_type": "markdown",
   "metadata": {
    "slideshow": {
     "slide_type": "subslide"
    }
   },
   "source": [
    "通过相关分析诊断问题在哪:\n",
    "\n",
    "<img src=\"imgs/05-04-spss.png\">"
   ]
  },
  {
   "cell_type": "markdown",
   "metadata": {
    "slideshow": {
     "slide_type": "subslide"
    }
   },
   "source": [
    "<img src=\"imgs/05-05-spss.png\">"
   ]
  },
  {
   "cell_type": "markdown",
   "metadata": {
    "slideshow": {
     "slide_type": "slide"
    }
   },
   "source": [
    "### 判断标准\n",
    "\n",
    "通常认为0.7是信度合格的最低标准[1], 但是有时候也用0.6[2], 更多的的一个判断标准是:\n",
    "\n",
    "0.7到0.8可以接受, 0.8-0.9不错, 0.9以上非常好。[3]"
   ]
  },
  {
   "cell_type": "markdown",
   "metadata": {
    "slideshow": {
     "slide_type": "slide"
    }
   },
   "source": [
    "### 参考文献\n",
    "\n",
    "\n",
    "- [1]Griethuijsen, R.A.L.F., van Eijck, M.W., Haste, H. et al. Global Patterns in Students’ Views of Science and Interest in Science. Res Sci Educ 45, 581–603 (2015). https://doi.org/10.1007/s11165-014-9438-6\n",
    "- [2]Taber, K. S. (2018). The use of Cronbach’s alpha when developing and reporting\n",
    "research instruments in science education. Research in Science Education, 48(6),\n",
    "1273-1296.\n",
    "- [3]Cortina, J. M. (1993). What is coefficient alpha? An examination of theory and applications. Journal of applied psychology, 78(1), 98.\n"
   ]
  }
 ],
 "metadata": {
  "celltoolbar": "幻灯片",
  "kernelspec": {
   "display_name": "Python 3",
   "language": "python",
   "name": "python3"
  },
  "language_info": {
   "codemirror_mode": {
    "name": "ipython",
    "version": 3
   },
   "file_extension": ".py",
   "mimetype": "text/x-python",
   "name": "python",
   "nbconvert_exporter": "python",
   "pygments_lexer": "ipython3",
   "version": "3.6.5"
  },
  "rise": {
   "enable_chalkboard": true,
   "footer": "<h1><i class='logo-icon fa fa-cube'></i></h1>",
   "header": "<a href='https://www.mlln.cn/' target='_blank'><h1 style='font-size:100;position: fixed;right: 0;padding: 20px;'><i class='logo-icon fa fa-cube'></i>DataSense<sub style='text-transform: lowercase;'>mlln.cn</sub></h1></a>",
   "height": "80%",
   "scroll": true,
   "theme": "black",
   "transition": "zoom",
   "width": "80%"
  }
 },
 "nbformat": 4,
 "nbformat_minor": 2
}
