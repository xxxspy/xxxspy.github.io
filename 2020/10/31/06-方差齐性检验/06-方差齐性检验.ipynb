{
 "cells": [
  {
   "cell_type": "markdown",
   "metadata": {},
   "source": [
    "---\n",
    "\n",
    "title: 方差齐性检验\n",
    "date: 2020-12-24 12:44:03\n",
    "tags: [spss, 问卷数据分析, 方差齐性]\n",
    "mathjax: true\n",
    "\n",
    "---\n",
    "\n",
    "方差齐性检验的spss操作和结果解读!\n",
    "\n",
    "<!--more-->\n",
    "<!-- toc -->"
   ]
  },
  {
   "cell_type": "markdown",
   "metadata": {},
   "source": [
    "### 方差齐性\n",
    "\n",
    "方差齐性英文叫做\"Homogeneity\", 这个词可以拆分为:homo+geneity, 意思是:相同的特性, 而方差是数据分布的一种特性, 表示分布的集中-离散趋势, \n",
    "均值固定的情况下方差越大, 分布越离散。当然, 方差齐性并不要求方差严格相等, 而是要求近似相等, 也就是说差异只要没有达到显著水平就认为方差齐。\n",
    "\n",
    "方差齐性是经常用到的数据检验方法, 因为很多统计方法都要求数据满足方差齐性假设, 比如方差分析。"
   ]
  },
  {
   "cell_type": "markdown",
   "metadata": {},
   "source": [
    "### Levene's Test of equality of variance 方差齐性检验\n",
    "\n",
    "比较两组或两组以上数据的方差是否相等。结果显著, 就认为方差不齐。"
   ]
  },
  {
   "cell_type": "markdown",
   "metadata": {},
   "source": [
    "### SPSS操作\n",
    "\n",
    "我们的想要查看不同性别的人的情感品牌是否满足方差齐性假设, 也就是比较男生与女生的品牌情感的方差是否相等。\n",
    "\n",
    "<img src=\"imgs/06-01.png\">"
   ]
  },
  {
   "cell_type": "markdown",
   "metadata": {},
   "source": [
    "<img src=\"imgs/06-02.png\">"
   ]
  },
  {
   "cell_type": "markdown",
   "metadata": {},
   "source": [
    "<img src=\"imgs/06-03.png\">"
   ]
  },
  {
   "cell_type": "markdown",
   "metadata": {},
   "source": [
    "<img src=\"imgs/06-04.png\">"
   ]
  },
  {
   "cell_type": "markdown",
   "metadata": {},
   "source": [
    "<img src=\"imgs/06-05.png\">"
   ]
  },
  {
   "cell_type": "markdown",
   "metadata": {},
   "source": [
    "### 结果解读\n",
    "\n",
    "根据Brown的观点, 采纳基于中位数的结果比较稳健, 但是通常这几种结果差异不大。\n",
    "\n",
    "如果显著性这一栏低于0.05, 就认为达到显著性水平, 也就是说方差不齐, 根据下标结果, 方差是齐的。\n",
    "\n",
    "<img src=\"imgs/06-06.png\">"
   ]
  },
  {
   "cell_type": "markdown",
   "metadata": {},
   "source": [
    "### 结果汇报\n",
    "\n",
    "基于中位数的方差齐性检验显示L(1, 103)=0.250, p>0.05, 因此数据满足方差齐性假设。"
   ]
  },
  {
   "cell_type": "markdown",
   "metadata": {},
   "source": [
    "### 参考文献\n",
    "\n",
    "Brown, M. B. and Forsythe, Robust Tests for the Equality of Variances. A. B. (1974), Journal of the American Statistical Association, 69, pp. 364-367."
   ]
  }
 ],
 "metadata": {
  "kernelspec": {
   "display_name": "Python 3",
   "language": "python",
   "name": "python3"
  },
  "language_info": {
   "codemirror_mode": {
    "name": "ipython",
    "version": 3
   },
   "file_extension": ".py",
   "mimetype": "text/x-python",
   "name": "python",
   "nbconvert_exporter": "python",
   "pygments_lexer": "ipython3",
   "version": "3.6.5"
  }
 },
 "nbformat": 4,
 "nbformat_minor": 2
}
