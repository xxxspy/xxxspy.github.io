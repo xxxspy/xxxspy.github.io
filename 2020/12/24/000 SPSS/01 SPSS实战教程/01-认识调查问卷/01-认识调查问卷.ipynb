{
 "cells": [
  {
   "cell_type": "markdown",
   "metadata": {},
   "source": [
    "---\n",
    "\n",
    "title: 01-认识调查问卷\n",
    "date: 2020-12-24 12:44:03\n",
    "tags: [spss, 问卷数据分析]\n",
    "\n",
    "---\n",
    "\n",
    "这是问卷数据分析spss教程系列的第一篇, 所有图文教程和视频教程都可以在这个页面找到: <a href=\"https://mlln.cn/2020/10/31/SPSS%E8%A7%86%E9%A2%91%E6%95%99%E7%A8%8B%E5%86%85%E5%AE%B9%E7%9B%AE%E5%BD%95%E5%92%8C%E8%B7%B3%E8%BD%AC%E9%93%BE%E6%8E%A5/#\">全部教程传送门</a>\n",
    "\n",
    "\n",
    "\n",
    "<!--more-->\n",
    "<!-- toc -->"
   ]
  },
  {
   "cell_type": "markdown",
   "metadata": {
    "slideshow": {
     "slide_type": "slide"
    }
   },
   "source": [
    "# 认识调查问卷\n",
    "\n",
    "联系我:\n",
    "\n",
    "- DataSense www.mlln.cn\n",
    "- B站 mlln-cn\n",
    "- 微博 mlln-cn"
   ]
  },
  {
   "cell_type": "markdown",
   "metadata": {
    "slideshow": {
     "slide_type": "slide"
    }
   },
   "source": [
    "## 什么是问卷\n",
    "\n",
    "由一系列问题构成的表单, 我们称之为问卷。 问卷调查是社会学科获取科研数据的重要方式之一。"
   ]
  },
  {
   "cell_type": "markdown",
   "metadata": {
    "slideshow": {
     "slide_type": "subslide"
    }
   },
   "source": [
    "### 调查问卷的用处\n",
    "\n",
    "- **用于现状和态度调查**: 比如某个城市对绿化环境的态度调查, 这类调查的目的往往是为了了解人们的基本态度, 统计方法往往是简单的平均值和百分比。\n",
    "- **用于相关关系研究**: 了解事物之间的相关性, 比如对幸福感和性格类型的调查, 可以通过相关分析发现他们两者之间的关系。\n"
   ]
  },
  {
   "cell_type": "markdown",
   "metadata": {
    "slideshow": {
     "slide_type": "subslide"
    }
   },
   "source": [
    "### 调查问卷的优点和缺点\n",
    "\n",
    "- **优点**: 是快速收集大量科研数据的方法, 时间成本和经济成本低, 另外问卷可以搜集的数据资料很多, 可以建立更复杂的数学模型, 比如结构方程模型\n",
    "- **缺点**: 无法精确控制问卷作答者的环境, 所以调查问卷的数据质量较低, 受到偶然因素的影响较大, 因此以问卷调查的方法收集的数据需要进行数据质量检验, 并且往往需要较大的数据量。"
   ]
  },
  {
   "cell_type": "markdown",
   "metadata": {
    "slideshow": {
     "slide_type": "slide"
    }
   },
   "source": [
    "\n",
    "## 问卷分类\n",
    "\n",
    "根据问卷的严谨程度可以分为两类:\n",
    "\n",
    "- **量表式问卷**: 比如[主观幸福感量表](https://www.wjx.cn/jq/7766922.aspx), 他的题目是有n个等级构成的, 比如从**非常不同意**到**非常同意**的7个选项。\n",
    "\n",
    "\n",
    "- **非量表式问卷**: 比如[就业现状调查](https://www.wjx.cn/jq/9919066.aspx), 它由很多中题型构成, 选项也没有规律, 比较任意。"
   ]
  },
  {
   "cell_type": "markdown",
   "metadata": {
    "slideshow": {
     "slide_type": "subslide"
    }
   },
   "source": [
    "### 量表式问卷的特征\n",
    "\n",
    "\n",
    "- 以单选题/打分题为主, 如果式选择题, 答案都是有规律的, 比如1-7分, 或者**非常不同意**到**非常同意**的7个选项。\n",
    "- 题目可以划分维度/因子\n",
    "- 可以进行信效度检验\n",
    "- 规范性高, 编写难度大, 适合学术研究\n",
    "- 统计方法灵活多样, 适合大型模型的建模"
   ]
  },
  {
   "cell_type": "markdown",
   "metadata": {
    "slideshow": {
     "slide_type": "subslide"
    }
   },
   "source": [
    "<img width=\"70%\" src=\"imgs/01-01sem.png\"/>"
   ]
  },
  {
   "cell_type": "markdown",
   "metadata": {
    "slideshow": {
     "slide_type": "subslide"
    }
   },
   "source": [
    "### 非量表式问卷的特征\n",
    "\n",
    "\n",
    "- 题目类型多样, 比较随意, 选择题的选项也没有规律\n",
    "- 题目通常没有所谓的因子或者维度可分\n",
    "- 无法进行信效度检验\n",
    "- 规范性低, 编写要求低, 不太适合做学术研究, 可以作为了解现状的补充研究\n",
    "- 统计方法往往局限于描述性统计, 比如平均分/百分比, 有的可以做卡方检验, 但是很少人用于比较复杂的模型, 比如回归分析\n"
   ]
  },
  {
   "cell_type": "markdown",
   "metadata": {
    "slideshow": {
     "slide_type": "subslide"
    }
   },
   "source": [
    "![描述统计](imgs/01-02output.png)"
   ]
  },
  {
   "cell_type": "markdown",
   "metadata": {
    "slideshow": {
     "slide_type": "slide"
    }
   },
   "source": [
    "## 问卷分析的基本流程\n",
    "\n",
    "\n",
    "<a target=\"_blank\" href=\"https://www.mlln.cn/drawio/?title=%E6%9C%AA%E5%91%BD%E5%90%8D%E8%A1%A8%E5%8D%95.xml#R7VpRk6I4EP41ebWAQAiPorj3sFt1VXtVd%2FvIaEa5RWNhnNH79ZdAAgSCssK4O%2B5olSadkEB%2F3V93EgCcbU%2Bfsni%2F%2BUJXJAWOtToBOAeO40DX5n9Cci4ktm37hWSdJSspqwRfk%2F%2BIFFpSekxW5KB1ZJSmLNnrwiXd7ciSabI4y%2Bir3u2Zpvqs%2B3gtZ7QqwddlnKr7mHiV%2FO9kxTaFHDuokv9BkvVGzW2joGh5ipff1xk97uSMwIHP%2Bado3sZqLDnzYROv6GtNBCMAZxmlrChtTzOSCvUqxRXXLTpaywfMyI71ukA0ikte4vRI1D3nd8bOSh%2FPSZrOaEqzvApDNPenGMDwwDL6naiWHd2R9vTyjl5IxsipJpK384nQLWHZmXdRrUo1ynoCWX%2BtgPAtKdvUQVDCWMK%2FLseuFMALUgcd%2BoC49fhkxa1DVmnGNnRNd3EaVdIwB5yIISxe27AtH35u8%2BK%2FhLGzNPD4yCgXVSN8pnQv%2Bz3THZPdHJfXi3sQE3fiKkUHesyWqpeEjsXZmqhu0DOrOyNpzJIXfQKT6vJLp1kWn2sd9jTZsUNt5D%2BFoELRtz0NRWQ17LDR30XWpf68UNxBBWL5KP1wNZh5FIBgDoJIFLAP8AJEGExtwG078kA4yyW8jw%2BmkZDgOQj9lnVU2OdA6q6CAvHl8nUWrxKOXa3N9cTX7EaFRdQ6L%2FKPshQ5u7KcRbxNUqG4v%2BIN3cad9jTIL5EdTIL6R8PLsdpeWnpu3UvxGE7qtmEY4KRcJ9n5HyGfeKr6TXa7swNDgwO7cKAD9%2Bc%2Bo498uMbVkAV18rqrM3jB9QBedw6SPtHXul%2FkAt4gnjfhSVCpdpX5OC3nIaeE1RyG175JnfeMU4HBzh2jz3QqHfq60g1pgv3DaUJHcGpM1RqieDh51YUoZ7tYJ1Gs243dGLfQT2vcG%2BIfUkb93q0E9rSSX9oMmheOh7PNOW3M0FhC6NQxtPSo6dwcNvuGyaHpaxtL2594vu06uPgNGshOqib%2Ba9%2BG86BJxrQJ7y1swq4bRJU5lU2lPeRtv7xFeL47qWHl6dSMxrGIQZOMaBFqi%2BbxEmi1X6TFDGegxfTPoA1hNnJBuBDJs8icp2CK8oQZA8wLSCw%2FVebyPjPnVprcy1k7Nnuwd9dl5OUc6B17gXEjyL2bF5g2W7ip52b%2F4QVXvSDA9%2FQC6BrQ8kEQgjBHC3PAoBiOl7kwyBf84RwEebfpHKi85gM5cdRxV%2Bjamn8QAvNMBDY08esfGNpc9Mh6RXcLDJ4xMOCF3GHkeVJo5RILTH1BLyEnnGLzMRIp1G%2FLM7bOM77Tphnjodg4NIMMsOWbviKr5dEbgTD4CAbo5yaz2AgSn2%2BKRmWz68t%2FC9y8%2FB%2BJ51zjQcrdeE4B30yAOY0tHjSyGDU%2B%2BOy5v%2FWbzq6QWGBwB%2BDMxJcZwcJwmtXiKk4PT8eDQS8NFusklT6UZOazG4gxjZ9IGpbvnDRGHCPwuDqnuaajLf%2FNOO1R81sX%2FVxvMQX01nGu3LiKVPrV3i35XSI7RPrbLEYveLPIrs7BGpFdnMJbosAzZcyfkmMKbat84G6YGvq5zCGdWHSAfQGTawR4yU5GANFt5NCGFLpcztcxRD%2BOIa9Wr%2FAV%2B%2FPVq5Iw%2Bh8%3D\"><img src=\"imgs/01-02-workflow.png\" style=\"height:600px\"></img></a>"
   ]
  }
 ],
 "metadata": {
  "celltoolbar": "幻灯片",
  "kernelspec": {
   "display_name": "Python 3",
   "language": "python",
   "name": "python3"
  },
  "language_info": {
   "codemirror_mode": {
    "name": "ipython",
    "version": 3
   },
   "file_extension": ".py",
   "mimetype": "text/x-python",
   "name": "python",
   "nbconvert_exporter": "python",
   "pygments_lexer": "ipython3",
   "version": "3.6.5"
  },
  "rise": {
   "enable_chalkboard": true,
   "footer": "<h1><i class='logo-icon fa fa-cube'></i></h1>",
   "header": "<a href='https://www.mlln.cn/' target='_blank'><h1 style='font-size:100;position: fixed;right: 0;padding: 20px;'><i class='logo-icon fa fa-cube'></i>DataSense<sub style='text-transform: lowercase;'>mlln.cn</sub></h1></a>",
   "height": "80%",
   "scroll": true,
   "theme": "black",
   "transition": "zoom",
   "width": "80%"
  }
 },
 "nbformat": 4,
 "nbformat_minor": 2
}
