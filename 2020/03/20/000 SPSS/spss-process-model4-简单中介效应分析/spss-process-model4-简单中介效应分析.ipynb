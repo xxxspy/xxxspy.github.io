{
 "cells": [
  {
   "cell_type": "markdown",
   "metadata": {},
   "source": [
    "---\n",
    "\n",
    "title: spss process model4 简单中介效应分析(视频教程)\n",
    "date: 2020-03-20 12:44:03\n",
    "tags: [SPSS, 中介效应]\n",
    "\n",
    "---\n",
    "\n",
    "\n",
    "Process是spss中处理中介和调节模型的插件, 我们今天要讲一下process中的model4, 也就是最简单的中介模型, 视频教程已经放在文章末尾。\n",
    "\n",
    "\n",
    "\n",
    "<!--more-->"
   ]
  },
  {
   "cell_type": "markdown",
   "metadata": {},
   "source": [
    "这篇文章分享一下我如何使用Spss的Process插件做简单的中介效应。下面是中介效应的模型图,\n",
    "X代表自变量, M代表中介变量, Y代表因变量。\n",
    "\n",
    "<img src=\"images/model4.png\" class=\"img-thumbnail\">"
   ]
  },
  {
   "cell_type": "markdown",
   "metadata": {},
   "source": [
    "我们要研究的内容是\"个人努力\"在\"工作要求\"和\"工作投入\"之间的中介效应, 也就是下面的模型图:\n",
    "\n",
    "<img src=\"images/model4-theory.png\">"
   ]
  },
  {
   "cell_type": "markdown",
   "metadata": {},
   "source": [
    "在spss中的菜单:\n",
    "\n",
    "<img src=\"images/process-menue.png\">"
   ]
  },
  {
   "attachments": {},
   "cell_type": "markdown",
   "metadata": {},
   "source": [
    "具体的配置为:\n",
    "\n",
    "<img src=\"images/model4-setups.png\">"
   ]
  },
  {
   "cell_type": "markdown",
   "metadata": {},
   "source": [
    "结果输出:\n",
    "\n",
    "<img src=\"images/model4-outcome.png\">\n"
   ]
  }
 ],
 "metadata": {
  "kernelspec": {
   "display_name": "Python 3",
   "language": "python",
   "name": "python3"
  },
  "language_info": {
   "codemirror_mode": {
    "name": "ipython",
    "version": 3
   },
   "file_extension": ".py",
   "mimetype": "text/x-python",
   "name": "python",
   "nbconvert_exporter": "python",
   "pygments_lexer": "ipython3",
   "version": "3.6.5"
  }
 },
 "nbformat": 4,
 "nbformat_minor": 2
}
