{
 "cells": [
  {
   "cell_type": "markdown",
   "metadata": {},
   "source": [
    "---\n",
    "\n",
    "title: SPSS1元线性回归分析(视频教程)\n",
    "date: 2021-07-08 10:44:03\n",
    "tags: [SPSS, 回归]\n",
    "mathjax: true\n",
    "\n",
    "---\n",
    "\n",
    "\n",
    "\n",
    "我们这个系列的教程目的就是让只有高中数学知识的童靴能够正确而有效率的完成论文的数据分析, 因此我们并不关注过深的统计知识, 基于此, 我们可以如此理解回归分析:\n",
    "\n",
    "有一个理论的模型方程: $Y = b_0 + b_1 X + \\epsilon$, 这里的X和Y是我们关心的自变量和因变量, 我们的目的是求方程中的参数$b_1和b_0$, 知道了这些参数, 我们就可以由X的值计算Y的值, 比如X代表每天坐姿的持续时间(分钟), Y代表体重, 通过回归分析我们就可以知道坐姿时间是否影响人的体重。\n",
    "\n",
    "\n",
    "\n",
    "<!--more-->"
   ]
  },
  {
   "cell_type": "markdown",
   "metadata": {},
   "source": [
    "### 前提条件\n",
    "\n",
    "\n",
    "- 自变量和因变量都是连续型变量(或者自变量可以定义为连续)\n",
    "- 自变量和因变量之间有线性关系(散点图或者相关分析)\n",
    "- 具有相互独立的观测值(Durbin-Watson)\n",
    "- 没有异常值(Casewise Diagnostics)\n",
    "- 等方差性(残差与回归拟合值或标准化残差与标准化预测值之间的散点图)\n",
    "- 回归残差近似正态分布(直方图)\n",
    "\n",
    "这些前提条件满足才可以做回归分析, 但是我们实际上不需要一项一项进行检查, 很多检测项目会在spss进行回归分析的时候输出。\n",
    "\n",
    "我们会在视频里详细介绍这些条件是否有必要检测。"
   ]
  },
  {
   "cell_type": "markdown",
   "metadata": {},
   "source": [
    "### 数据介绍\n",
    "\n",
    "我们调查了三百多人的体重和坐姿时间的数据, 研究目的是考察坐姿时间是否对体重有影响, 采集到的数据是这样的:\n",
    "\n",
    "<img src=\"imgs/19-1.jpg\">"
   ]
  },
  {
   "cell_type": "markdown",
   "metadata": {},
   "source": [
    "### 相关和散点图\n",
    "\n",
    "在做回归之前, 有必要进行相关分析和做散点图, 主要目的就是对数据的总体情况有一个大概的了解。\n",
    "\n",
    "- 首先打开相关的对话框\n",
    "\n",
    "<img src=\"imgs/19-1-spss.png\">"
   ]
  },
  {
   "cell_type": "markdown",
   "metadata": {},
   "source": [
    "- 选择有关的变量\n",
    "\n",
    "<img src=\"imgs/19-2-spss.png\">"
   ]
  },
  {
   "cell_type": "markdown",
   "metadata": {},
   "source": [
    "- 结果解读(我们会在视频中进行一个讲解)\n",
    "\n",
    "<img src=\"imgs/19-3-spss.png\">"
   ]
  },
  {
   "cell_type": "markdown",
   "metadata": {},
   "source": [
    "### 回归分析\n",
    "\n",
    "#### 操作步骤\n",
    "\n",
    "- 打开线性回归的对话框\n",
    "\n",
    "<img src=\"imgs/19-4-spss.png\">"
   ]
  },
  {
   "cell_type": "markdown",
   "metadata": {},
   "source": [
    "- 设置自变量和因变量\n",
    "\n",
    "<img src=\"imgs/19-5-spss.png\">"
   ]
  },
  {
   "cell_type": "markdown",
   "metadata": {},
   "source": [
    "- 打开\"统计\"对话框, 按照下图所示勾选选项,\n",
    "\n",
    "    - 杜宾-沃森: 为了检验观测值之间是否相互独立\n",
    "    - 个案诊断: 检测异常值\n",
    "\n",
    "<img src=\"imgs/19-6-spss.png\">"
   ]
  },
  {
   "cell_type": "markdown",
   "metadata": {},
   "source": [
    "- 打开\"图\"设置框, 设置X轴为\"ZPRED\"(标准化预测值), 设置Y轴为\"ZRESID\"(标准化残差)\n",
    "\n",
    "<img src=\"imgs/19-7-spss.png\">"
   ]
  },
  {
   "cell_type": "markdown",
   "metadata": {},
   "source": [
    "- 点击\"确定\"开始你的分析\n",
    "\n",
    "<img src=\"imgs/19-8-spss.png\">"
   ]
  },
  {
   "cell_type": "markdown",
   "metadata": {},
   "source": [
    "#### 结果解读\n",
    "\n",
    "首先是要看\"个案诊断\", 很多童鞋没有输出这个表格, 因为你的数据没有诊断出问题, 而我用的数据也没有诊断出问题(标准残差超过3), \n",
    "所以我设置的时候, 设置超过2就算异常(仅仅是为了输出这个图, 图中所有标准残差绝对值没有超过3。这个结果会在视频教程里详细介绍。\n",
    "\n",
    "<img src=\"imgs/19-9-case.png\">"
   ]
  },
  {
   "cell_type": "markdown",
   "metadata": {},
   "source": [
    "然后, 查看残差的直方图, 直方图应该大概符合正太分布, 没有必要进行严格的正态性检验, 只要大致看起来中间高两边低就可以了\n",
    "<img src=\"imgs/19-10-residual.png\">"
   ]
  },
  {
   "cell_type": "markdown",
   "metadata": {},
   "source": [
    "\"等方差性\"就是不同的Y值的情况下, 残差的方差没有差异, 可以通过散点图的方式来考察, 之前作图的步骤就是为了输出这个散点图, 我们会在视频教程里详细解读这个图:\n",
    "\n",
    "<img src=\"imgs/19-9-scatter.png\">"
   ]
  },
  {
   "cell_type": "markdown",
   "metadata": {},
   "source": [
    "接下来就进入真正的回归分析了, 首先要看模型的\"模型摘要\"表格。\n",
    "\n",
    "首先要看杜宾沃森检验, 该统计量位于0-4之间, 实际值越接近2, 说明样本之间的独立性越好, 我们这个值是2.088, 非常接近2, 所以前提条件中\"具有相互独立的观测值\"是成立的。\n",
    "\n",
    "在\"模型摘要\"表格中, 最重要的指标就是R, 它代表着预测的准确性, 也就是当你知道自变量x的值的时候, 根据回归模型$Y = b_0 + b_1 X + \\epsilon$可以计算得到$Y$的值, 这个值叫做$\\hat Y$, 这个预测值与Y的实际值之间的相关系数就是R, 而$R^2$就是R的平方, 在回归分析中$R^2$代表了自变量对因变量的解释率, 解释率越接近100%, 说明模型的拟合越好, 但不管这个值的大小是多少, 都不能下结论说自变量对因变量有没有影响, 关键要看回归模型的ANOVA检验以及回归系数的显著性检验。\n",
    "\n",
    "<img src=\"imgs/19-11-model.png\">\n"
   ]
  },
  {
   "cell_type": "markdown",
   "metadata": {},
   "source": [
    "在ANOVA分析中, 很多童鞋会质疑\"为什么回归分析中有方差分析的结果\", 在这里我再次强调, 回归分析中用到了F检验去检测模型是否有统计学意义, 在F检验显著的情况下, 才需要去查看回归系数显著性检验表。 另外再说下, 方差分析其实是特殊的回归分析。\n",
    "\n",
    "<img src=\"imgs/19-11-anova.png\">"
   ]
  },
  {
   "cell_type": "markdown",
   "metadata": {},
   "source": [
    "最后, 也是最重要的结果就是回归系数表, 这里每个系数使用t检验的方法来检测该系数是否显著不等于0, 如果显著性小于0.05, 可以认为系数显著不等于0。 回归我们的方程式:$Y = b_0 + b_1 X + \\epsilon$, 根据下表的结果, 我们可以轻易得到各个参数的值, 如下:\n",
    "\n",
    "- 截距: $b_0=48$\n",
    "- 回归系数: $b_1=2$\n",
    "\n",
    "根据参数值, 我们可以写出回归方程是: $Y = 48 + 2 X + \\epsilon$, 注意方程中还带有参数$\\epsilon$, 它代表一个随机数, 意味着我们的回归方程很难准确预测Y, 总有一定的误差。\n",
    "\n",
    "<img src=\"imgs/19-11-coeff.png\">"
   ]
  },
  {
   "cell_type": "markdown",
   "metadata": {},
   "source": [
    "### 结果汇报\n",
    "\n",
    "回归方程的ANOVA检验显示F(1,301) = 19.3, P<.001，结果显著，说明至少有一个自变量对因变量具有预测作用，具体哪些变量有预测作用，需要看具体的系数显著性检验。坐姿时间的标准化系数为0.245(t=4.388, P<.001), 系数显著，且因为系数大于0，所以坐姿时间正向影响体重的大小。总之，变量坐姿时间的变化会显著影响体重的变化。\n",
    "\n",
    "<img src=\"imgs/19-11-result.png\">"
   ]
  }
 ],
 "metadata": {
  "kernelspec": {
   "display_name": "Python 3",
   "language": "python",
   "name": "python3"
  },
  "language_info": {
   "codemirror_mode": {
    "name": "ipython",
    "version": 3
   },
   "file_extension": ".py",
   "mimetype": "text/x-python",
   "name": "python",
   "nbconvert_exporter": "python",
   "pygments_lexer": "ipython3",
   "version": "3.6.5"
  }
 },
 "nbformat": 4,
 "nbformat_minor": 2
}
