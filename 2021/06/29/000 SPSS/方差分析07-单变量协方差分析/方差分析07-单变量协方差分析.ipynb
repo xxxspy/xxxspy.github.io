{
 "cells": [
  {
   "cell_type": "markdown",
   "metadata": {},
   "source": [
    "- 微博: mlln-cn\n",
    "- B站: mlln-cn\n",
    "- 网站: mlln.cn"
   ]
  },
  {
   "cell_type": "markdown",
   "metadata": {},
   "source": [
    "### 案例介绍\n",
    "\n",
    "我们想知道运动对改善抑郁有没有作用, 所以我们召集了140人, 他们都是略微有一些抑郁倾向的, 但是没有达到抑郁症的程度, 我们将他们随机分为三组:不运动/中等强度运动/高强度运动。 这三组人在我们干预之前先评估自己的抑郁倾向, 然后按照我们的分组进行不同的干预活动, 之后再判断自己的抑郁倾向, 所以我们得到的数据就是这样的:\n",
    "\n",
    "<img src=\"imgs/18-01-spss.png\">"
   ]
  },
  {
   "cell_type": "markdown",
   "metadata": {},
   "source": [
    "现在我们就分析一下, 干预对抑郁有影响吗? 我们首先想到的是三个分析: \n",
    "\n",
    "- 判断分组误差: 以干预前抑郁为因变量, 干预组为自变量, 进行单因素方差分析, 如果差异不显著, 说明我们分组前没有差异\n",
    "- 以干预后抑郁为因变量, 干预组为自变量, 进行单因素方差分析, 如果干预前无差异, 干预后有差异, 说明干预起作用了\n",
    "- 以干预后抑郁为因变量, 干预组为自变量, 同时以干预前抑郁作为协变量, 进行单因素方差分析\n",
    "\n",
    "由于这篇文章重点介绍协方差分析, 所以不对前两步进行图文介绍, 在视频里会讲。"
   ]
  },
  {
   "cell_type": "markdown",
   "metadata": {},
   "source": [
    "总之我们第一步的结果是: 干预前, 没有组间差异\n",
    "\n",
    "<img src=\"imgs/18-02-spss.png\">"
   ]
  },
  {
   "cell_type": "markdown",
   "metadata": {},
   "source": [
    "第二步, 干预后没有组间差异\n",
    "\n",
    "<img src=\"imgs/18-03-spss.png\">"
   ]
  },
  {
   "cell_type": "markdown",
   "metadata": {},
   "source": [
    "第三步, 协方差分析, 结果显著\n",
    "\n",
    "<img src=\"imgs/18-04-spss.png\">"
   ]
  },
  {
   "cell_type": "markdown",
   "metadata": {},
   "source": [
    "### 前提假设\n",
    "\n",
    "- 因变量/协变量是连续变量\n",
    "- 自变量存在2个或多个分组\n",
    "- 被试相互独立\n",
    "- 协变量和因变量之间存在线性关系\n",
    "- 各组间协变量和因变量的回归直线平行\n",
    "- 各组内因变量的残差近似服从正态分布\n",
    "- 各组内/各组间因变量的残差具有等方差性\n",
    "- 因变量没有显著异常值"
   ]
  },
  {
   "cell_type": "markdown",
   "metadata": {},
   "source": [
    "### SPSS操作\n",
    "\n",
    "<img src=\"imgs/18-05-spss.png\">"
   ]
  },
  {
   "cell_type": "markdown",
   "metadata": {},
   "source": [
    "以\"干预后抑郁\"为因变量, 固定因子设置为\"干预组\", 协变量是\"干预前抑郁\"\n",
    "\n",
    "<img src=\"imgs/18-06-spss.png\">"
   ]
  },
  {
   "cell_type": "markdown",
   "metadata": {},
   "source": [
    "因为在默认情况下, 模型中不会包含协变量与固定因子的交互项, 但是我们为了检验前提假设\"各组间协变量和因变量的回归直线平行\", 也就是自变量与协变量没有交互作用, 所以需要增加协变量与固定因子的交互项\n",
    "<img src=\"imgs/18-07-spss.png\">"
   ]
  },
  {
   "cell_type": "markdown",
   "metadata": {},
   "source": [
    "在\"选项\"对话框中, 我们需要勾选\"描述统计\"/\"齐性检验\"和\"效应量估算\"\n",
    "<img src=\"imgs/18-08-spss.png\">"
   ]
  },
  {
   "cell_type": "markdown",
   "metadata": {},
   "source": [
    "### 结果解读\n",
    "\n",
    "首先看方差齐性检验, 由于不显著, 所以满足方差齐性假设。\n",
    "\n",
    "<img src=\"imgs/18-09-spss.png\">"
   ]
  },
  {
   "cell_type": "markdown",
   "metadata": {},
   "source": [
    "其次要看交互项是否显著, 显然我们可以看到这是不显著的, 因而自变量\"干预组\"与协变量\"前抑郁\"是不存在交互作用的, 也就是说在前抑郁不同水平上, 不同干预组的效用相同, 假如交互项显著的话, 就会导致不满足前提假设\"各组间协变量和因变量的回归直线平行\", 所以我们需要使用其他统计方法\n",
    "\n",
    "<img src=\"imgs/18-10-spss.png\">"
   ]
  },
  {
   "cell_type": "markdown",
   "metadata": {},
   "source": [
    "### 数据处理\n",
    "\n",
    "因为我们的研究目的是研究干预对抑郁的影响, 所以我们可以构建一个变量\"差值\", 代表干预前后抑郁倾向的差值, 差值为正说明干预对抑郁由减轻作用。\n",
    "\n",
    "<img src=\"imgs/18-11-spss.png\">"
   ]
  },
  {
   "cell_type": "markdown",
   "metadata": {},
   "source": [
    "但是考虑到, \"前抑郁\"的不同水平可能会影响干预效果, 所以我们还得考虑\"前抑郁\"对结果的影响, 但是\"协方差分析\"的方法已经无法继续做, 那么我们可以讲\"前抑郁\"分为高低分组, 然后将其设置为\"固定因子\", 进行两因素方差分析\n",
    "\n",
    "<img src=\"imgs/18-12-spss.png\">"
   ]
  },
  {
   "cell_type": "markdown",
   "metadata": {},
   "source": [
    "### 两因素方差分析\n",
    "\n",
    "以\"差值\"为因变量, 以\"干预组\"和\"抑郁组\"为固定因子\n",
    "\n",
    "<img src=\"imgs/18-16-spss.png\">"
   ]
  },
  {
   "cell_type": "markdown",
   "metadata": {},
   "source": [
    "我们需要绘制一个折线图来显示交互效应\n",
    "\n",
    "<img src=\"imgs/18-13-spss.png\">"
   ]
  },
  {
   "cell_type": "markdown",
   "metadata": {},
   "source": [
    "最后, 我们需要编辑代码来实现简单的事后两两比较\n",
    "\n",
    "<img src=\"imgs/18-17-spss.png\">"
   ]
  },
  {
   "cell_type": "markdown",
   "metadata": {},
   "source": [
    "### 结果解读\n",
    "\n",
    "我们忽略了对一些假设的检验, 因为在之前的文章中已经详细讲过两因素的方差分析, 因此现在我们就简单来看, 直接看主效应的检验:\n",
    "\n",
    "结果显示干预组的主效应显著, 干预组和抑郁组的交互效应显著\n",
    "\n",
    "<img src=\"imgs/18-18-spss.png\">"
   ]
  },
  {
   "cell_type": "markdown",
   "metadata": {},
   "source": [
    "在成对比较中, 我们可以看到, 在抑郁低分组中, 干预组的不同水平并不影响差值(p>0.05), 而在高分组中, \"强运动\"与\"无运动\"和\"中等运动\"的相比, 干预前后的抑郁差值差别显著, \"强运动组\"对抑郁的影响更强, 更能降低抑郁倾向。\n",
    "\n",
    "<img src=\"imgs/18-14-spss.png\">"
   ]
  },
  {
   "cell_type": "markdown",
   "metadata": {},
   "source": [
    "从图中来看, 交互效应的效果更直观\n",
    "<img src=\"imgs/18-15-spss.png\">"
   ]
  }
 ],
 "metadata": {
  "kernelspec": {
   "display_name": "Python 3",
   "language": "python",
   "name": "python3"
  },
  "language_info": {
   "codemirror_mode": {
    "name": "ipython",
    "version": 3
   },
   "file_extension": ".py",
   "mimetype": "text/x-python",
   "name": "python",
   "nbconvert_exporter": "python",
   "pygments_lexer": "ipython3",
   "version": "3.6.5"
  }
 },
 "nbformat": 4,
 "nbformat_minor": 2
}
