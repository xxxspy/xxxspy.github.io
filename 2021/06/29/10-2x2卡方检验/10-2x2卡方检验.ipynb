{
 "cells": [
  {
   "cell_type": "markdown",
   "metadata": {},
   "source": [
    "### 卡方检验\n",
    "\n",
    "卡方检验用于考察两个分类变量之间关系的统计方法, 而2X2的卡方检验就是两个变量的分类都是二分类, 这是最简单的一种卡方检验。\n",
    "\n",
    "举例来说, 我想知道男生和女生对某个电影的观看有没有差异, 换句话说, 我有两个变量, 性别和是否观看过某个电影, 我想知道两个变量是否存在关联, 是不是男生看的更多? 男生看过该电影的比率是不是显著高于女生看过该电影的比率?\n",
    "\n",
    "这个时候就需要用卡方检验了。"
   ]
  },
  {
   "cell_type": "markdown",
   "metadata": {},
   "source": [
    "### 前提\n",
    "\n",
    "- 都是二分类(不用检验\n",
    "- 相互独立的观测值\n",
    "- 样本量足够大，最小分组的样本量大于5。"
   ]
  },
  {
   "cell_type": "markdown",
   "metadata": {},
   "source": [
    "### 数据格式\n",
    "\n",
    "<img src=\"imgs/10-01-data.png\">"
   ]
  },
  {
   "cell_type": "markdown",
   "metadata": {},
   "source": [
    "<img src=\"imgs/10-02-data.png\">"
   ]
  },
  {
   "cell_type": "markdown",
   "metadata": {},
   "source": [
    "### SPSS操作\n",
    "\n",
    "<img src=\"imgs/10-03-spss.png\">"
   ]
  },
  {
   "cell_type": "markdown",
   "metadata": {},
   "source": [
    "分别把\"性别\"和\"是否看过\"这两个变量放到行和列里, 然后点击\"统计\", 打开的对话框中一定要勾选\"卡方\"\n",
    "\n",
    "<img src=\"imgs/10-04-spss.png\">"
   ]
  },
  {
   "cell_type": "markdown",
   "metadata": {},
   "source": [
    "打开\"单元格\"对话框, 勾选\"列\"百分比, 这样就可以看到每个单元格内的计数占列总数的白粉不:\n",
    "<img src=\"imgs/10-05.5-spss.png\">"
   ]
  },
  {
   "cell_type": "markdown",
   "metadata": {},
   "source": [
    "点击\"确定\"开始计算:\n",
    "\n",
    "<img src=\"imgs/10-05-spss.png\">"
   ]
  },
  {
   "cell_type": "markdown",
   "metadata": {},
   "source": [
    "### 结果解读\n",
    "\n",
    "我们先看交叉表, 我们可以看到每个单元格的频数, 频数最低的是没有看过该电影的男生, 只有7人, 而且7大于最低标准5, 所以我们可以使用皮尔逊卡方检验的结果。如果我们的某一个小组内的频数低于5, 那么我们就只能使用费希尔精确检验的结果。\n",
    "\n",
    "<img src=\"imgs/10-06-result.png\">"
   ]
  },
  {
   "cell_type": "markdown",
   "metadata": {},
   "source": [
    "因为我们每一个小组内的频数都大于5, 所以我们看第一行结果即可: 皮尔逊卡方, 结果显著, 说明不同性别观看该电影的比率的确有差异, 或者你也可以这么说: 是否观看该电影与观众的性别有关系, 男生观看的比例更高。\n",
    "\n",
    "<img src=\"imgs/10-07-result.png\">"
   ]
  },
  {
   "cell_type": "markdown",
   "metadata": {},
   "source": [
    "### 汇报结果\n",
    "\n",
    "在看过该电影的人群中, 男生占60.3%, 而在没有看过该电影的人群中, 男生占比仅为18.9%, 卡方检验结果比率的差异显著($\\lambda^2 = 16.5, df=1, p<0.001$), 因而可以得出结论: 是否观看该电影与观众的性别有关系, 男生观看的比例更高。\n",
    "\n",
    "<img src=\"imgs/10-08-result.png\">"
   ]
  }
 ],
 "metadata": {
  "kernelspec": {
   "display_name": "Python 3",
   "language": "python",
   "name": "python3"
  },
  "language_info": {
   "codemirror_mode": {
    "name": "ipython",
    "version": 3
   },
   "file_extension": ".py",
   "mimetype": "text/x-python",
   "name": "python",
   "nbconvert_exporter": "python",
   "pygments_lexer": "ipython3",
   "version": "3.6.5"
  }
 },
 "nbformat": 4,
 "nbformat_minor": 2
}
