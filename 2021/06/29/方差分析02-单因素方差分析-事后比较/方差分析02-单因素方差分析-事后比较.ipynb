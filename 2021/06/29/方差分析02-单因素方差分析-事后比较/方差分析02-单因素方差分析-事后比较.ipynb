{
 "cells": [
  {
   "cell_type": "markdown",
   "metadata": {},
   "source": [
    "### 单因素方差分析\n",
    "\n",
    "因为在前面的文章中已经详细介绍了\"单因素方差\"的分析方法和具体操作步骤, 这里就不多嘴了, 直接进入事后多重比较的内容了。"
   ]
  },
  {
   "cell_type": "markdown",
   "metadata": {},
   "source": [
    "### 案例介绍\n",
    "\n",
    "我们调查了147人影响旅游景点的因素,其中两个因素\"文化安全\"和\"休闲娱乐\", 我们想知道不同年龄的人, 对\"文化安全\"和\"休闲娱乐\"的需求有没有差异, 因此需要进行单因素方差分析。 "
   ]
  },
  {
   "cell_type": "markdown",
   "metadata": {},
   "source": [
    "### SPSS操作\n",
    "<img src=\"imgs/13-00-spss.png\">\n"
   ]
  },
  {
   "cell_type": "markdown",
   "metadata": {},
   "source": [
    "假如方差齐性假设满足, 我们一般使用LSD作为事后检验的方法, 如果方差不齐, 可以使用Games-Howell方法:\n",
    "\n",
    "<img src=\"imgs/13-01-spss.png\">"
   ]
  },
  {
   "cell_type": "markdown",
   "metadata": {},
   "source": [
    "### 结果解读\n",
    "\n",
    "组间方差不齐的变量是休闲娱乐，方差齐的变量是文化安全。\n",
    "因此\"休闲娱乐\"就不能使用LSD作为事后检验的方法了, 可以使用\"Games-Howell\"\n",
    "\n",
    "<img src=\"imgs/13-02-spss.png\">"
   ]
  },
  {
   "cell_type": "markdown",
   "metadata": {},
   "source": [
    "我们可以看到, 两个变量的方差分析结果都显著, 需要进一步进行事后比较\n",
    "\n",
    "<img src=\"imgs/13-03-spss.png\">"
   ]
  },
  {
   "cell_type": "markdown",
   "metadata": {},
   "source": [
    "方差不齐时看下面这个表格, \"休闲娱乐\"这个变量也是显著的\n",
    "\n",
    "<img src=\"imgs/13-04-spss.png\">"
   ]
  },
  {
   "cell_type": "markdown",
   "metadata": {},
   "source": [
    "由于\"文化和娱乐\"这个变量满足方差齐性假设, 因此在事后比较的时候, 可以看LSD方法, 我哦们可以看到, 16-19岁年龄组的文化安全需求显著高于\"30-39岁\"年龄组, 与其他组差异并不显著; 而\"30-39岁\"年龄组又显著低于\"40-49岁\"年龄组。\n",
    "\n",
    "<img src=\"imgs/13-05-spss.png\">"
   ]
  },
  {
   "cell_type": "markdown",
   "metadata": {},
   "source": [
    "由于\"休闲娱乐\"变量组间方差不齐, 在事后比较的时候使用\"Games-Howell\"方法, 从结果中可以看到 16-19岁年龄组的休闲娱乐的需求显著高于其他三个年龄组, 其他三个年龄组之间没有显著差异。\n",
    "<img src=\"imgs/13-06-spss.png\">"
   ]
  }
 ],
 "metadata": {
  "kernelspec": {
   "display_name": "Python 3",
   "language": "python",
   "name": "python3"
  },
  "language_info": {
   "codemirror_mode": {
    "name": "ipython",
    "version": 3
   },
   "file_extension": ".py",
   "mimetype": "text/x-python",
   "name": "python",
   "nbconvert_exporter": "python",
   "pygments_lexer": "ipython3",
   "version": "3.6.5"
  }
 },
 "nbformat": 4,
 "nbformat_minor": 2
}
