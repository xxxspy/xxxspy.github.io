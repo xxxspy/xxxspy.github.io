{
 "cells": [
  {
   "cell_type": "markdown",
   "metadata": {},
   "source": [
    "### 前提假设\n",
    "\n",
    "- 因变量为连续变量\n",
    "- 自变量为分类变量\n",
    "- 观测值相互独立\n",
    "- 没有明显异常值\n",
    "- 近似正态分布或样本量足够大\n",
    "- 观察每组的方差没有显著差异"
   ]
  },
  {
   "cell_type": "markdown",
   "metadata": {},
   "source": [
    "### 案例介绍\n",
    "\n",
    "我们调查了147人关于是否观看电影受名人效应的影响有多大, 名人效应分为男名人效应和女名人效应, 我们现在想知道, 男名人效应和女名人效应是否有性别差异, 因此可以以性别为自变量, 分别以男名人效应和女名人效应为因变量进行单因素方差分析。"
   ]
  },
  {
   "cell_type": "markdown",
   "metadata": {},
   "source": [
    "### SPSS操作\n",
    "\n",
    "依次展开菜单:分析-->比较均值-->单因素ANOVA\n",
    "\n",
    "<img src=\"imgs/12-01-spss.png\">"
   ]
  },
  {
   "cell_type": "markdown",
   "metadata": {},
   "source": [
    "我们可以同时分析几个因变量, 所以把\"男名人效应\"和\"女名人效应\"都放到因变量列表里, 然后设置\"性别\"为因子\n",
    "\n",
    "<img src=\"imgs/12-02-spss.png\">"
   ]
  },
  {
   "cell_type": "markdown",
   "metadata": {},
   "source": [
    "在\"选项\"对话框, 我们需要勾选\"描述\", \"方差齐性检验\", \"韦尔奇\"。\n",
    "<img src=\"imgs/12-03-spss.png\">"
   ]
  },
  {
   "cell_type": "markdown",
   "metadata": {},
   "source": [
    "### 结果解读\n",
    "\n",
    "描述统计表\n",
    "\n",
    "<img src=\"imgs/12-04-spss.png\">"
   ]
  },
  {
   "cell_type": "markdown",
   "metadata": {},
   "source": [
    "方差齐性检验\n",
    "\n",
    "因为我们不太清楚因变量的分布形状, 所以稳健的方法就是参考基于中位数的方法。\n",
    "\n",
    "方差不齐的变量是女名人效应，满足方差齐性的变量是男名人效应。方差不齐的变量(女名人效应)的方差分析结果不可靠，因此应该采用Welch检验的结果。\n",
    "\n",
    "<img src=\"imgs/12-05-spss.png\">"
   ]
  },
  {
   "cell_type": "markdown",
   "metadata": {},
   "source": [
    "方差分析结果\n",
    "\n",
    "<img src=\"imgs/12-06-spss.png\">"
   ]
  },
  {
   "cell_type": "markdown",
   "metadata": {},
   "source": [
    "方差不齐时采纳Welch方法:\n",
    "\n",
    "<img src=\"imgs/12-07-spss.png\">"
   ]
  },
  {
   "cell_type": "markdown",
   "metadata": {},
   "source": [
    "### 结果汇报\n",
    "\n",
    "方差显著的变量是男名人效应、女名人效应, 统计量为 F(1,146) = 5.62, p<.05、Welch F(1,145) = 25.1, P<.001，说明性别不同可以显著影响男名人效应、女名人效应的值，具体来说，对于变量男名人效应，女生的的男名人效应均值高于男生的均值0.375。对于变量女名人效应，男生的的女名人效应均值高于女生的均值0.644。\n",
    "\n",
    "<img src=\"imgs/12-08-spss.png\">"
   ]
  },
  {
   "cell_type": "markdown",
   "metadata": {},
   "source": [
    "### 附录:方差齐性检验看哪个结果\n",
    "\n",
    "\n",
    "\n",
    "- 对于偏斜的分布，或者如果您不确定分布的基本形状，则中位数可能是您的最佳选择。\n",
    "- 对于对称和中尾分布，请使用均值。"
   ]
  },
  {
   "cell_type": "markdown",
   "metadata": {},
   "source": [
    "### 参考文献\n",
    "\n",
    "- Brown, M. B. and Forsythe, Robust Tests for the Equality of Variances. A. B. (1974), Journal of the American Statistical Association, 69, pp. 364-367."
   ]
  }
 ],
 "metadata": {
  "kernelspec": {
   "display_name": "Python 3",
   "language": "python",
   "name": "python3"
  },
  "language_info": {
   "codemirror_mode": {
    "name": "ipython",
    "version": 3
   },
   "file_extension": ".py",
   "mimetype": "text/x-python",
   "name": "python",
   "nbconvert_exporter": "python",
   "pygments_lexer": "ipython3",
   "version": "3.6.5"
  }
 },
 "nbformat": 4,
 "nbformat_minor": 2
}
