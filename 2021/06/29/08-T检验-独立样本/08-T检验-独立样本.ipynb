{
 "cells": [
  {
   "cell_type": "markdown",
   "metadata": {},
   "source": [
    "### T检验种类\n",
    "\n",
    "- **单样本T检验: 样本均值与某个已知均值进行比较**\n",
    "\n",
    "比如, 满意度评价中, 5分为满分, 3分为及格, 我们收集了n个人的满意度, 然后我们想要知道这n个人平均满意度是否显著高于3分\n",
    "\n",
    "- **独立样本T检验: 两个样本均值是否有差异**\n",
    "\n",
    "比如, 比较男生的评分与女生的评分均值是否有显著差异\n",
    "\n",
    "- **配对样本T检验: 两个配对样本的均值是否有差异**\n",
    "\n",
    "比如, N个人在两个评价指标上的均值有没有差异"
   ]
  },
  {
   "cell_type": "markdown",
   "metadata": {},
   "source": [
    "### 独立样本T检验\n",
    "\n",
    "#### 案例介绍\n",
    "\n",
    "我调研了一百多个人对某个品牌情感态度, 男女大概一半一半, 我现在就想考察一下品牌感情有没有性别差异, 所以需要使用独立样本T检验。"
   ]
  },
  {
   "cell_type": "markdown",
   "metadata": {},
   "source": [
    "#### 前提\n",
    "\n",
    "- 连续变量和分类变量(有两个分类)\n",
    "- 观测值之间相互独立\n",
    "- 没有异常值\n",
    "- 各组内接近正态分布(或样本量较大)\n",
    "- 两组的观测变量的方差相等"
   ]
  },
  {
   "cell_type": "markdown",
   "metadata": {},
   "source": [
    "#### 直方图\n",
    "\n",
    "\n",
    "<img src=\"imgs/08-01-hist.png\">"
   ]
  },
  {
   "cell_type": "markdown",
   "metadata": {},
   "source": [
    "#### SPSS操作\n",
    "\n",
    "<img src=\"imgs/08-02-spss.png\">\n"
   ]
  },
  {
   "cell_type": "markdown",
   "metadata": {},
   "source": [
    "<img src=\"imgs/08-03-spss.png\">"
   ]
  },
  {
   "cell_type": "markdown",
   "metadata": {},
   "source": [
    "#### 结果解读\n",
    "\n",
    "<img src=\"imgs/08-04-spss.png\">"
   ]
  },
  {
   "cell_type": "markdown",
   "metadata": {},
   "source": [
    "- 首先要看方差齐性假设是否满足, 看莱文方差等同性检验, 显著性大于0.05, 我们可以认为男女两组方差齐性。\n",
    "- 其次要看t检验, 直接看sig这一列, 我们可以看到不管是方差齐还是不齐的情况下, 都不显著。"
   ]
  },
  {
   "cell_type": "markdown",
   "metadata": {},
   "source": [
    "#### 计算效应量 Cohen's d\n",
    "\n",
    "\n",
    "$$\n",
    "d=(m_1-m_2)/s_p，s_p为联合方差。\n",
    "$$"
   ]
  },
  {
   "cell_type": "markdown",
   "metadata": {},
   "source": [
    "#### 汇报结果\n",
    "\n",
    "\n",
    "以性别为分组变量，对品牌情感进行独立样本T检验，满足方差齐性假设(F=0.465, P>0.05)，下表中，显著性主要查看的是sig这一列，sig<0.05认为达到显著性水平。具体来说： 品牌情感的T检验结果(t=-0.265,df=103,p>.05)显示均值差异不显著。\n",
    "\n",
    "<img src=\"imgs/08-05-spss.png\">"
   ]
  }
 ],
 "metadata": {
  "kernelspec": {
   "display_name": "Python 3",
   "language": "python",
   "name": "python3"
  },
  "language_info": {
   "codemirror_mode": {
    "name": "ipython",
    "version": 3
   },
   "file_extension": ".py",
   "mimetype": "text/x-python",
   "name": "python",
   "nbconvert_exporter": "python",
   "pygments_lexer": "ipython3",
   "version": "3.6.5"
  }
 },
 "nbformat": 4,
 "nbformat_minor": 2
}
