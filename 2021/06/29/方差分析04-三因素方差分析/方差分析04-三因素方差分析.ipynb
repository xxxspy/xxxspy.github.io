{
 "cells": [
  {
   "cell_type": "markdown",
   "metadata": {},
   "source": [
    "### 案例介绍\n",
    "\n",
    "我们调查了147位年轻人, 想了解一下多大程度上因为故事情节去看一个电影, 我们同时收集了被试的性别和情感状态(是否单身)以及是否爱读小说, 我们想知道, 不同性别和情感状态以及是否爱读小说的人, 电影的故事情节的吸引力有何差别? 所以我们需要使用双因素方差分析。\n",
    "\n",
    "### 结果预告\n",
    "\n",
    "这是一个2x2x2的三因素方差分析, 并且最终的结果显示\"是否爱读小说\"这个变量的主效应和交互效应都不显著, 所以可以在以后的分析中删除该变量。"
   ]
  },
  {
   "cell_type": "markdown",
   "metadata": {},
   "source": [
    "### SPSS操作\n",
    "\n",
    "<img src=\"imgs/15-01-spss.png\">"
   ]
  },
  {
   "cell_type": "markdown",
   "metadata": {},
   "source": [
    "<img src=\"imgs/15-02-spss.png\">"
   ]
  },
  {
   "cell_type": "markdown",
   "metadata": {},
   "source": [
    "<img src=\"imgs/15-03-spss.png\">"
   ]
  },
  {
   "cell_type": "markdown",
   "metadata": {},
   "source": [
    "### 结果解读\n",
    "\n",
    "我们可以先看显著性, 由于\"是否爱看小说\"这个变量的主效应不显著, 它与其他变量的交互作用也不显著, 因此我们没必要继续分析这个变量, 我们可以将这个变量删除, 再做两因素的方差分析, 也就是上一篇文章那样, 做完两因素方差分析以后, 再进行结果的汇报。\n",
    "\n",
    "<img src=\"imgs/15-04-spss.png\">"
   ]
  },
  {
   "cell_type": "markdown",
   "metadata": {},
   "source": [
    "从下面的折线图可以看出来, 是否爱看小说似乎没有影响, 意思是不管是哪个图, 线的趋势一样, \"性别\"和\"情感状态\"与\"故事情节\"的关系是一致的。\n",
    "\n",
    "<img src=\"imgs/15-05-spss.png\" width=\"50%\"> <img src=\"imgs/15-06-spss.png\" width=\"50%\">"
   ]
  },
  {
   "cell_type": "markdown",
   "metadata": {},
   "source": [
    "### 结果汇报\n",
    "\n",
    "参考\"两因素方差分析\"的结果汇报。"
   ]
  }
 ],
 "metadata": {
  "kernelspec": {
   "display_name": "Python 3",
   "language": "python",
   "name": "python3"
  },
  "language_info": {
   "codemirror_mode": {
    "name": "ipython",
    "version": 3
   },
   "file_extension": ".py",
   "mimetype": "text/x-python",
   "name": "python",
   "nbconvert_exporter": "python",
   "pygments_lexer": "ipython3",
   "version": "3.6.5"
  }
 },
 "nbformat": 4,
 "nbformat_minor": 2
}
