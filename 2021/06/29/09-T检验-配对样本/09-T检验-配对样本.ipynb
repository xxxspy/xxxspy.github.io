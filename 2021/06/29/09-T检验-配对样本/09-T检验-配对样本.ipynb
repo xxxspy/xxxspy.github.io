{
 "cells": [
  {
   "cell_type": "markdown",
   "metadata": {},
   "source": [
    "### T检验种类\n",
    "\n",
    "- **单样本T检验: 样本均值与某个已知均值进行比较**\n",
    "\n",
    "比如, 满意度评价中, 5分为满分, 3分为及格, 我们收集了n个人的满意度, 然后我们想要知道这n个人平均满意度是否显著高于3分\n",
    "\n",
    "- **独立样本T检验: 两个样本均值是否有差异**\n",
    "\n",
    "比如, 比较男生的评分与女生的评分均值是否有显著差异\n",
    "\n",
    "- **配对样本T检验: 两个配对样本的均值是否有差异**\n",
    "\n",
    "比如, N个人在两个评价指标上的均值有没有差异"
   ]
  },
  {
   "cell_type": "markdown",
   "metadata": {},
   "source": [
    "### 配对样本T检验\n",
    "\n",
    "所谓配对样本不一定是配对的两个人或其他对象, 可以是一个人的两个变量, 这一点往往引起误会。\n",
    "\n",
    "#### 案例\n",
    "\n",
    "我们调查了100个人对某品牌的认知和情感两个变量, 我们想知道两个变量均值是否有差异, 因为每个被调查者都有这两个变量(指标), 我们可以说这个差异比较就属于配对样本的差异比较。"
   ]
  },
  {
   "cell_type": "markdown",
   "metadata": {},
   "source": [
    "### 前提\n",
    "\n",
    "- 因变量是连续变量\n",
    "- 自变量包含2个分类\n",
    "- 两组内没有明显异常值\n",
    "- 两组内, 近似服从正态分布(当N<30时需要检验)"
   ]
  },
  {
   "cell_type": "markdown",
   "metadata": {},
   "source": [
    "### SPSS操作\n",
    "\n",
    "<img src=\"imgs/09-01-spss.png\">\n",
    "\n"
   ]
  },
  {
   "cell_type": "markdown",
   "metadata": {},
   "source": [
    "<img src=\"imgs/09-02-spss.png\">"
   ]
  },
  {
   "cell_type": "markdown",
   "metadata": {},
   "source": [
    "### 结果解读\n",
    "\n",
    "这是对两个变量的描述统计, 里面可以看到均值标准差和样本量。\n",
    "\n",
    "<img src=\"imgs/09-03-spss.png\">"
   ]
  },
  {
   "cell_type": "markdown",
   "metadata": {},
   "source": [
    "这是两个变量的相关系数, 从下表中可以看到品牌认知和品牌情感的相关系数是0.2(p<0.05), 是显著的。\n",
    "\n",
    "<img src=\"imgs/09-04-spss.png\">"
   ]
  },
  {
   "cell_type": "markdown",
   "metadata": {},
   "source": [
    "这是配对样本T检验的结果了, 下面列出表头的意义:\n",
    "\n",
    "- 平均值: 配对样本两个变量差值的均值\n",
    "- 标准 偏差(标准差): 配对样本两个变量差值的标准差\n",
    "- 标准 误差平均值: 差值的均值的标准误\n",
    "- 差值95%置信区间, 差值的置信区间, 如果包含0, 就说明在95%的概率下, 差值可能为0, 也就是说差异不显著\n",
    "- t: t统计量\n",
    "- 自由度\n",
    "- sig: p值, 只有小于0.05才认为差异显著\n",
    "\n",
    "<img src=\"imgs/09-05-spss.png\">"
   ]
  },
  {
   "cell_type": "markdown",
   "metadata": {},
   "source": [
    "### 计算效应量\n",
    "\n",
    "效应量是用于衡量均值差异大小的量, 因为不同的研究使用不同的变量, 不同的变量有不同的量纲, 所以没法比较, 但是近期很多期刊都要求当t检验结果显著的时候就应当汇报效应量, 效应量可以排除量纲的影响, 使得不同的研究具有一定可比性。\n",
    "\n",
    "在t检验中, 常用效应量是:\n",
    "\n",
    "$$\n",
    "d = {M / SD} (M是差值的均值, SD是差值的标准差)\n",
    "$$\n",
    "\n",
    "对应于本结果就是: -0.099048/1.016829=-0.09740870883894932\n"
   ]
  },
  {
   "cell_type": "markdown",
   "metadata": {},
   "source": [
    "#### 效应量的评价(忽略符号)\n",
    "\n",
    "- 0.2以内: 小\n",
    "- 0.2-0.5: 中\n",
    "- 0.5-0.8: 大"
   ]
  },
  {
   "cell_type": "markdown",
   "metadata": {},
   "source": [
    "### 结果汇报\n",
    "\n",
    "\n",
    "<img src=\"imgs/09-06-spss.png\">\n",
    "\n",
    "\n",
    "总共调查了105人, 样本量超过30可以认为满足近似正态分布的假设 , 品牌认知和品牌情感的均值分别是3.55(sd=0.82)和3.65(sd=0.80)，t检验结果显示差异不显著t=-0.998,df=104,p>.05。\n",
    "\n",
    "注: 如果差异显著需要汇报效应量。"
   ]
  }
 ],
 "metadata": {
  "kernelspec": {
   "display_name": "Python 3",
   "language": "python",
   "name": "python3"
  },
  "language_info": {
   "codemirror_mode": {
    "name": "ipython",
    "version": 3
   },
   "file_extension": ".py",
   "mimetype": "text/x-python",
   "name": "python",
   "nbconvert_exporter": "python",
   "pygments_lexer": "ipython3",
   "version": "3.6.5"
  }
 },
 "nbformat": 4,
 "nbformat_minor": 2
}
