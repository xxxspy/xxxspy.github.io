{
 "cells": [
  {
   "cell_type": "markdown",
   "metadata": {},
   "source": [
    "### 案例介绍\n",
    "\n",
    "我们有一个变量是电影因素, 包括三个水平(情感意象/认知意象/故事情节), 并且还想考虑性别作为组间变量, 考察不同性别受各种电影因素的吸引力, 因为电影因素是组内设计, 也就是说每个被试都测量了情感意象/认知意象/故事情节这三个变量, 因此这种设计就叫做混合设计。"
   ]
  },
  {
   "cell_type": "markdown",
   "metadata": {},
   "source": [
    "### 前提\n",
    "\n",
    "- 因变量为连续变量\n",
    "- 没有极端值\n",
    "- 球形检验\n",
    "- 各变量在各组内正态\n",
    "- 组间方差齐性\n",
    "\n"
   ]
  },
  {
   "cell_type": "markdown",
   "metadata": {},
   "source": [
    "### SPSS操作\n",
    "在菜单依次打开: 分析-->一般线性模型-->重复测量\n",
    "<img src=\"imgs/17-01-spss.png\">"
   ]
  },
  {
   "cell_type": "markdown",
   "metadata": {},
   "source": [
    "重复测量需要定义组内因子, 所谓组内因子就是我们今天案例中讲的影响是否看某个电影的因素, 我们可以起名字为\"电影因素\", 其中包含三种变量: 情感意象, 认知意象和故事情节, 所以级别数是3, 然后点击\"添加\"\n",
    "<img src=\"imgs/17-02-spss.png\">"
   ]
  },
  {
   "cell_type": "markdown",
   "metadata": {},
   "source": [
    "选择三个变量\"情感意象, 认知意象和故事情节\"为我们定义的因子的三个变量, 情感状态作为被试间因子:\n",
    "<img src=\"imgs/17-03-spss.png\">"
   ]
  },
  {
   "cell_type": "markdown",
   "metadata": {},
   "source": [
    "在\"选项\"对话框中, 我们需要勾选\"描述统计\", \"效应量估算\", \"齐性检验\"\n",
    "<img src=\"imgs/17-04-spss.png\">"
   ]
  },
  {
   "cell_type": "markdown",
   "metadata": {},
   "source": [
    "在\"EM平均值\"对话框中, 我们将\"情感状态x电影因素\"这一项放入右侧的变量框中\n",
    "\n",
    "<img src=\"imgs/17-05-spss.png\">"
   ]
  },
  {
   "cell_type": "markdown",
   "metadata": {},
   "source": [
    "另外我们想要做一个折线图来显示各组均值, 所以我们在\"图\"对话框中, 按如下设置:\n",
    "\n",
    "<img src=\"imgs/17-06-spss.png\">"
   ]
  },
  {
   "cell_type": "markdown",
   "metadata": {},
   "source": [
    "最后, 我们不是直接运行, 而是点击'粘贴\", 将代码粘贴到编辑器中\n",
    "<img src=\"imgs/17-07-spss.png\">"
   ]
  },
  {
   "cell_type": "markdown",
   "metadata": {},
   "source": [
    "在这里, 我们需要将`/EMMEANS`这一行改成如下红框中所示, 这句代码就是为了进行简单效应分析, 也就是在不同的情感状态下比较不同的电影因素是否有均值差异。\n",
    "\n",
    "<img src=\"imgs/17-08-spss.png\">"
   ]
  },
  {
   "cell_type": "markdown",
   "metadata": {},
   "source": [
    "### 结果解读\n",
    "\n",
    "首先需要查看球形检验的结果, 如果显著性<0.05, 就认为数据不满足球星假设, 那么就需要对结果进行矫正, 否则不需要纠正。\n",
    "\n",
    "我们的表格显示不符合球星假设,在实际应用中，只用Greenhouse-Geisser和Huynh-Feldt两种方法，这两种方法计算的epsilon (ε)的值越低，说明违反球形假设的程度越大，当epsilon=1时数据服从球形假设。 Maxwell & Delaney (2004)建议当epsilon<0.75时，使用Greenhouse-Geisser方法校正。其他统计学家建议当epsilon>0.75时，使用Huynh-Feldt方法。因此我们可以使用Huynh-Feldt方法。\n",
    "\n",
    "<img src=\"imgs/17-09-spss.png\">"
   ]
  },
  {
   "cell_type": "markdown",
   "metadata": {},
   "source": [
    "方差齐性检验, 不管基于什么方法, 显著性都超过0.05, 因此可以认为组间方差差异不明显。\n",
    "<img src=\"imgs/17-11-spss.png\">"
   ]
  },
  {
   "cell_type": "markdown",
   "metadata": {},
   "source": [
    "根据上面球形检验的结果, 我们需要采纳Huynh-Feldt的方法所得结果, 也就是下面红框中的结果: 电影因素的主效应显著F(1.814, 263)=6.177, p<.01。因此我们需要进行成对比较来确定具体哪些因素是有差异的。\n",
    "\n",
    "由于\"电影因素*情感状态\"的交互效应显著F(1.814, 263)=9.431, p<.01, 因此我们需要进行简单效应分析。\n",
    "<img src=\"imgs/17-10-spss.png\">"
   ]
  },
  {
   "cell_type": "markdown",
   "metadata": {},
   "source": [
    "组间效应主要是指\"情感状态\"是否影响\"电影因素\"的三个指标的均值, 结果显示\"情感状态\"的主效应显著F(1, 145)=7.402, p<0.01。\n",
    "\n",
    "<img src=\"imgs/17-12-spss.png\">"
   ]
  },
  {
   "cell_type": "markdown",
   "metadata": {},
   "source": [
    "交互作用显著, 我们进一步需要比较在不同情感状态下, 三个电影因素是否有差异。由于多重比较会提高犯错的概率, 因此我们需要降低显著性的标准, 通常是0.05除以比较的次数, 0.05/6=0.008, 因此以0.008为标准判断显著性, 低于0.008才认为显著。\n",
    "\n",
    "在单身状态下, 故事情节(3)要显著低于情感意象(p=0.001)和和认知意象(p=0.007), 但是在婚恋状态下, 故事情节和情感意象没有显著差异, 但是故事情节却显著高于认知意象(p=0.001)。\n",
    "<img src=\"imgs/17-13-spss.png\">"
   ]
  },
  {
   "cell_type": "markdown",
   "metadata": {},
   "source": [
    "我们从折线图中更容易看清楚:\n",
    "<img src=\"imgs/17-14-spss.png\">"
   ]
  },
  {
   "cell_type": "markdown",
   "metadata": {},
   "source": [
    "### 结论撰写\n",
    "\n",
    "首先对组间变量\"情感状态\"进行组间的方差齐性检验, 结果显示方差差异不显著(L(1, 145)=0.3, p>0.05)。然后进行球形检验, 结果显著, 数据不满足球形假设($\\lambda^2$=18.855, p<0.01), 因此我们使用 Huynh-Feldt矫正。方差分析的结果显示电影因素的主效应显著F(1.814, 263)=6.177, p<.01, 情感状态的主效应显著F(1, 145)=7.402, p<0.01, 并且电影因素和情感状态的交互效应显著F(1.814, 263)=9.431, p<.01, 进一步在不同情感状态下, 不同电影因素之间的两两比较显示, 在单身状态下, 故事情节(3)要显著低于情感意象(p=0.001)和和认知意象(p=0.007), 但是在婚恋状态下, 故事情节和情感意象没有显著差异, 但是故事情节却显著高于认知意象(p=0.001)。\n",
    "\n",
    "<img src=\"imgs/17-15-spss.png\">"
   ]
  }
 ],
 "metadata": {
  "kernelspec": {
   "display_name": "Python 3",
   "language": "python",
   "name": "python3"
  },
  "language_info": {
   "codemirror_mode": {
    "name": "ipython",
    "version": 3
   },
   "file_extension": ".py",
   "mimetype": "text/x-python",
   "name": "python",
   "nbconvert_exporter": "python",
   "pygments_lexer": "ipython3",
   "version": "3.6.5"
  }
 },
 "nbformat": 4,
 "nbformat_minor": 2
}
