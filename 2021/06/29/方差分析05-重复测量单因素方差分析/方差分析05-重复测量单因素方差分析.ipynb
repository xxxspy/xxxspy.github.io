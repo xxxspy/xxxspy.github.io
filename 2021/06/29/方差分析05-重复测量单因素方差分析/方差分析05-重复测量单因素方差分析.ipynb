{
 "cells": [
  {
   "cell_type": "markdown",
   "metadata": {},
   "source": [
    "### 案例介绍\n",
    "\n",
    "我们调查了147人关于哪些因素导致你去观看某个电影, 其中有\"情感意象\"\"认知意象\"和\"故事情节\", 那么我们问题来了, 这些因素有差异吗? 也就是说什么因素对你是否看某个电影的影响力更大?\n",
    "\n",
    "解决这个问题我们就需要使用重复测量的方差分析, 因为不同的因素其实就是几个指标, 每个被试都有这几个指标, 比较这几个指标谁高谁低, 就是重复测量方差分析的用武之地。"
   ]
  },
  {
   "cell_type": "markdown",
   "metadata": {},
   "source": [
    "- b站: mlln-cn\n",
    "- 网站: mlln.cn"
   ]
  },
  {
   "cell_type": "markdown",
   "metadata": {},
   "source": [
    "### 前提条件\n",
    "\n",
    "- 因变量为连续变量\n",
    "- 组内因素（Within-Subject Factor）有2个或以上的水平\n",
    "- 组内因素的各个水平，因变量没有极端值\n",
    "- 因变量服从近似正态分布\n",
    "- 因变量的方差协方差矩阵相等，也称球形假设"
   ]
  },
  {
   "cell_type": "markdown",
   "metadata": {},
   "source": [
    "### SPSS操作\n",
    "\n",
    "在菜单依次打开: 分析-->一般线性模型-->重复测量\n",
    "\n",
    "<img src=\"imgs/16-01-spss.png\">"
   ]
  },
  {
   "cell_type": "markdown",
   "metadata": {},
   "source": [
    "重复测量需要定义组内因子, 所谓组内因子就是我们今天案例中讲的影响是否看某个电影的因素, 我们可以起名字为\"电影因素\", 其中包含三种变量: 情感意象, 认知意象和故事情节, 所以级别数是3, 然后点击\"添加\"\n",
    "\n",
    "<img src=\"imgs/16-02-spss.png\">"
   ]
  },
  {
   "cell_type": "markdown",
   "metadata": {},
   "source": [
    "点击\"定义\"\n",
    "\n",
    "<img src=\"imgs/16-03-spss.png\">"
   ]
  },
  {
   "cell_type": "markdown",
   "metadata": {},
   "source": [
    "选择三个变量\"情感意象, 认知意象和故事情节\"为我们定义的因子的三个变量:\n",
    "\n",
    "<img src=\"imgs/16-04-spss.png\">"
   ]
  },
  {
   "cell_type": "markdown",
   "metadata": {},
   "source": [
    "点击\"EM平均值\", 打开对话框, 我们需要显示电影因素的各项均值, 平且比较主效应。\n",
    "\n",
    "<img src=\"imgs/16-05-spss.png\">"
   ]
  },
  {
   "cell_type": "markdown",
   "metadata": {},
   "source": [
    "## 结果解读\n",
    "\n",
    "首先需要查看球形检验的结果, 如果显著性<0.05, 就认为数据不满足球星假设, 那么就需要对结果进行矫正, 否则不需要纠正。\n",
    "\n",
    "我们的表格显示不符合球星假设,在实际应用中，只用Greenhouse-Geisser和Huynh-Feldt两种方法，这两种方法计算的epsilon (ε)的值越低，说明违反球形假设的程度越大，当epsilon (ε)=1时，说明完美的服从了球形假设。\n",
    "Maxwell & Delaney (2004)建议当epsilon (ε)<0.75时，使用Greenhouse-Geisser方法校正。其他统计学家建议当epsilon (ε)>0.75时，使用Huynh-Feldt方法校正。因此我们可以使用Huynh-Feldt方法。\n",
    "\n",
    "<img src=\"imgs/16-06-spss.png\">"
   ]
  },
  {
   "cell_type": "markdown",
   "metadata": {},
   "source": [
    "根据上面球形检验的结果, 我们需要采纳Huynh-Feldt的方法所得结果, 也就是下面红框中的结果: 电影因素的主效应显著F(1.783, 260)=5.186, p<.01。因此我们需要进行成对比较来确定具体哪些因素是有差异的。\n",
    "\n",
    "<img src=\"imgs/16-07-spss.png\">"
   ]
  },
  {
   "cell_type": "markdown",
   "metadata": {},
   "source": [
    "多重比较由于统计的次数多, 所以需要对显著性水平α进行调整, 调整方法是`调整后α=调整前α ÷ 比较的次数`, 因为我们比较了3次, 因此调整后的α=0.05/3, 不过下表显示, 电影因素里第一个因素和第二个因素的差异的显著性<0.001, 因此我们可以认为第一个因素显著大于第二个因素。\n",
    "\n",
    "<img src=\"imgs/16-08-spss.png\">"
   ]
  },
  {
   "cell_type": "markdown",
   "metadata": {},
   "source": [
    "### 结果汇报\n",
    "\n",
    "球形检验的结果显著($\\lambda^2$=20.9, df=2, p<0.01), 因此不满足球形假设, epsilon=0.091, 我们采纳Huynh-Feldt的结果, 结果显示差异显著F(1.783, 260)=5.186, p<.01。因此我们需要进行成对比较来确定具体哪些因素是有差异的。多重比较的结果显示, 情感意象和认知意象之间的差异显著, 情感意象显著高于认知意象(p<0.01)。\n",
    "\n",
    "<img src=\"imgs/16-09-spss.png\">"
   ]
  }
 ],
 "metadata": {
  "kernelspec": {
   "display_name": "Python 3",
   "language": "python",
   "name": "python3"
  },
  "language_info": {
   "codemirror_mode": {
    "name": "ipython",
    "version": 3
   },
   "file_extension": ".py",
   "mimetype": "text/x-python",
   "name": "python",
   "nbconvert_exporter": "python",
   "pygments_lexer": "ipython3",
   "version": "3.6.5"
  }
 },
 "nbformat": 4,
 "nbformat_minor": 2
}
