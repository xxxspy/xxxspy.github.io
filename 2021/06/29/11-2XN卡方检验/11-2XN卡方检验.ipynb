{
 "cells": [
  {
   "cell_type": "markdown",
   "metadata": {},
   "source": [
    "### 多分类和两分类卡方检验\n",
    "\n",
    "之前我们演示了两个两分类变量进行卡方检验, 现在我们要考察多分类变量, 但是其中一个变量是两分类。其实方法和之前一样, 只不过当变量有多分类的话, 需要进行两两比较, 所以才会有今天这篇教程。\n",
    "\n",
    "拿案例来说, 是否看过某电影可能与年龄有关, 那我们需要做一个卡方检验, 查看不同年龄组下看过某电影的人的比率是否有差异。"
   ]
  },
  {
   "cell_type": "markdown",
   "metadata": {},
   "source": [
    "### 前提\n",
    "\n",
    "- 二分类和多分类\n",
    "- 相互独立的观测值\n",
    "- 样本量足够大，最小分组的样本量大于5。"
   ]
  },
  {
   "cell_type": "markdown",
   "metadata": {},
   "source": [
    "### SPSS操作\n",
    "\n",
    "在菜单中依次选择\"分析-->描述统计-->交叉表\":\n",
    "\n",
    "<img src=\"imgs/11-01-spss.png\">"
   ]
  },
  {
   "cell_type": "markdown",
   "metadata": {},
   "source": [
    "在交叉表中选择\"是否看过\"和\"年龄\":\n",
    "\n",
    "<img src=\"imgs/11-02-spss.png\">"
   ]
  },
  {
   "cell_type": "markdown",
   "metadata": {},
   "source": [
    "在\"统计\"对话框中, 勾选\"卡方\":\n",
    "\n",
    "<img src=\"imgs/11-03-spss.png\">"
   ]
  },
  {
   "cell_type": "markdown",
   "metadata": {},
   "source": [
    "在\"单元格\"对话框中, 我们需要勾选\"比较列比例\", 这个选项可以进行比率的两两比较, 然后勾选\"列\"百分比:\n",
    "<img src=\"imgs/11-04-spss.png\">"
   ]
  },
  {
   "cell_type": "markdown",
   "metadata": {},
   "source": [
    "当有某些组的频数低于5的时候, 我们需要查看\"费希尔精确检验\"的结果, 但是默认情况下, 你看不到这个结果, 所以需要在\"精确\"对话框中勾选:\n",
    "<img src=\"imgs/11-05-spss.png\">"
   ]
  },
  {
   "cell_type": "markdown",
   "metadata": {},
   "source": [
    "#### 结果解读\n",
    "\n",
    "我们首先看交叉表, 这个表可以看到各组的频率和列百分比, 并且频数上都标上了角标\"a, b, c...\", 角标的意义我们稍后说。\n",
    "\n",
    "我们从百分比中大概可以看出, 28岁以上的年龄组中, 看过该电影的比例大大超过前面两个年龄组, 但是这种差异是否具有统计学意义呢? 需要看下面的卡方检验。\n",
    "\n",
    "\n",
    "<img src=\"imgs/11-05-result.png\">"
   ]
  },
  {
   "cell_type": "markdown",
   "metadata": {},
   "source": [
    "因为我们的交叉表中, 任何一个单元格的频数都超过了5, 我们直接看皮尔逊卡方的结果, 也就是第一行, 由于P=0.001, 所以达到显著水平, 因此各个年龄组看过该电影的比率具有显著差异。 那么问题来了, 到底是哪两个年龄组之间有差异呢? 是第一组和第二组有差异吗? 还是第二组和第三组有差异? 或者第一组和第三组有差异? 我们需要返回去查看交叉表。\n",
    "\n",
    "<img src=\"imgs/11-06-result.png\">"
   ]
  },
  {
   "cell_type": "markdown",
   "metadata": {},
   "source": [
    "交叉表中, 角标从\"a\"到\"z\"的顺序就代表比率的等级, 如果角标相同就说明比率没有差异, 如果角标不同, 就说明比率有差异。举例来说, 第一个年龄组和第二个年龄组的角标都是a, 说明两组之间比率没有差异。而第二组和第三组他们的角标分别是\"a\"和\"b\", 因此, 这两组之间有显著差异。\n",
    "\n",
    "<img src=\"imgs/11-05-result.png\">"
   ]
  },
  {
   "cell_type": "markdown",
   "metadata": {},
   "source": [
    "### 汇报结果\n",
    "\n",
    "我们通常需要汇报一个表格, 里面包含了频率和卡方检验。\n",
    "\n",
    "结论可以这么写: 首先描述各个年龄组的看过该电影的百分比, 卡方分析结果显著(X^2=13.1,df=2,p<.01), 通过多组比较可以发现, 小于20岁和20-28岁两组之间看过该电影的比率没有差异, 他们均低于28岁以上的年龄组。\n",
    "\n",
    "<img src=\"imgs/11-07-result.png\">"
   ]
  }
 ],
 "metadata": {
  "kernelspec": {
   "display_name": "Python 3",
   "language": "python",
   "name": "python3"
  },
  "language_info": {
   "codemirror_mode": {
    "name": "ipython",
    "version": 3
   },
   "file_extension": ".py",
   "mimetype": "text/x-python",
   "name": "python",
   "nbconvert_exporter": "python",
   "pygments_lexer": "ipython3",
   "version": "3.6.5"
  }
 },
 "nbformat": 4,
 "nbformat_minor": 2
}
