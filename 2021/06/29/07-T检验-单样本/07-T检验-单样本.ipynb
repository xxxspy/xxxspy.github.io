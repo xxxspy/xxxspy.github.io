{
 "cells": [
  {
   "cell_type": "markdown",
   "metadata": {},
   "source": [
    "### T检验种类\n",
    "\n",
    "- **单样本T检验: 样本均值与某个已知均值进行比较**\n",
    "\n",
    "比如, 满意度评价中, 5分为满分, 3分为及格, 我们收集了n个人的满意度, 然后我们想要知道这n个人平均满意度是否显著高于3分\n",
    "\n",
    "- **独立样本T检验: 两个样本均值是否有差异**\n",
    "\n",
    "比如, 比较男生的评分与女生的评分均值是否有显著差异\n",
    "\n",
    "- **配对样本T检验: 两个配对样本的均值是否有差异**\n",
    "\n",
    "比如, N个人在两个评价指标上的均值有没有差异"
   ]
  },
  {
   "cell_type": "markdown",
   "metadata": {},
   "source": [
    "### 单样本T检验\n",
    "\n",
    "\n",
    "#### 案例介绍\n",
    "\n",
    "我调研了某品牌的品牌认知度, 有三个题, 每个题有5个评分等级(从\"非常不同意\"到\"非常同意\"), 我想知道的是, 品牌认知度是否超过3分, 因为3分代表认同和不认同的分界线, 如果品牌认知度的平均值超过3分, 我可以得出结论, 品牌认知度较高。"
   ]
  },
  {
   "cell_type": "markdown",
   "metadata": {},
   "source": [
    "#### 前提\n",
    "\n",
    "- 连续变量\n",
    "- case之间相互独立\n",
    "- 没有异常值\n",
    "- 正态分布或样本量较大"
   ]
  },
  {
   "cell_type": "markdown",
   "metadata": {},
   "source": [
    "#### SPSS操作\n",
    "\n",
    "<img src=\"imgs/07-01-spss.png\">\n"
   ]
  },
  {
   "cell_type": "markdown",
   "metadata": {},
   "source": [
    "<img src=\"imgs/07-02-spss.png\">\n",
    "\n"
   ]
  },
  {
   "cell_type": "markdown",
   "metadata": {},
   "source": [
    "#### 结果解读\n",
    "\n",
    "<img src=\"imgs/07-03-result.png\">"
   ]
  },
  {
   "cell_type": "markdown",
   "metadata": {},
   "source": [
    "- 检验值就是比较的标准\n",
    "- sig就是p值, 小于0.05就认为差异显著\n",
    "- 平均值差值就是变量平均值与标准值的差\n",
    "- 差值的置信区间: 就是平均值差值的置信区间, 如果置信区间不包含0, sig就会显著, 也就是差值在统计学上不为0"
   ]
  },
  {
   "cell_type": "markdown",
   "metadata": {},
   "source": [
    "#### 结果汇报\n",
    "\n",
    "品牌认知度的平均值是3.55(N=105,sd=0.82), 单样本T检验的结果显示均值显著高于标准值3(t=6.84, p<0.01)."
   ]
  }
 ],
 "metadata": {
  "kernelspec": {
   "display_name": "Python 3",
   "language": "python",
   "name": "python3"
  },
  "language_info": {
   "codemirror_mode": {
    "name": "ipython",
    "version": 3
   },
   "file_extension": ".py",
   "mimetype": "text/x-python",
   "name": "python",
   "nbconvert_exporter": "python",
   "pygments_lexer": "ipython3",
   "version": "3.6.5"
  }
 },
 "nbformat": 4,
 "nbformat_minor": 2
}
