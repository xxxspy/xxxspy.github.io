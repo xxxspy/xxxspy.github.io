{
 "cells": [
  {
   "cell_type": "markdown",
   "metadata": {},
   "source": [
    "### 前提假设\n",
    "\n",
    "- 2个或以上因变量为连续变量\n",
    "- 各观察对象之间相互独立。\n",
    "- 没有单因素离群值（univariate outliers）与多因素离群值（multivariate outliers）\n",
    "- 因变量服从多元正态分布\n",
    "- 因变量之间没有多重共线性(相关性低于0.9)\n",
    "- 自变量的各个组内，各因变量之间存在线性关系\n",
    "- 样本量足够\n",
    "- 各组因变量的方差协方差矩阵没有显著差异\n",
    "- 每个因变量在自变量的各个组中方差相等"
   ]
  }
 ],
 "metadata": {
  "kernelspec": {
   "display_name": "Python 3",
   "language": "python",
   "name": "python3"
  },
  "language_info": {
   "codemirror_mode": {
    "name": "ipython",
    "version": 3
   },
   "file_extension": ".py",
   "mimetype": "text/x-python",
   "name": "python",
   "nbconvert_exporter": "python",
   "pygments_lexer": "ipython3",
   "version": "3.6.5"
  }
 },
 "nbformat": 4,
 "nbformat_minor": 2
}
