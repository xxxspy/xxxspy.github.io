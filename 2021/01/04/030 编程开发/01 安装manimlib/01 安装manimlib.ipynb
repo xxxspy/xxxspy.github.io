{
 "cells": [
  {
   "cell_type": "markdown",
   "metadata": {},
   "source": [
    "---\n",
    "\n",
    "title: manim系列教程01-windows平台安装manim\n",
    "date: 2021-01-04 12:44:03\n",
    "tags: [python, manim]\n",
    "\n",
    "---"
   ]
  },
  {
   "cell_type": "markdown",
   "metadata": {},
   "source": [
    "manim是用python开发的数学可视化的工具, 作者热衷于做一些数学知识的普及视频, 因而做了这个库, 后来开源了这个库, 我们得以使用, 下面这篇文章介绍了如何安装manim以及它所依赖的各种软件, 过程虽然麻烦, 但是并不难。\n",
    "\n",
    "<!--more-->\n",
    "\n",
    "<img src=\"images/manim.png\">\n",
    "\n",
    "<!--toc-->"
   ]
  },
  {
   "cell_type": "markdown",
   "metadata": {},
   "source": [
    "### 环境介绍\n",
    "\n",
    "我使用win10(64位)系统, python3.6已经安装完毕, 并且已经安装好了jupyter notebook ,\n",
    "所以这两个的安装方法就不再赘述。\n",
    "由于我们整个系列教程都在jupyter notebook 中完成, 所以我们今天不仅仅要安装manim, 而且要让他在notebook中运行。"
   ]
  },
  {
   "cell_type": "markdown",
   "metadata": {},
   "source": [
    "### 使用pip安装manimlib\n",
    "\n",
    "使用如下命令安装`manimlib`\n",
    "\n",
    "```\n",
    "pip install manimlib\n",
    "```\n",
    "\n",
    "如果你安装失败, 并且提示编码错误, 请先将你的win10系统的默认编码改成\"utf-8\"。"
   ]
  },
  {
   "cell_type": "markdown",
   "metadata": {},
   "source": [
    "### 安装FFmpeg\n",
    "\n",
    "FFmpeg是一个视频处理工具, 安装方法很简单, 只需要现在文件, 放到一个你喜欢的位置即可。\n",
    "\n",
    "下载地址: https://www.gyan.dev/ffmpeg/builds/ffmpeg-git-full.7z\n",
    "\n",
    "解压得到这几个文件:\n",
    "\n",
    "<img src=\"images/ffmpeg06.png\">\n"
   ]
  },
  {
   "cell_type": "markdown",
   "metadata": {},
   "source": [
    "<img src=\"images/ffmpeg02.png\">"
   ]
  },
  {
   "cell_type": "markdown",
   "metadata": {},
   "source": [
    "接下来需要将ffmpeg的所在文件夹添加到Path路径中, 我们文章后面\"设置环境变量\"中会介绍"
   ]
  },
  {
   "cell_type": "markdown",
   "metadata": {},
   "source": [
    "### 安装pycairo\n",
    "\n",
    "我们首先下载已经编译好的库, 下载地址在这里:\n",
    "\n",
    "https://www.lfd.uci.edu/~gohlke/pythonlibs/#pycairo\n",
    "\n",
    "由于我的python是3.6 64位, 因此我下载的是\"pycairo‑1.20.0‑cp36‑cp36m‑win_amd64.whl\";\n",
    "\n",
    "然后在命令行输入:\n",
    "\n",
    "```\n",
    "pip install PathToTheFile/pycairo‑1.20.0‑cp36‑cp36m‑win_amd64.whl\n",
    "```\n",
    "\n",
    "很快就能安装完毕, 输出是:\n",
    "\n",
    "```\n",
    "Looking in indexes: http://mirrors.aliyun.com/pypi/simple/\n",
    "Processing d:\\notebooks\\pycairo-1.20.0-cp36-cp36m-win_amd64.whl\n",
    "pycairo is already installed with the same version as the provided wheel. Use --force-reinstall to force an installation of the wheel.\n",
    "```"
   ]
  },
  {
   "cell_type": "markdown",
   "metadata": {},
   "source": [
    "### 安装Miktex\n",
    "\n",
    "- 下载地址: https://miktex.org/download\n",
    "- 建议使用网络安装包:\n",
    "\n",
    "<img src=\"images/miktex01.png\">"
   ]
  },
  {
   "cell_type": "markdown",
   "metadata": {},
   "source": [
    "- 打开你下载的安装文件, 你会看到这个, 点击\"下一步\""
   ]
  },
  {
   "cell_type": "markdown",
   "metadata": {},
   "source": [
    "<img src=\"images/miktex02.png\">"
   ]
  },
  {
   "cell_type": "markdown",
   "metadata": {},
   "source": [
    "- 首先我们要下载安装包"
   ]
  },
  {
   "cell_type": "markdown",
   "metadata": {},
   "source": [
    "<img src=\"images/miktex03.png\">"
   ]
  },
  {
   "cell_type": "markdown",
   "metadata": {},
   "source": [
    "- 一般不需要完整安装, 只需要基本功能, 选择第一个"
   ]
  },
  {
   "cell_type": "markdown",
   "metadata": {},
   "source": [
    "<img src=\"images/miktex04.png\">"
   ]
  },
  {
   "cell_type": "markdown",
   "metadata": {},
   "source": [
    "- 选择一个服务器, 选择China的服务器, 速度比较快"
   ]
  },
  {
   "cell_type": "markdown",
   "metadata": {},
   "source": [
    "<img src=\"images/miktex05.png\">"
   ]
  },
  {
   "cell_type": "markdown",
   "metadata": {},
   "source": [
    "- 选项下载文件夹, 点击下一步就开始下载了, 记住你的这个下载文件夹, 后面要打开这个文件夹"
   ]
  },
  {
   "cell_type": "markdown",
   "metadata": {},
   "source": [
    "<img src=\"images/miktex06.png\">"
   ]
  },
  {
   "cell_type": "markdown",
   "metadata": {},
   "source": [
    "- 打开你下载好的文件, 然后双击'setup-4.1.1-x64.exe'来安装:"
   ]
  },
  {
   "cell_type": "markdown",
   "metadata": {},
   "source": [
    "<img src=\"images/miktex07.png\">"
   ]
  },
  {
   "cell_type": "markdown",
   "metadata": {},
   "source": [
    "- 为所有用户安装"
   ]
  },
  {
   "cell_type": "markdown",
   "metadata": {},
   "source": [
    "<img src=\"images/miktex08.png\">"
   ]
  },
  {
   "cell_type": "markdown",
   "metadata": {},
   "source": [
    "- 设置安装路径:"
   ]
  },
  {
   "cell_type": "markdown",
   "metadata": {},
   "source": [
    "<img src=\"images/miktex09.png\">"
   ]
  },
  {
   "cell_type": "markdown",
   "metadata": {},
   "source": [
    "<img src=\"images/miktex10.png\">"
   ]
  },
  {
   "cell_type": "markdown",
   "metadata": {},
   "source": [
    "- 到此安装完毕"
   ]
  },
  {
   "cell_type": "markdown",
   "metadata": {},
   "source": [
    "<img src=\"images/miktex11.png\">"
   ]
  },
  {
   "cell_type": "markdown",
   "metadata": {},
   "source": [
    "### 安装Sox\n",
    "\n",
    "- 下载最新版本, 我下载的是14.4\n",
    "\n",
    "下载地址是: https://sourceforge.net/projects/sox/files/sox/14.4.2/\n",
    "\n"
   ]
  },
  {
   "cell_type": "markdown",
   "metadata": {},
   "source": [
    "- 下载完成以后, 双击文件就可以开始安装:\n",
    "\n",
    "<img src=\"images/sox01.png\">"
   ]
  },
  {
   "cell_type": "markdown",
   "metadata": {},
   "source": [
    "- 设置安装路径, 点击\"install\", 基本上这样就安装完毕了, 后面需要将sox的安装路径添加到环境变量\"path\"中, 最后会讲"
   ]
  },
  {
   "cell_type": "markdown",
   "metadata": {},
   "source": [
    "<img src=\"images/sox02.png\">"
   ]
  },
  {
   "cell_type": "markdown",
   "metadata": {},
   "source": [
    "### 安装 jupyter-manim\n",
    "\n",
    "使用pip安装:\n",
    "\n",
    "```\n",
    "pip3 install jupyter-manim\n",
    "```\n",
    "\n",
    "我们会看到安装成功的提示:\n",
    "\n",
    "```\n",
    "Looking in indexes: http://mirrors.aliyun.com/pypi/simple/\n",
    "Collecting jupyter-manim\n",
    "  Downloading http://mirrors.aliyun.com/pypi/packages/24/f9/344ff17d9c3f8f63b713da5c5101aadc93f90d120d5b1049340fc3dbae26/jupyter_manim-1.3.tar.gz (6.5 kB)\n",
    "Requirement already satisfied: manimlib in d:\\venv\\.common\\lib\\site-packages (from jupyter-manim) (0.1.11)\n",
    "Requirement already satisfied: IPython in d:\\venv\\.common\\lib\\site-packages (from jupyter-manim) (7.2.0)\n",
    "Requirement already satisfied: pickleshare in d:\\venv\\.common\\lib\\site-packages (from IPython->jupyter-manim) (0.7.5)\n",
    "Requirement already satisfied: traitlets>=4.2 in d:\\venv\\.common\\lib\\site-packages (from IPython->jupyter-manim) (4.3.2)\n",
    "Requirement already satisfied: colorama in d:\\venv\\.common\\lib\\site-packages (from IPython->jupyter-manim) (0.4.1)\n",
    "Requirement already satisfied: setuptools>=18.5 in d:\\venv\\.common\\lib\\site-packages (from IPython->jupyter-manim) (39.0.1)\n",
    "Requirement already satisfied: jedi>=0.10 in d:\\venv\\.common\\lib\\site-packages (from IPython->jupyter-manim) (0.13.2)\n",
    "Requirement already satisfied: decorator in d:\\venv\\.common\\lib\\site-packages (from IPython->jupyter-manim) (4.3.2)\n",
    "Requirement already satisfied: backcall in d:\\venv\\.common\\lib\\site-packages (from IPython->jupyter-manim) (0.1.0)\n",
    "Requirement already satisfied: pygments in d:\\venv\\.common\\lib\\site-packages (from IPython->jupyter-manim) (2.3.1)\n",
    "Requirement already satisfied: prompt-toolkit<2.1.0,>=2.0.0 in d:\\venv\\.common\\lib\\site-packages (from IPython->jupyter-manim) (2.0.7)\n",
    "Requirement already satisfied: parso>=0.3.0 in d:\\venv\\.common\\lib\\site-packages (from jedi>=0.10->IPython->jupyter-manim) (0.3.2)\n",
    "Requirement already satisfied: six>=1.9.0 in d:\\venv\\.common\\lib\\site-packages (from prompt-toolkit<2.1.0,>=2.0.0->IPython->jupyter-manim) (1.12.0)\n",
    "Requirement already satisfied: wcwidth in d:\\venv\\.common\\lib\\site-packages (from prompt-toolkit<2.1.0,>=2.0.0->IPython->jupyter-manim) (0.1.7)\n",
    "Requirement already satisfied: ipython-genutils in d:\\venv\\.common\\lib\\site-packages (from traitlets>=4.2->IPython->jupyter-manim) (0.2.0)\n",
    "Requirement already satisfied: tqdm in d:\\venv\\.common\\lib\\site-packages (from manimlib->jupyter-manim) (4.32.2)\n",
    "Requirement already satisfied: pycairo in d:\\venv\\.common\\lib\\site-packages (from manimlib->jupyter-manim) (1.20.0)\n",
    "Requirement already satisfied: numpy in d:\\venv\\.common\\lib\\site-packages (from manimlib->jupyter-manim) (1.16.0)\n",
    "Requirement already satisfied: pyreadline in d:\\venv\\.common\\lib\\site-packages (from manimlib->jupyter-manim) (2.1)\n",
    "Requirement already satisfied: opencv-python in d:\\venv\\.common\\lib\\site-packages (from manimlib->jupyter-manim) (4.5.1.48)\n",
    "Requirement already satisfied: pydub in d:\\venv\\.common\\lib\\site-packages (from manimlib->jupyter-manim) (0.24.1)\n",
    "Requirement already satisfied: colour in d:\\venv\\.common\\lib\\site-packages (from manimlib->jupyter-manim) (0.1.5)\n",
    "Requirement already satisfied: Pillow in d:\\venv\\.common\\lib\\site-packages (from manimlib->jupyter-manim) (7.2.0)\n",
    "Requirement already satisfied: progressbar in d:\\venv\\.common\\lib\\site-packages (from manimlib->jupyter-manim) (2.5)\n",
    "Requirement already satisfied: scipy in d:\\venv\\.common\\lib\\site-packages (from manimlib->jupyter-manim) (1.2.0)\n",
    "Collecting argparse\n",
    "  Downloading http://mirrors.aliyun.com/pypi/packages/f2/94/3af39d34be01a24a6e65433d19e107099374224905f1e0cc6bbe1fd22a2f/argparse-1.4.0-py2.py3-none-any.whl (23 kB)\n",
    "Building wheels for collected packages: jupyter-manim\n",
    "  Building wheel for jupyter-manim (setup.py) ... done\n",
    "  Created wheel for jupyter-manim: filename=jupyter_manim-1.3-py3-none-any.whl size=6129 sha256=68c76efc157b44b67707414a5c9d4f493f7c2a427e21592e4b6d39afdad73eb3\n",
    "  Stored in directory: c:\\users\\syd\\appdata\\local\\pip\\cache\\wheels\\a6\\7e\\6f\\d2e56daae96a0efd1d5dc17d7c4a929921895cd67fa2d8296d\n",
    "Successfully built jupyter-manim\n",
    "Installing collected packages: argparse, jupyter-manim\n",
    "Successfully installed argparse-1.4.0 jupyter-manim-1.3\n",
    "```"
   ]
  },
  {
   "cell_type": "markdown",
   "metadata": {},
   "source": [
    "### 设置环境变量\n",
    "\n",
    "上面安装了一些windows软件, 然而我们的python想要调用这些软件(比如ffmpeg)需要将这些软件的安装路径配置到Path环境变量中。\n",
    "\n",
    "- 打开\"我的电脑\"的\"属性\""
   ]
  },
  {
   "cell_type": "markdown",
   "metadata": {},
   "source": [
    "<img src=\"images/ffmpeg03.png\">"
   ]
  },
  {
   "cell_type": "markdown",
   "metadata": {},
   "source": [
    "- 打开\"高级系统设置\"中的\"环境变量\""
   ]
  },
  {
   "cell_type": "markdown",
   "metadata": {},
   "source": [
    "<img src=\"images/ffmpeg04.png\">"
   ]
  },
  {
   "cell_type": "markdown",
   "metadata": {},
   "source": [
    "- 编辑\"Path\"这个变量, 然后新增\"ffmpeg\"的安装路径:"
   ]
  },
  {
   "cell_type": "markdown",
   "metadata": {},
   "source": [
    "<img src=\"images/ffmpeg05.png\">"
   ]
  },
  {
   "cell_type": "markdown",
   "metadata": {},
   "source": [
    "- 同样的方法添加sox的安装路径:"
   ]
  },
  {
   "cell_type": "markdown",
   "metadata": {},
   "source": [
    "<img src=\"images/sox03.png\">"
   ]
  },
  {
   "cell_type": "markdown",
   "metadata": {},
   "source": [
    "### 测试安装是否成功\n",
    "\n",
    "为了能使用魔法`%%manim`, 我们首先要引入 jupyter_manim:"
   ]
  },
  {
   "cell_type": "code",
   "execution_count": 1,
   "metadata": {},
   "outputs": [],
   "source": [
    "import jupyter_manim"
   ]
  },
  {
   "cell_type": "markdown",
   "metadata": {},
   "source": [
    "下面, `%%manim`就可以使用了, 我们测试一下:"
   ]
  },
  {
   "cell_type": "code",
   "execution_count": 2,
   "metadata": {},
   "outputs": [
    {
     "data": {
      "text/html": [
       "\n",
       "    <video\n",
       "      width=\"854\"\n",
       "      height=\"480\"\n",
       "      autoplay=\"autoplay\"\n",
       "      controls\n",
       "    >\n",
       "        <source src=\"media\\videos\\tmpgrwsenjf\\1440p60\\Shapes.mp4\" type=\"video/mp4\">\n",
       "    </video>\n",
       "    "
      ],
      "text/plain": [
       "<IPython.core.display.HTML object>"
      ]
     },
     "execution_count": 2,
     "metadata": {},
     "output_type": "execute_result"
    }
   ],
   "source": [
    "%%manim Shapes\n",
    "from manimlib.scene.scene import Scene\n",
    "from manimlib.mobject.geometry import Circle\n",
    "from manimlib.animation.creation import ShowCreation\n",
    "\n",
    "class Shapes(Scene):\n",
    "\n",
    "    def construct(self):\n",
    "        circle = Circle()\n",
    "        self.play(ShowCreation(circle))"
   ]
  }
 ],
 "metadata": {
  "kernelspec": {
   "display_name": "Python 3",
   "language": "python",
   "name": "python3"
  },
  "language_info": {
   "codemirror_mode": {
    "name": "ipython",
    "version": 3
   },
   "file_extension": ".py",
   "mimetype": "text/x-python",
   "name": "python",
   "nbconvert_exporter": "python",
   "pygments_lexer": "ipython3",
   "version": "3.6.5"
  }
 },
 "nbformat": 4,
 "nbformat_minor": 2
}
